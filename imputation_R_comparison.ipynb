{
 "cells": [
  {
   "cell_type": "code",
   "execution_count": 1,
   "id": "f8a137a7",
   "metadata": {},
   "outputs": [],
   "source": [
    "suppressWarnings(require('pkgmaker',quietly = T))\n",
    "require('plyr',quietly = T)\n",
    "l_ply(c('dplyr',\n",
    "        'data.table',\n",
    "        'tictoc',\n",
    "        'tidyr',  \n",
    "        'reshape2',\n",
    "        'factoextra',\n",
    "        'kableExtra',\n",
    "        'parallel',\n",
    "        'doParallel',\n",
    "        'scales',\n",
    "        'StatMatch',\n",
    "        'lattice',\n",
    "        'utils',\n",
    "        'missForest',\n",
    "        'VIM',\n",
    "        'pcaMethods',\n",
    "        'pacman',\n",
    "        'hablar',\n",
    "        'tibble'\n",
    "       ), function(pkg) {\n",
    "          invisible(capture.output(irequire(pkg, quiet = T, autoinstall = T)))\n",
    "        })"
   ]
  },
  {
   "cell_type": "code",
   "execution_count": 2,
   "id": "d8603c30",
   "metadata": {},
   "outputs": [],
   "source": [
    "prodNA <- function(x, noNA = 0.1){\n",
    "  n <- nrow(x)\n",
    "  p <- ncol(x)\n",
    "  NAloc <- rep(FALSE, n*p)\n",
    "  NAloc[sample(n * p, floor(n * p * noNA))] <- TRUE\n",
    "  x[matrix(NAloc, nrow = n, ncol = p)] <- NA\n",
    "  return(x)\n",
    "}"
   ]
  },
  {
   "cell_type": "code",
   "execution_count": 3,
   "id": "43ff51aa",
   "metadata": {},
   "outputs": [
    {
     "name": "stdout",
     "output_type": "stream",
     "text": [
      "[1] 317 295\n"
     ]
    },
    {
     "data": {
      "text/html": [
       "<table>\n",
       "<thead><tr><th></th><th scope=col>sp|A0AVT1|UBA6_HUMAN</th><th scope=col>sp|O00170|AIP_HUMAN</th><th scope=col>sp|O00299|CLIC1_HUMAN</th><th scope=col>sp|O00429|DNM1L_HUMAN</th><th scope=col>sp|O00483|NDUA4_HUMAN</th><th scope=col>sp|O00571|DDX3X_HUMAN</th><th scope=col>sp|O14828|SCAM3_HUMAN</th><th scope=col>sp|O14929|HAT1_HUMAN</th><th scope=col>sp|O15143|ARC1B_HUMAN</th><th scope=col>sp|O15145|ARPC3_HUMAN</th><th scope=col>...</th><th scope=col>sp|Q9Y230|RUVB2_HUMAN</th><th scope=col>sp|Q9Y285|SYFA_HUMAN</th><th scope=col>sp|Q9Y2B0|CNPY2_HUMAN</th><th scope=col>sp|Q9Y2X3|NOP58_HUMAN</th><th scope=col>sp|Q9Y383|LC7L2_HUMAN</th><th scope=col>sp|Q9Y4L1|HYOU1_HUMAN</th><th scope=col>sp|Q9Y5K5|UCHL5_HUMAN</th><th scope=col>sp|Q9Y5M8|SRPRB_HUMAN</th><th scope=col>sp|Q9Y5X3|SNX5_HUMAN</th><th scope=col>sp|Q9Y678|COPG1_HUMAN</th></tr></thead>\n",
       "<tbody>\n",
       "\t<tr><th scope=row>CTG-0158</th><td> 0.2093806 </td><td> 0.65302273</td><td>-1.0997903 </td><td>-0.6676739 </td><td>-0.4647837 </td><td>-1.1040398 </td><td> 1.064904  </td><td> 1.2123033 </td><td>-0.1051954 </td><td>0.2626795  </td><td>...        </td><td>-0.2250597 </td><td>-0.5820609 </td><td>0.1906079  </td><td>0.5237176  </td><td>0.9304869  </td><td> 1.9736444 </td><td>-0.1122720 </td><td>-0.27387703</td><td> 0.4041529 </td><td>0.4389799  </td></tr>\n",
       "\t<tr><th scope=row>CTG-0159</th><td>-0.1839989 </td><td>-0.01878222</td><td>-0.3120364 </td><td>-0.9488586 </td><td>-1.0432424 </td><td>-0.5989767 </td><td>-2.682560  </td><td>-0.3098403 </td><td> 0.3678152 </td><td>0.5056474  </td><td>...        </td><td> 0.7999883 </td><td>-0.2509652 </td><td>0.1577792  </td><td>0.4496930  </td><td>0.3787295  </td><td>-0.7937075 </td><td> 0.3066905 </td><td> 0.09551761</td><td>-0.8271938 </td><td>0.8381110  </td></tr>\n",
       "</tbody>\n",
       "</table>\n"
      ],
      "text/latex": [
       "\\begin{tabular}{r|lllllllllllllllllllllllllllllllllllllllllllllllllllllllllllllllllllllllllllllllllllllllllllllllllllllllllllllllllllllllllllllllllllllllllllllllllllllllllllllllllllllllllllllllllllllllllllllllllllllllllllllllllllllllllllllllllllllllllllllllllllllllllllllllllllllllllllllllllllllllllllllllllllllll}\n",
       "  & sp\\textbar{}A0AVT1\\textbar{}UBA6\\_HUMAN & sp\\textbar{}O00170\\textbar{}AIP\\_HUMAN & sp\\textbar{}O00299\\textbar{}CLIC1\\_HUMAN & sp\\textbar{}O00429\\textbar{}DNM1L\\_HUMAN & sp\\textbar{}O00483\\textbar{}NDUA4\\_HUMAN & sp\\textbar{}O00571\\textbar{}DDX3X\\_HUMAN & sp\\textbar{}O14828\\textbar{}SCAM3\\_HUMAN & sp\\textbar{}O14929\\textbar{}HAT1\\_HUMAN & sp\\textbar{}O15143\\textbar{}ARC1B\\_HUMAN & sp\\textbar{}O15145\\textbar{}ARPC3\\_HUMAN & ... & sp\\textbar{}Q9Y230\\textbar{}RUVB2\\_HUMAN & sp\\textbar{}Q9Y285\\textbar{}SYFA\\_HUMAN & sp\\textbar{}Q9Y2B0\\textbar{}CNPY2\\_HUMAN & sp\\textbar{}Q9Y2X3\\textbar{}NOP58\\_HUMAN & sp\\textbar{}Q9Y383\\textbar{}LC7L2\\_HUMAN & sp\\textbar{}Q9Y4L1\\textbar{}HYOU1\\_HUMAN & sp\\textbar{}Q9Y5K5\\textbar{}UCHL5\\_HUMAN & sp\\textbar{}Q9Y5M8\\textbar{}SRPRB\\_HUMAN & sp\\textbar{}Q9Y5X3\\textbar{}SNX5\\_HUMAN & sp\\textbar{}Q9Y678\\textbar{}COPG1\\_HUMAN\\\\\n",
       "\\hline\n",
       "\tCTG-0158 &  0.2093806  &  0.65302273 & -1.0997903  & -0.6676739  & -0.4647837  & -1.1040398  &  1.064904   &  1.2123033  & -0.1051954  & 0.2626795   & ...         & -0.2250597  & -0.5820609  & 0.1906079   & 0.5237176   & 0.9304869   &  1.9736444  & -0.1122720  & -0.27387703 &  0.4041529  & 0.4389799  \\\\\n",
       "\tCTG-0159 & -0.1839989  & -0.01878222 & -0.3120364  & -0.9488586  & -1.0432424  & -0.5989767  & -2.682560   & -0.3098403  &  0.3678152  & 0.5056474   & ...         &  0.7999883  & -0.2509652  & 0.1577792   & 0.4496930   & 0.3787295   & -0.7937075  &  0.3066905  &  0.09551761 & -0.8271938  & 0.8381110  \\\\\n",
       "\\end{tabular}\n"
      ],
      "text/markdown": [
       "\n",
       "| <!--/--> | sp|A0AVT1|UBA6_HUMAN | sp|O00170|AIP_HUMAN | sp|O00299|CLIC1_HUMAN | sp|O00429|DNM1L_HUMAN | sp|O00483|NDUA4_HUMAN | sp|O00571|DDX3X_HUMAN | sp|O14828|SCAM3_HUMAN | sp|O14929|HAT1_HUMAN | sp|O15143|ARC1B_HUMAN | sp|O15145|ARPC3_HUMAN | ... | sp|Q9Y230|RUVB2_HUMAN | sp|Q9Y285|SYFA_HUMAN | sp|Q9Y2B0|CNPY2_HUMAN | sp|Q9Y2X3|NOP58_HUMAN | sp|Q9Y383|LC7L2_HUMAN | sp|Q9Y4L1|HYOU1_HUMAN | sp|Q9Y5K5|UCHL5_HUMAN | sp|Q9Y5M8|SRPRB_HUMAN | sp|Q9Y5X3|SNX5_HUMAN | sp|Q9Y678|COPG1_HUMAN |\n",
       "|---|---|---|---|---|---|---|---|---|---|---|---|---|---|---|---|---|---|---|---|---|---|\n",
       "| CTG-0158 |  0.2093806  |  0.65302273 | -1.0997903  | -0.6676739  | -0.4647837  | -1.1040398  |  1.064904   |  1.2123033  | -0.1051954  | 0.2626795   | ...         | -0.2250597  | -0.5820609  | 0.1906079   | 0.5237176   | 0.9304869   |  1.9736444  | -0.1122720  | -0.27387703 |  0.4041529  | 0.4389799   |\n",
       "| CTG-0159 | -0.1839989  | -0.01878222 | -0.3120364  | -0.9488586  | -1.0432424  | -0.5989767  | -2.682560   | -0.3098403  |  0.3678152  | 0.5056474   | ...         |  0.7999883  | -0.2509652  | 0.1577792   | 0.4496930   | 0.3787295   | -0.7937075  |  0.3066905  |  0.09551761 | -0.8271938  | 0.8381110   |\n",
       "\n"
      ],
      "text/plain": [
       "         sp|A0AVT1|UBA6_HUMAN sp|O00170|AIP_HUMAN sp|O00299|CLIC1_HUMAN\n",
       "CTG-0158  0.2093806            0.65302273         -1.0997903           \n",
       "CTG-0159 -0.1839989           -0.01878222         -0.3120364           \n",
       "         sp|O00429|DNM1L_HUMAN sp|O00483|NDUA4_HUMAN sp|O00571|DDX3X_HUMAN\n",
       "CTG-0158 -0.6676739            -0.4647837            -1.1040398           \n",
       "CTG-0159 -0.9488586            -1.0432424            -0.5989767           \n",
       "         sp|O14828|SCAM3_HUMAN sp|O14929|HAT1_HUMAN sp|O15143|ARC1B_HUMAN\n",
       "CTG-0158  1.064904              1.2123033           -0.1051954           \n",
       "CTG-0159 -2.682560             -0.3098403            0.3678152           \n",
       "         sp|O15145|ARPC3_HUMAN ... sp|Q9Y230|RUVB2_HUMAN sp|Q9Y285|SYFA_HUMAN\n",
       "CTG-0158 0.2626795             ... -0.2250597            -0.5820609          \n",
       "CTG-0159 0.5056474             ...  0.7999883            -0.2509652          \n",
       "         sp|Q9Y2B0|CNPY2_HUMAN sp|Q9Y2X3|NOP58_HUMAN sp|Q9Y383|LC7L2_HUMAN\n",
       "CTG-0158 0.1906079             0.5237176             0.9304869            \n",
       "CTG-0159 0.1577792             0.4496930             0.3787295            \n",
       "         sp|Q9Y4L1|HYOU1_HUMAN sp|Q9Y5K5|UCHL5_HUMAN sp|Q9Y5M8|SRPRB_HUMAN\n",
       "CTG-0158  1.9736444            -0.1122720            -0.27387703          \n",
       "CTG-0159 -0.7937075             0.3066905             0.09551761          \n",
       "         sp|Q9Y5X3|SNX5_HUMAN sp|Q9Y678|COPG1_HUMAN\n",
       "CTG-0158  0.4041529           0.4389799            \n",
       "CTG-0159 -0.8271938           0.8381110            "
      ]
     },
     "metadata": {},
     "output_type": "display_data"
    }
   ],
   "source": [
    "int_z <- RNAseqData <- fread(\"./data/protein_intensity_zscore.csv\") %>% \n",
    "    column_to_rownames('V1')\n",
    "print(dim(int_z))\n",
    "head(int_z, 2)"
   ]
  },
  {
   "cell_type": "code",
   "execution_count": 4,
   "id": "73814566",
   "metadata": {},
   "outputs": [
    {
     "data": {
      "text/html": [
       "<table>\n",
       "<thead><tr><th scope=col>Random_Forest</th><th scope=col>kNN</th><th scope=col>Singular_Value_Decomposition</th><th scope=col>Bayesian_Model</th></tr></thead>\n",
       "<tbody>\n",
       "\t<tr><td>NA</td><td>NA</td><td>NA</td><td>NA</td></tr>\n",
       "\t<tr><td>NA</td><td>NA</td><td>NA</td><td>NA</td></tr>\n",
       "\t<tr><td>NA</td><td>NA</td><td>NA</td><td>NA</td></tr>\n",
       "\t<tr><td>NA</td><td>NA</td><td>NA</td><td>NA</td></tr>\n",
       "\t<tr><td>NA</td><td>NA</td><td>NA</td><td>NA</td></tr>\n",
       "</tbody>\n",
       "</table>\n"
      ],
      "text/latex": [
       "\\begin{tabular}{r|llll}\n",
       " Random\\_Forest & kNN & Singular\\_Value\\_Decomposition & Bayesian\\_Model\\\\\n",
       "\\hline\n",
       "\t NA & NA & NA & NA\\\\\n",
       "\t NA & NA & NA & NA\\\\\n",
       "\t NA & NA & NA & NA\\\\\n",
       "\t NA & NA & NA & NA\\\\\n",
       "\t NA & NA & NA & NA\\\\\n",
       "\\end{tabular}\n"
      ],
      "text/markdown": [
       "\n",
       "| Random_Forest | kNN | Singular_Value_Decomposition | Bayesian_Model |\n",
       "|---|---|---|---|\n",
       "| NA | NA | NA | NA |\n",
       "| NA | NA | NA | NA |\n",
       "| NA | NA | NA | NA |\n",
       "| NA | NA | NA | NA |\n",
       "| NA | NA | NA | NA |\n",
       "\n"
      ],
      "text/plain": [
       "  Random_Forest kNN Singular_Value_Decomposition Bayesian_Model\n",
       "1 NA            NA  NA                           NA            \n",
       "2 NA            NA  NA                           NA            \n",
       "3 NA            NA  NA                           NA            \n",
       "4 NA            NA  NA                           NA            \n",
       "5 NA            NA  NA                           NA            "
      ]
     },
     "metadata": {},
     "output_type": "display_data"
    }
   ],
   "source": [
    "n_round <- 5\n",
    "columns= c(\"Random_Forest\", \"kNN\", \"Singular_Value_Decomposition\", \"Bayesian_Model\") \n",
    "scores = data.frame(matrix(nrow = n_round, ncol = length(columns)))\n",
    "colnames(scores) = columns\n",
    "scores"
   ]
  },
  {
   "cell_type": "code",
   "execution_count": 5,
   "id": "eae98aa8",
   "metadata": {},
   "outputs": [
    {
     "name": "stdout",
     "output_type": "stream",
     "text": [
      "  |                                                  |   0%  missForest iteration 1 in progress...done!\n",
      "  missForest iteration 2 in progress...done!\n",
      "  missForest iteration 3 in progress...done!\n",
      "  missForest iteration 4 in progress...done!\n",
      "  |==========                                        |  20%  missForest iteration 1 in progress...done!\n",
      "  missForest iteration 2 in progress...done!\n",
      "  missForest iteration 3 in progress...done!\n",
      "  missForest iteration 4 in progress...done!\n",
      "  |====================                              |  40%  missForest iteration 1 in progress...done!\n",
      "  missForest iteration 2 in progress...done!\n",
      "  missForest iteration 3 in progress...done!\n",
      "  missForest iteration 4 in progress...done!\n",
      "  missForest iteration 5 in progress...done!\n",
      "  missForest iteration 6 in progress...done!\n",
      "  missForest iteration 7 in progress...done!\n",
      "  |==============================                    |  60%  missForest iteration 1 in progress...done!\n",
      "  missForest iteration 2 in progress...done!\n",
      "  missForest iteration 3 in progress...done!\n",
      "  missForest iteration 4 in progress...done!\n",
      "  |========================================          |  80%  missForest iteration 1 in progress...done!\n",
      "  missForest iteration 2 in progress...done!\n",
      "  missForest iteration 3 in progress...done!\n",
      "  missForest iteration 4 in progress...done!\n",
      "  missForest iteration 5 in progress...done!\n",
      "  |==================================================| 100%"
     ]
    },
    {
     "data": {
      "text/html": [
       "<table>\n",
       "<thead><tr><th scope=col>Random_Forest</th><th scope=col>kNN</th><th scope=col>Singular_Value_Decomposition</th><th scope=col>Bayesian_Model</th></tr></thead>\n",
       "<tbody>\n",
       "\t<tr><td>0.5845051</td><td>0.6790997</td><td>NaN      </td><td>NaN      </td></tr>\n",
       "\t<tr><td>0.6046860</td><td>0.6957348</td><td>NaN      </td><td>NaN      </td></tr>\n",
       "\t<tr><td>0.6000733</td><td>0.6929203</td><td>NaN      </td><td>NaN      </td></tr>\n",
       "\t<tr><td>0.5919605</td><td>0.6944777</td><td>NaN      </td><td>NaN      </td></tr>\n",
       "\t<tr><td>0.6090384</td><td>0.6979003</td><td>NaN      </td><td>NaN      </td></tr>\n",
       "</tbody>\n",
       "</table>\n"
      ],
      "text/latex": [
       "\\begin{tabular}{r|llll}\n",
       " Random\\_Forest & kNN & Singular\\_Value\\_Decomposition & Bayesian\\_Model\\\\\n",
       "\\hline\n",
       "\t 0.5845051 & 0.6790997 & NaN       & NaN      \\\\\n",
       "\t 0.6046860 & 0.6957348 & NaN       & NaN      \\\\\n",
       "\t 0.6000733 & 0.6929203 & NaN       & NaN      \\\\\n",
       "\t 0.5919605 & 0.6944777 & NaN       & NaN      \\\\\n",
       "\t 0.6090384 & 0.6979003 & NaN       & NaN      \\\\\n",
       "\\end{tabular}\n"
      ],
      "text/markdown": [
       "\n",
       "| Random_Forest | kNN | Singular_Value_Decomposition | Bayesian_Model |\n",
       "|---|---|---|---|\n",
       "| 0.5845051 | 0.6790997 | NaN       | NaN       |\n",
       "| 0.6046860 | 0.6957348 | NaN       | NaN       |\n",
       "| 0.6000733 | 0.6929203 | NaN       | NaN       |\n",
       "| 0.5919605 | 0.6944777 | NaN       | NaN       |\n",
       "| 0.6090384 | 0.6979003 | NaN       | NaN       |\n",
       "\n"
      ],
      "text/plain": [
       "  Random_Forest kNN       Singular_Value_Decomposition Bayesian_Model\n",
       "1 0.5845051     0.6790997 NaN                          NaN           \n",
       "2 0.6046860     0.6957348 NaN                          NaN           \n",
       "3 0.6000733     0.6929203 NaN                          NaN           \n",
       "4 0.5919605     0.6944777 NaN                          NaN           \n",
       "5 0.6090384     0.6979003 NaN                          NaN           "
      ]
     },
     "metadata": {},
     "output_type": "display_data"
    }
   ],
   "source": [
    "# Initializes the progress bar\n",
    "pb <- txtProgressBar(min = 0,      # Minimum value of the progress bar\n",
    "                     max = n_round, # Maximum value of the progress bar\n",
    "                     style = 2,    # Progress bar style (also available style = 1 and style = 2)\n",
    "                     width = 50,   # Progress bar width. Defaults to getOption(\"width\")\n",
    "                     char = \"=\")   # Character used to create the bar\n",
    "\n",
    "for (i in 1:n_round){\n",
    "    set.seed(i)\n",
    "    int_mis <- prodNA(int_z, noNA = 0.1)\n",
    "    # random forest\n",
    "    imp <- missForest(int_mis)\n",
    "    scores[i, 1] <- missForest::nrmse(ximp = imp$ximp, xmis = int_mis, xtrue = int_z)\n",
    "    # knn\n",
    "    imp <- kNN(int_mis, k = 6)\n",
    "    scores[i, 2] <- missForest::nrmse(ximp = imp[, 1: dim(int_z)[2]], \n",
    "                                      xmis = int_mis, xtrue = int_z)\n",
    "    # svd\n",
    "    imp <- as.data.frame(completeObs(pca(int_mis, method=\"svdImpute\", center = TRUE)))\n",
    "    scores[i, 3] <- missForest::nrmse(ximp = imp, xmis = int_mis, xtrue = int_z)\n",
    "    # bpca\n",
    "    imp <- as.data.frame(completeObs(pca(int_mis, method=\"bpca\", center = TRUE)))\n",
    "    scores[i, 4] <- missForest::nrmse(ximp = imp, xmis = int_mis, xtrue = int_z)\n",
    "    \n",
    "    # Sets the progress bar to the current state\n",
    "    setTxtProgressBar(pb, i)\n",
    "}\n",
    "close(pb)\n",
    "scores"
   ]
  },
  {
   "cell_type": "code",
   "execution_count": 6,
   "id": "e748689d",
   "metadata": {},
   "outputs": [],
   "source": [
    "write.csv(x=scores, file=\"./data/imputation_RMSE.csv\", row.names=TRUE)"
   ]
  }
 ],
 "metadata": {
  "kernelspec": {
   "display_name": "R",
   "language": "R",
   "name": "ir"
  },
  "language_info": {
   "codemirror_mode": "r",
   "file_extension": ".r",
   "mimetype": "text/x-r-source",
   "name": "R",
   "pygments_lexer": "r",
   "version": "3.6.1"
  }
 },
 "nbformat": 4,
 "nbformat_minor": 5
}

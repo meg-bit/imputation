{
 "cells": [
  {
   "cell_type": "code",
   "execution_count": 32,
   "id": "e103e923",
   "metadata": {},
   "outputs": [],
   "source": [
    "suppressWarnings(require('pkgmaker',quietly = T))\n",
    "require('plyr',quietly = T)\n",
    "l_ply(c('dplyr',\n",
    "        'data.table',\n",
    "#         'jsonlite', \n",
    "#         'rjson',\n",
    "#         'httr',\n",
    "#         'DEqMS', \n",
    "#         'pcaMethods',\n",
    "#         'RMariaDB',\n",
    "#         'parmigene',\n",
    "#         'matrixTests',\n",
    "#         'plotly',\n",
    "        'tictoc',\n",
    "        'tidyr',  \n",
    "        'reshape2',\n",
    "        'factoextra',\n",
    "        'kableExtra',\n",
    "        'parallel',\n",
    "        'doParallel',\n",
    "        'scales',\n",
    "        'StatMatch',\n",
    "        'lattice',\n",
    "        'utils',\n",
    "        'missMDA',\n",
    "        'missForest',\n",
    "        'VIM',\n",
    "        'pacman',\n",
    "        'hablar',\n",
    "        'tibble'\n",
    "       ), function(pkg) {\n",
    "          invisible(capture.output(irequire(pkg, quiet = T, autoinstall = T)))\n",
    "        })"
   ]
  },
  {
   "cell_type": "markdown",
   "id": "9cfba8ab",
   "metadata": {},
   "source": [
    "## Protein_intensity table"
   ]
  },
  {
   "cell_type": "markdown",
   "id": "fc1a022f",
   "metadata": {},
   "source": [
    "From /general_analysis/DataBaseUpload/NGS/Proteomics/bin/PhosphoProteomics_PreProccess.html:\n",
    "\n",
    "Outlayiers: very low/high values (0.0001% and 99.9999%) were floored to these ranges. This believed to be an error and unlikely to be real value.\n",
    "\n",
    "Possible reason: the original data have Inf. The R language calculated it to some extreme values."
   ]
  },
  {
   "cell_type": "code",
   "execution_count": 13,
   "id": "79372130",
   "metadata": {},
   "outputs": [],
   "source": [
    "# from /general_analysis/DataBaseUpload/NGS/Proteomics/bin/PhosphoProteomics_PreProccess.html\n",
    "# `Counts` are just 2 to the power of Intensity. This is for DE analysis where counts are needed\n",
    "# note: without filtering, the dimension is 1330824 rows\n",
    "intensity <- read.csv(\"../proteomics/data/Protein_intensity.csv\") \n",
    "# %>% filter(Intensity > -3.0) # remove values that are too small - think if this is necessary"
   ]
  },
  {
   "cell_type": "code",
   "execution_count": 12,
   "id": "25a0900f",
   "metadata": {},
   "outputs": [
    {
     "data": {
      "text/html": [
       "<table>\n",
       "<thead><tr><th scope=col>id</th><th scope=col>Protein</th><th scope=col>ProteinGroup</th><th scope=col>ProteinGroupName</th><th scope=col>ProteinGroupId</th><th scope=col>Organism</th><th scope=col>Sample</th><th scope=col>Intensity</th><th scope=col>counts</th><th scope=col>hgnc_symbol</th></tr></thead>\n",
       "<tbody>\n",
       "\t<tr><td>45243                    </td><td>sp|A0A087WV62|TVB16_HUMAN</td><td>sp|A0A087WV62|TVB16_HUMAN</td><td>TVB16_HUMAN              </td><td>A0A087WV62               </td><td>NULL                     </td><td>CTG-0158                 </td><td>15.503                   </td><td>NULL                     </td><td>NULL                     </td></tr>\n",
       "\t<tr><td>45244                    </td><td>sp|A0A087WV62|TVB16_HUMAN</td><td>sp|A0A087WV62|TVB16_HUMAN</td><td>TVB16_HUMAN              </td><td>A0A087WV62               </td><td>NULL                     </td><td>CTG-0159                 </td><td>14.932                   </td><td>NULL                     </td><td>NULL                     </td></tr>\n",
       "</tbody>\n",
       "</table>\n"
      ],
      "text/latex": [
       "\\begin{tabular}{r|llllllllll}\n",
       " id & Protein & ProteinGroup & ProteinGroupName & ProteinGroupId & Organism & Sample & Intensity & counts & hgnc\\_symbol\\\\\n",
       "\\hline\n",
       "\t 45243                                           & sp\\textbar{}A0A087WV62\\textbar{}TVB16\\_HUMAN & sp\\textbar{}A0A087WV62\\textbar{}TVB16\\_HUMAN & TVB16\\_HUMAN                                   & A0A087WV62                                      & NULL                                            & CTG-0158                                        & 15.503                                          & NULL                                            & NULL                                           \\\\\n",
       "\t 45244                                           & sp\\textbar{}A0A087WV62\\textbar{}TVB16\\_HUMAN & sp\\textbar{}A0A087WV62\\textbar{}TVB16\\_HUMAN & TVB16\\_HUMAN                                   & A0A087WV62                                      & NULL                                            & CTG-0159                                        & 14.932                                          & NULL                                            & NULL                                           \\\\\n",
       "\\end{tabular}\n"
      ],
      "text/markdown": [
       "\n",
       "| id | Protein | ProteinGroup | ProteinGroupName | ProteinGroupId | Organism | Sample | Intensity | counts | hgnc_symbol |\n",
       "|---|---|---|---|---|---|---|---|---|---|\n",
       "| 45243                     | sp|A0A087WV62|TVB16_HUMAN | sp|A0A087WV62|TVB16_HUMAN | TVB16_HUMAN               | A0A087WV62                | NULL                      | CTG-0158                  | 15.503                    | NULL                      | NULL                      |\n",
       "| 45244                     | sp|A0A087WV62|TVB16_HUMAN | sp|A0A087WV62|TVB16_HUMAN | TVB16_HUMAN               | A0A087WV62                | NULL                      | CTG-0159                  | 14.932                    | NULL                      | NULL                      |\n",
       "\n"
      ],
      "text/plain": [
       "  id    Protein                   ProteinGroup              ProteinGroupName\n",
       "1 45243 sp|A0A087WV62|TVB16_HUMAN sp|A0A087WV62|TVB16_HUMAN TVB16_HUMAN     \n",
       "2 45244 sp|A0A087WV62|TVB16_HUMAN sp|A0A087WV62|TVB16_HUMAN TVB16_HUMAN     \n",
       "  ProteinGroupId Organism Sample   Intensity counts hgnc_symbol\n",
       "1 A0A087WV62     NULL     CTG-0158 15.503    NULL   NULL       \n",
       "2 A0A087WV62     NULL     CTG-0159 14.932    NULL   NULL       "
      ]
     },
     "metadata": {},
     "output_type": "display_data"
    },
    {
     "name": "stdout",
     "output_type": "stream",
     "text": [
      "[1] 1330824      10\n"
     ]
    }
   ],
   "source": [
    "head(intensity, 2)\n",
    "print(dim(intensity))"
   ]
  },
  {
   "cell_type": "code",
   "execution_count": 2,
   "id": "4b7e3a69",
   "metadata": {
    "scrolled": true
   },
   "outputs": [],
   "source": [
    "# intensity[intensity$Sample=='CTG-0166',]"
   ]
  },
  {
   "cell_type": "code",
   "execution_count": 3,
   "id": "58ae14a5",
   "metadata": {},
   "outputs": [],
   "source": [
    "# # check a case where there are repeats\n",
    "# # The intensity was not calculated differently between GAL3A and GAL3B\n",
    "# x <- intensity[intensity$Protein=='sp|A0A0B4J2D5|GAL3B_HUMAN',]\n",
    "# x[x$Sample=='CTG-0158',]"
   ]
  },
  {
   "cell_type": "code",
   "execution_count": 19,
   "id": "83423d93",
   "metadata": {},
   "outputs": [
    {
     "data": {
      "text/html": [
       "<table>\n",
       "<thead><tr><th></th><th scope=col>sp|A0AVT1|UBA6_HUMAN</th><th scope=col>sp|O00170|AIP_HUMAN</th><th scope=col>sp|O00299|CLIC1_HUMAN</th><th scope=col>sp|O00429|DNM1L_HUMAN</th><th scope=col>sp|O00483|NDUA4_HUMAN</th><th scope=col>sp|O00571|DDX3X_HUMAN</th><th scope=col>sp|O14828|SCAM3_HUMAN</th><th scope=col>sp|O14929|HAT1_HUMAN</th><th scope=col>sp|O15143|ARC1B_HUMAN</th><th scope=col>sp|O15145|ARPC3_HUMAN</th><th scope=col>...</th><th scope=col>sp|Q9Y230|RUVB2_HUMAN</th><th scope=col>sp|Q9Y285|SYFA_HUMAN</th><th scope=col>sp|Q9Y2B0|CNPY2_HUMAN</th><th scope=col>sp|Q9Y2X3|NOP58_HUMAN</th><th scope=col>sp|Q9Y383|LC7L2_HUMAN</th><th scope=col>sp|Q9Y4L1|HYOU1_HUMAN</th><th scope=col>sp|Q9Y5K5|UCHL5_HUMAN</th><th scope=col>sp|Q9Y5M8|SRPRB_HUMAN</th><th scope=col>sp|Q9Y5X3|SNX5_HUMAN</th><th scope=col>sp|Q9Y678|COPG1_HUMAN</th></tr></thead>\n",
       "<tbody>\n",
       "\t<tr><th scope=row>CTG-0158</th><td>16.977</td><td>17.204</td><td>19.893</td><td>16.449</td><td>17.447</td><td>17.986</td><td>17.925</td><td>18.063</td><td>15.901</td><td>19.330</td><td>...   </td><td>18.845</td><td>16.672</td><td>18.265</td><td>18.357</td><td>18.928</td><td>20.587</td><td>17.358</td><td>16.812</td><td>17.509</td><td>18.347</td></tr>\n",
       "\t<tr><th scope=row>CTG-0159</th><td>16.611</td><td>16.658</td><td>20.509</td><td>16.127</td><td>16.884</td><td>18.454</td><td>14.645</td><td>16.471</td><td>16.668</td><td>19.493</td><td>...   </td><td>19.536</td><td>17.021</td><td>18.243</td><td>18.290</td><td>18.476</td><td>18.608</td><td>17.688</td><td>17.074</td><td>16.614</td><td>18.666</td></tr>\n",
       "</tbody>\n",
       "</table>\n"
      ],
      "text/latex": [
       "\\begin{tabular}{r|lllllllllllllllllllllllllllllllllllllllllllllllllllllllllllllllllllllllllllllllllllllllllllllllllllllllllllllllllllllllllllllllllllllllllllllllllllllllllllllllllllllllllllllllllllllllllllllllllllllllllllllllllllllllllllllllllllllllllllllllllllllllllllllllllllllllllllllllllllllllllllllllllllllll}\n",
       "  & sp\\textbar{}A0AVT1\\textbar{}UBA6\\_HUMAN & sp\\textbar{}O00170\\textbar{}AIP\\_HUMAN & sp\\textbar{}O00299\\textbar{}CLIC1\\_HUMAN & sp\\textbar{}O00429\\textbar{}DNM1L\\_HUMAN & sp\\textbar{}O00483\\textbar{}NDUA4\\_HUMAN & sp\\textbar{}O00571\\textbar{}DDX3X\\_HUMAN & sp\\textbar{}O14828\\textbar{}SCAM3\\_HUMAN & sp\\textbar{}O14929\\textbar{}HAT1\\_HUMAN & sp\\textbar{}O15143\\textbar{}ARC1B\\_HUMAN & sp\\textbar{}O15145\\textbar{}ARPC3\\_HUMAN & ... & sp\\textbar{}Q9Y230\\textbar{}RUVB2\\_HUMAN & sp\\textbar{}Q9Y285\\textbar{}SYFA\\_HUMAN & sp\\textbar{}Q9Y2B0\\textbar{}CNPY2\\_HUMAN & sp\\textbar{}Q9Y2X3\\textbar{}NOP58\\_HUMAN & sp\\textbar{}Q9Y383\\textbar{}LC7L2\\_HUMAN & sp\\textbar{}Q9Y4L1\\textbar{}HYOU1\\_HUMAN & sp\\textbar{}Q9Y5K5\\textbar{}UCHL5\\_HUMAN & sp\\textbar{}Q9Y5M8\\textbar{}SRPRB\\_HUMAN & sp\\textbar{}Q9Y5X3\\textbar{}SNX5\\_HUMAN & sp\\textbar{}Q9Y678\\textbar{}COPG1\\_HUMAN\\\\\n",
       "\\hline\n",
       "\tCTG-0158 & 16.977 & 17.204 & 19.893 & 16.449 & 17.447 & 17.986 & 17.925 & 18.063 & 15.901 & 19.330 & ...    & 18.845 & 16.672 & 18.265 & 18.357 & 18.928 & 20.587 & 17.358 & 16.812 & 17.509 & 18.347\\\\\n",
       "\tCTG-0159 & 16.611 & 16.658 & 20.509 & 16.127 & 16.884 & 18.454 & 14.645 & 16.471 & 16.668 & 19.493 & ...    & 19.536 & 17.021 & 18.243 & 18.290 & 18.476 & 18.608 & 17.688 & 17.074 & 16.614 & 18.666\\\\\n",
       "\\end{tabular}\n"
      ],
      "text/markdown": [
       "\n",
       "| <!--/--> | sp|A0AVT1|UBA6_HUMAN | sp|O00170|AIP_HUMAN | sp|O00299|CLIC1_HUMAN | sp|O00429|DNM1L_HUMAN | sp|O00483|NDUA4_HUMAN | sp|O00571|DDX3X_HUMAN | sp|O14828|SCAM3_HUMAN | sp|O14929|HAT1_HUMAN | sp|O15143|ARC1B_HUMAN | sp|O15145|ARPC3_HUMAN | ... | sp|Q9Y230|RUVB2_HUMAN | sp|Q9Y285|SYFA_HUMAN | sp|Q9Y2B0|CNPY2_HUMAN | sp|Q9Y2X3|NOP58_HUMAN | sp|Q9Y383|LC7L2_HUMAN | sp|Q9Y4L1|HYOU1_HUMAN | sp|Q9Y5K5|UCHL5_HUMAN | sp|Q9Y5M8|SRPRB_HUMAN | sp|Q9Y5X3|SNX5_HUMAN | sp|Q9Y678|COPG1_HUMAN |\n",
       "|---|---|---|---|---|---|---|---|---|---|---|---|---|---|---|---|---|---|---|---|---|---|\n",
       "| CTG-0158 | 16.977 | 17.204 | 19.893 | 16.449 | 17.447 | 17.986 | 17.925 | 18.063 | 15.901 | 19.330 | ...    | 18.845 | 16.672 | 18.265 | 18.357 | 18.928 | 20.587 | 17.358 | 16.812 | 17.509 | 18.347 |\n",
       "| CTG-0159 | 16.611 | 16.658 | 20.509 | 16.127 | 16.884 | 18.454 | 14.645 | 16.471 | 16.668 | 19.493 | ...    | 19.536 | 17.021 | 18.243 | 18.290 | 18.476 | 18.608 | 17.688 | 17.074 | 16.614 | 18.666 |\n",
       "\n"
      ],
      "text/plain": [
       "         sp|A0AVT1|UBA6_HUMAN sp|O00170|AIP_HUMAN sp|O00299|CLIC1_HUMAN\n",
       "CTG-0158 16.977               17.204              19.893               \n",
       "CTG-0159 16.611               16.658              20.509               \n",
       "         sp|O00429|DNM1L_HUMAN sp|O00483|NDUA4_HUMAN sp|O00571|DDX3X_HUMAN\n",
       "CTG-0158 16.449                17.447                17.986               \n",
       "CTG-0159 16.127                16.884                18.454               \n",
       "         sp|O14828|SCAM3_HUMAN sp|O14929|HAT1_HUMAN sp|O15143|ARC1B_HUMAN\n",
       "CTG-0158 17.925                18.063               15.901               \n",
       "CTG-0159 14.645                16.471               16.668               \n",
       "         sp|O15145|ARPC3_HUMAN ... sp|Q9Y230|RUVB2_HUMAN sp|Q9Y285|SYFA_HUMAN\n",
       "CTG-0158 19.330                ... 18.845                16.672              \n",
       "CTG-0159 19.493                ... 19.536                17.021              \n",
       "         sp|Q9Y2B0|CNPY2_HUMAN sp|Q9Y2X3|NOP58_HUMAN sp|Q9Y383|LC7L2_HUMAN\n",
       "CTG-0158 18.265                18.357                18.928               \n",
       "CTG-0159 18.243                18.290                18.476               \n",
       "         sp|Q9Y4L1|HYOU1_HUMAN sp|Q9Y5K5|UCHL5_HUMAN sp|Q9Y5M8|SRPRB_HUMAN\n",
       "CTG-0158 20.587                17.358                16.812               \n",
       "CTG-0159 18.608                17.688                17.074               \n",
       "         sp|Q9Y5X3|SNX5_HUMAN sp|Q9Y678|COPG1_HUMAN\n",
       "CTG-0158 17.509               18.347               \n",
       "CTG-0159 16.614               18.666               "
      ]
     },
     "metadata": {},
     "output_type": "display_data"
    },
    {
     "name": "stdout",
     "output_type": "stream",
     "text": [
      "[1] 317 295\n"
     ]
    }
   ],
   "source": [
    "int_mtx <- intensity %>% \n",
    "    select(c('ProteinGroup', 'Sample', 'Intensity'))  %>% \n",
    "    pivot_wider(names_from = Sample, values_from = Intensity, values_fn = mean) %>% \n",
    "#     pivot_wider(names_from = Sample, values_from = Intensity)\n",
    "    column_to_rownames('ProteinGroup') %>% \n",
    "    na.omit %>% \n",
    "    t\n",
    "head(int_mtx, 2)\n",
    "print(dim(int_mtx))"
   ]
  },
  {
   "cell_type": "code",
   "execution_count": 9,
   "id": "33b1cb6e",
   "metadata": {},
   "outputs": [],
   "source": [
    "rm(intensity)  # release memory since using int_mtx from here on"
   ]
  },
  {
   "cell_type": "markdown",
   "id": "18e9e20b",
   "metadata": {},
   "source": [
    "The intensity is already in log-scale because it has negative values."
   ]
  },
  {
   "cell_type": "markdown",
   "id": "6b14f7cf",
   "metadata": {},
   "source": [
    "## Standardize the data before imputation\n",
    "\n",
    "*Standardizing the data makes it more interpretable for the errors after imputation.*\n",
    "\n",
    "Missing values in proteomic data can be generally characterized into missing at random (MAR) and missing not at random (MNAR). \n",
    "+ MAR missing values mostly result from technical limitations and stochastic fluctuations in an abundance-independent manner.\n",
    "+ MNAR missing values are more abundance-dependent that can be explained by the measurability of the corresponding peptides. \n",
    "\n",
    "Missing values in proteomic data are a mixture of MAR and MNAR. Although the real proportion is difficult to determine, it is believed that MNAR plays a dominant role in producing missing values."
   ]
  },
  {
   "cell_type": "code",
   "execution_count": 20,
   "id": "78f86493",
   "metadata": {},
   "outputs": [
    {
     "data": {
      "text/html": [
       "<table>\n",
       "<thead><tr><th></th><th scope=col>sp|A0AVT1|UBA6_HUMAN</th><th scope=col>sp|O00170|AIP_HUMAN</th><th scope=col>sp|O00299|CLIC1_HUMAN</th><th scope=col>sp|O00429|DNM1L_HUMAN</th><th scope=col>sp|O00483|NDUA4_HUMAN</th><th scope=col>sp|O00571|DDX3X_HUMAN</th><th scope=col>sp|O14828|SCAM3_HUMAN</th><th scope=col>sp|O14929|HAT1_HUMAN</th><th scope=col>sp|O15143|ARC1B_HUMAN</th><th scope=col>sp|O15145|ARPC3_HUMAN</th><th scope=col>...</th><th scope=col>sp|Q9Y230|RUVB2_HUMAN</th><th scope=col>sp|Q9Y285|SYFA_HUMAN</th><th scope=col>sp|Q9Y2B0|CNPY2_HUMAN</th><th scope=col>sp|Q9Y2X3|NOP58_HUMAN</th><th scope=col>sp|Q9Y383|LC7L2_HUMAN</th><th scope=col>sp|Q9Y4L1|HYOU1_HUMAN</th><th scope=col>sp|Q9Y5K5|UCHL5_HUMAN</th><th scope=col>sp|Q9Y5M8|SRPRB_HUMAN</th><th scope=col>sp|Q9Y5X3|SNX5_HUMAN</th><th scope=col>sp|Q9Y678|COPG1_HUMAN</th></tr></thead>\n",
       "<tbody>\n",
       "\t<tr><th scope=row>CTG-0158</th><td> 0.2093806 </td><td> 0.65302273</td><td>-1.0997903 </td><td>-0.6676739 </td><td>-0.4647837 </td><td>-1.1040398 </td><td> 1.064904  </td><td> 1.2123033 </td><td>-0.1051954 </td><td>0.2626795  </td><td>...        </td><td>-0.2250597 </td><td>-0.5820609 </td><td>0.1906079  </td><td>0.5237176  </td><td>0.9304869  </td><td> 1.9736444 </td><td>-0.1122720 </td><td>-0.27387703</td><td> 0.4041529 </td><td>0.4389799  </td></tr>\n",
       "\t<tr><th scope=row>CTG-0159</th><td>-0.1839989 </td><td>-0.01878222</td><td>-0.3120364 </td><td>-0.9488586 </td><td>-1.0432424 </td><td>-0.5989767 </td><td>-2.682560  </td><td>-0.3098403 </td><td> 0.3678152 </td><td>0.5056474  </td><td>...        </td><td> 0.7999883 </td><td>-0.2509652 </td><td>0.1577792  </td><td>0.4496930  </td><td>0.3787295  </td><td>-0.7937075 </td><td> 0.3066905 </td><td> 0.09551761</td><td>-0.8271938 </td><td>0.8381110  </td></tr>\n",
       "</tbody>\n",
       "</table>\n"
      ],
      "text/latex": [
       "\\begin{tabular}{r|lllllllllllllllllllllllllllllllllllllllllllllllllllllllllllllllllllllllllllllllllllllllllllllllllllllllllllllllllllllllllllllllllllllllllllllllllllllllllllllllllllllllllllllllllllllllllllllllllllllllllllllllllllllllllllllllllllllllllllllllllllllllllllllllllllllllllllllllllllllllllllllllllllllll}\n",
       "  & sp\\textbar{}A0AVT1\\textbar{}UBA6\\_HUMAN & sp\\textbar{}O00170\\textbar{}AIP\\_HUMAN & sp\\textbar{}O00299\\textbar{}CLIC1\\_HUMAN & sp\\textbar{}O00429\\textbar{}DNM1L\\_HUMAN & sp\\textbar{}O00483\\textbar{}NDUA4\\_HUMAN & sp\\textbar{}O00571\\textbar{}DDX3X\\_HUMAN & sp\\textbar{}O14828\\textbar{}SCAM3\\_HUMAN & sp\\textbar{}O14929\\textbar{}HAT1\\_HUMAN & sp\\textbar{}O15143\\textbar{}ARC1B\\_HUMAN & sp\\textbar{}O15145\\textbar{}ARPC3\\_HUMAN & ... & sp\\textbar{}Q9Y230\\textbar{}RUVB2\\_HUMAN & sp\\textbar{}Q9Y285\\textbar{}SYFA\\_HUMAN & sp\\textbar{}Q9Y2B0\\textbar{}CNPY2\\_HUMAN & sp\\textbar{}Q9Y2X3\\textbar{}NOP58\\_HUMAN & sp\\textbar{}Q9Y383\\textbar{}LC7L2\\_HUMAN & sp\\textbar{}Q9Y4L1\\textbar{}HYOU1\\_HUMAN & sp\\textbar{}Q9Y5K5\\textbar{}UCHL5\\_HUMAN & sp\\textbar{}Q9Y5M8\\textbar{}SRPRB\\_HUMAN & sp\\textbar{}Q9Y5X3\\textbar{}SNX5\\_HUMAN & sp\\textbar{}Q9Y678\\textbar{}COPG1\\_HUMAN\\\\\n",
       "\\hline\n",
       "\tCTG-0158 &  0.2093806  &  0.65302273 & -1.0997903  & -0.6676739  & -0.4647837  & -1.1040398  &  1.064904   &  1.2123033  & -0.1051954  & 0.2626795   & ...         & -0.2250597  & -0.5820609  & 0.1906079   & 0.5237176   & 0.9304869   &  1.9736444  & -0.1122720  & -0.27387703 &  0.4041529  & 0.4389799  \\\\\n",
       "\tCTG-0159 & -0.1839989  & -0.01878222 & -0.3120364  & -0.9488586  & -1.0432424  & -0.5989767  & -2.682560   & -0.3098403  &  0.3678152  & 0.5056474   & ...         &  0.7999883  & -0.2509652  & 0.1577792   & 0.4496930   & 0.3787295   & -0.7937075  &  0.3066905  &  0.09551761 & -0.8271938  & 0.8381110  \\\\\n",
       "\\end{tabular}\n"
      ],
      "text/markdown": [
       "\n",
       "| <!--/--> | sp|A0AVT1|UBA6_HUMAN | sp|O00170|AIP_HUMAN | sp|O00299|CLIC1_HUMAN | sp|O00429|DNM1L_HUMAN | sp|O00483|NDUA4_HUMAN | sp|O00571|DDX3X_HUMAN | sp|O14828|SCAM3_HUMAN | sp|O14929|HAT1_HUMAN | sp|O15143|ARC1B_HUMAN | sp|O15145|ARPC3_HUMAN | ... | sp|Q9Y230|RUVB2_HUMAN | sp|Q9Y285|SYFA_HUMAN | sp|Q9Y2B0|CNPY2_HUMAN | sp|Q9Y2X3|NOP58_HUMAN | sp|Q9Y383|LC7L2_HUMAN | sp|Q9Y4L1|HYOU1_HUMAN | sp|Q9Y5K5|UCHL5_HUMAN | sp|Q9Y5M8|SRPRB_HUMAN | sp|Q9Y5X3|SNX5_HUMAN | sp|Q9Y678|COPG1_HUMAN |\n",
       "|---|---|---|---|---|---|---|---|---|---|---|---|---|---|---|---|---|---|---|---|---|---|\n",
       "| CTG-0158 |  0.2093806  |  0.65302273 | -1.0997903  | -0.6676739  | -0.4647837  | -1.1040398  |  1.064904   |  1.2123033  | -0.1051954  | 0.2626795   | ...         | -0.2250597  | -0.5820609  | 0.1906079   | 0.5237176   | 0.9304869   |  1.9736444  | -0.1122720  | -0.27387703 |  0.4041529  | 0.4389799   |\n",
       "| CTG-0159 | -0.1839989  | -0.01878222 | -0.3120364  | -0.9488586  | -1.0432424  | -0.5989767  | -2.682560   | -0.3098403  |  0.3678152  | 0.5056474   | ...         |  0.7999883  | -0.2509652  | 0.1577792   | 0.4496930   | 0.3787295   | -0.7937075  |  0.3066905  |  0.09551761 | -0.8271938  | 0.8381110   |\n",
       "\n"
      ],
      "text/plain": [
       "         sp|A0AVT1|UBA6_HUMAN sp|O00170|AIP_HUMAN sp|O00299|CLIC1_HUMAN\n",
       "CTG-0158  0.2093806            0.65302273         -1.0997903           \n",
       "CTG-0159 -0.1839989           -0.01878222         -0.3120364           \n",
       "         sp|O00429|DNM1L_HUMAN sp|O00483|NDUA4_HUMAN sp|O00571|DDX3X_HUMAN\n",
       "CTG-0158 -0.6676739            -0.4647837            -1.1040398           \n",
       "CTG-0159 -0.9488586            -1.0432424            -0.5989767           \n",
       "         sp|O14828|SCAM3_HUMAN sp|O14929|HAT1_HUMAN sp|O15143|ARC1B_HUMAN\n",
       "CTG-0158  1.064904              1.2123033           -0.1051954           \n",
       "CTG-0159 -2.682560             -0.3098403            0.3678152           \n",
       "         sp|O15145|ARPC3_HUMAN ... sp|Q9Y230|RUVB2_HUMAN sp|Q9Y285|SYFA_HUMAN\n",
       "CTG-0158 0.2626795             ... -0.2250597            -0.5820609          \n",
       "CTG-0159 0.5056474             ...  0.7999883            -0.2509652          \n",
       "         sp|Q9Y2B0|CNPY2_HUMAN sp|Q9Y2X3|NOP58_HUMAN sp|Q9Y383|LC7L2_HUMAN\n",
       "CTG-0158 0.1906079             0.5237176             0.9304869            \n",
       "CTG-0159 0.1577792             0.4496930             0.3787295            \n",
       "         sp|Q9Y4L1|HYOU1_HUMAN sp|Q9Y5K5|UCHL5_HUMAN sp|Q9Y5M8|SRPRB_HUMAN\n",
       "CTG-0158  1.9736444            -0.1122720            -0.27387703          \n",
       "CTG-0159 -0.7937075             0.3066905             0.09551761          \n",
       "         sp|Q9Y5X3|SNX5_HUMAN sp|Q9Y678|COPG1_HUMAN\n",
       "CTG-0158  0.4041529           0.4389799            \n",
       "CTG-0159 -0.8271938           0.8381110            "
      ]
     },
     "metadata": {},
     "output_type": "display_data"
    }
   ],
   "source": [
    "int_z <- int_mtx %>%\n",
    "    sweep(2, apply(int_mtx, 2, mean), '-')  %>% # column wise sweeping\n",
    "    sweep(2, apply(int_mtx, 2, sd), '/')\n",
    "head(int_z, 2)"
   ]
  },
  {
   "cell_type": "markdown",
   "id": "8de19871",
   "metadata": {},
   "source": [
    "Save the the data here, so we do not need to generate it every time."
   ]
  },
  {
   "cell_type": "markdown",
   "id": "e9df2585",
   "metadata": {},
   "source": [
    "## Create a table with missing values"
   ]
  },
  {
   "cell_type": "code",
   "execution_count": 22,
   "id": "a643f122",
   "metadata": {},
   "outputs": [],
   "source": [
    "int_mis <- prodNA(int_z, noNA = 0.1)"
   ]
  },
  {
   "cell_type": "code",
   "execution_count": 26,
   "id": "5caee502",
   "metadata": {
    "scrolled": true
   },
   "outputs": [],
   "source": [
    "# summary(int_mis)"
   ]
  },
  {
   "cell_type": "code",
   "execution_count": 28,
   "id": "279babfb",
   "metadata": {},
   "outputs": [
    {
     "data": {
      "text/html": [
       "-12.0776518296886"
      ],
      "text/latex": [
       "-12.0776518296886"
      ],
      "text/markdown": [
       "-12.0776518296886"
      ],
      "text/plain": [
       "[1] -12.07765"
      ]
     },
     "metadata": {},
     "output_type": "display_data"
    }
   ],
   "source": [
    "min(unlist(int_mis), na.rm = TRUE)"
   ]
  },
  {
   "cell_type": "code",
   "execution_count": 29,
   "id": "e91e2ce3",
   "metadata": {},
   "outputs": [
    {
     "data": {
      "text/html": [
       "5.83883088153446"
      ],
      "text/latex": [
       "5.83883088153446"
      ],
      "text/markdown": [
       "5.83883088153446"
      ],
      "text/plain": [
       "[1] 5.838831"
      ]
     },
     "metadata": {},
     "output_type": "display_data"
    }
   ],
   "source": [
    "max(unlist(int_mis), na.rm = TRUE)"
   ]
  },
  {
   "cell_type": "markdown",
   "id": "24248f1f",
   "metadata": {},
   "source": [
    "## Imputation - random forest\n",
    "\n",
    "Notice the function assumes that the columns are features and rows are samples."
   ]
  },
  {
   "cell_type": "code",
   "execution_count": 23,
   "id": "a5c8bc39",
   "metadata": {},
   "outputs": [
    {
     "name": "stdout",
     "output_type": "stream",
     "text": [
      "  missForest iteration 1 in progress...done!\n",
      "  missForest iteration 2 in progress...done!\n",
      "  missForest iteration 3 in progress...done!\n",
      "  missForest iteration 4 in progress...done!\n"
     ]
    }
   ],
   "source": [
    "imp_rf <- missForest(int_mis)"
   ]
  },
  {
   "cell_type": "code",
   "execution_count": 24,
   "id": "4874b810",
   "metadata": {},
   "outputs": [
    {
     "data": {
      "text/html": [
       "<strong>NRMSE:</strong> 0.601408976379481"
      ],
      "text/latex": [
       "\\textbf{NRMSE:} 0.601408976379481"
      ],
      "text/markdown": [
       "**NRMSE:** 0.601408976379481"
      ],
      "text/plain": [
       "   NRMSE \n",
       "0.601409 "
      ]
     },
     "metadata": {},
     "output_type": "display_data"
    }
   ],
   "source": [
    "imp_rf$OOBerror"
   ]
  },
  {
   "cell_type": "code",
   "execution_count": null,
   "id": "16b617c5",
   "metadata": {},
   "outputs": [],
   "source": [
    "# tictoc::tic(\"RF\")\n",
    "# tmp <- missForest(ion_miss[[i]])\n",
    "# tmp2 <- toc()\n",
    "# time.table$RF[i] <- as.numeric(tmp2$toc - tmp2$tic)"
   ]
  },
  {
   "cell_type": "markdown",
   "id": "29b9fec8",
   "metadata": {},
   "source": [
    "## Imputation - kNN"
   ]
  },
  {
   "cell_type": "code",
   "execution_count": 33,
   "id": "75031932",
   "metadata": {},
   "outputs": [],
   "source": [
    "imp_knn <- kNN(int_mis, k = 6)"
   ]
  },
  {
   "cell_type": "markdown",
   "id": "5597b41e",
   "metadata": {},
   "source": [
    "Calculate NRMSE for kNN and compare with missForest (with 10 rounds of random removal of values)."
   ]
  }
 ],
 "metadata": {
  "kernelspec": {
   "display_name": "R",
   "language": "R",
   "name": "ir"
  },
  "language_info": {
   "codemirror_mode": "r",
   "file_extension": ".r",
   "mimetype": "text/x-r-source",
   "name": "R",
   "pygments_lexer": "r",
   "version": "3.6.1"
  }
 },
 "nbformat": 4,
 "nbformat_minor": 5
}

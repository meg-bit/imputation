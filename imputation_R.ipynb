{
 "cells": [
  {
   "cell_type": "code",
   "execution_count": 1,
   "id": "e103e923",
   "metadata": {},
   "outputs": [],
   "source": [
    "suppressWarnings(require('pkgmaker',quietly = T))\n",
    "require('plyr',quietly = T)\n",
    "l_ply(c('dplyr',\n",
    "        'data.table',\n",
    "#         'jsonlite', \n",
    "#         'rjson',\n",
    "#         'httr',\n",
    "#         'DEqMS', \n",
    "#         'RMariaDB',\n",
    "#         'parmigene',\n",
    "#         'matrixTests',\n",
    "#         'plotly',\n",
    "        'tictoc',\n",
    "        'tidyr',  \n",
    "        'reshape2',\n",
    "        'factoextra',\n",
    "        'kableExtra',\n",
    "        'parallel',\n",
    "        'doParallel',\n",
    "        'scales',\n",
    "        'StatMatch',\n",
    "        'lattice',\n",
    "        'utils',\n",
    "        'missForest',\n",
    "        'VIM',\n",
    "        'pcaMethods',\n",
    "        'pacman',\n",
    "        'hablar',\n",
    "        'tibble'\n",
    "       ), function(pkg) {\n",
    "          invisible(capture.output(irequire(pkg, quiet = T, autoinstall = T)))\n",
    "        })"
   ]
  },
  {
   "cell_type": "markdown",
   "id": "9cfba8ab",
   "metadata": {},
   "source": [
    "## Protein_intensity table"
   ]
  },
  {
   "cell_type": "markdown",
   "id": "fc1a022f",
   "metadata": {},
   "source": [
    "From /general_analysis/DataBaseUpload/NGS/Proteomics/bin/PhosphoProteomics_PreProccess.html:\n",
    "\n",
    "Outlayiers: very low/high values (0.0001% and 99.9999%) were floored to these ranges. This believed to be an error and unlikely to be real value.\n",
    "\n",
    "Possible reason: the original data have Inf. The R language calculated it to some extreme values."
   ]
  },
  {
   "cell_type": "code",
   "execution_count": 2,
   "id": "79372130",
   "metadata": {},
   "outputs": [],
   "source": [
    "# # from /general_analysis/DataBaseUpload/NGS/Proteomics/bin/PhosphoProteomics_PreProccess.html\n",
    "# # `Counts` are just 2 to the power of Intensity. This is for DE analysis where counts are needed\n",
    "# # note: without filtering, the dimension is 1330824 rows\n",
    "# intensity <- read.csv(\"../proteomics/data/Protein_intensity.csv\") \n",
    "# # %>% filter(Intensity > -3.0) # remove values that are too small - think if this is necessary"
   ]
  },
  {
   "cell_type": "code",
   "execution_count": 3,
   "id": "25a0900f",
   "metadata": {},
   "outputs": [
    {
     "data": {
      "text/html": [
       "<table>\n",
       "<thead><tr><th scope=col>id</th><th scope=col>Protein</th><th scope=col>ProteinGroup</th><th scope=col>ProteinGroupName</th><th scope=col>ProteinGroupId</th><th scope=col>Organism</th><th scope=col>Sample</th><th scope=col>Intensity</th><th scope=col>counts</th><th scope=col>hgnc_symbol</th></tr></thead>\n",
       "<tbody>\n",
       "\t<tr><td>45243                    </td><td>sp|A0A087WV62|TVB16_HUMAN</td><td>sp|A0A087WV62|TVB16_HUMAN</td><td>TVB16_HUMAN              </td><td>A0A087WV62               </td><td>NULL                     </td><td>CTG-0158                 </td><td>15.503                   </td><td>NULL                     </td><td>NULL                     </td></tr>\n",
       "\t<tr><td>45244                    </td><td>sp|A0A087WV62|TVB16_HUMAN</td><td>sp|A0A087WV62|TVB16_HUMAN</td><td>TVB16_HUMAN              </td><td>A0A087WV62               </td><td>NULL                     </td><td>CTG-0159                 </td><td>14.932                   </td><td>NULL                     </td><td>NULL                     </td></tr>\n",
       "</tbody>\n",
       "</table>\n"
      ],
      "text/latex": [
       "\\begin{tabular}{r|llllllllll}\n",
       " id & Protein & ProteinGroup & ProteinGroupName & ProteinGroupId & Organism & Sample & Intensity & counts & hgnc\\_symbol\\\\\n",
       "\\hline\n",
       "\t 45243                                           & sp\\textbar{}A0A087WV62\\textbar{}TVB16\\_HUMAN & sp\\textbar{}A0A087WV62\\textbar{}TVB16\\_HUMAN & TVB16\\_HUMAN                                   & A0A087WV62                                      & NULL                                            & CTG-0158                                        & 15.503                                          & NULL                                            & NULL                                           \\\\\n",
       "\t 45244                                           & sp\\textbar{}A0A087WV62\\textbar{}TVB16\\_HUMAN & sp\\textbar{}A0A087WV62\\textbar{}TVB16\\_HUMAN & TVB16\\_HUMAN                                   & A0A087WV62                                      & NULL                                            & CTG-0159                                        & 14.932                                          & NULL                                            & NULL                                           \\\\\n",
       "\\end{tabular}\n"
      ],
      "text/markdown": [
       "\n",
       "| id | Protein | ProteinGroup | ProteinGroupName | ProteinGroupId | Organism | Sample | Intensity | counts | hgnc_symbol |\n",
       "|---|---|---|---|---|---|---|---|---|---|\n",
       "| 45243                     | sp|A0A087WV62|TVB16_HUMAN | sp|A0A087WV62|TVB16_HUMAN | TVB16_HUMAN               | A0A087WV62                | NULL                      | CTG-0158                  | 15.503                    | NULL                      | NULL                      |\n",
       "| 45244                     | sp|A0A087WV62|TVB16_HUMAN | sp|A0A087WV62|TVB16_HUMAN | TVB16_HUMAN               | A0A087WV62                | NULL                      | CTG-0159                  | 14.932                    | NULL                      | NULL                      |\n",
       "\n"
      ],
      "text/plain": [
       "  id    Protein                   ProteinGroup              ProteinGroupName\n",
       "1 45243 sp|A0A087WV62|TVB16_HUMAN sp|A0A087WV62|TVB16_HUMAN TVB16_HUMAN     \n",
       "2 45244 sp|A0A087WV62|TVB16_HUMAN sp|A0A087WV62|TVB16_HUMAN TVB16_HUMAN     \n",
       "  ProteinGroupId Organism Sample   Intensity counts hgnc_symbol\n",
       "1 A0A087WV62     NULL     CTG-0158 15.503    NULL   NULL       \n",
       "2 A0A087WV62     NULL     CTG-0159 14.932    NULL   NULL       "
      ]
     },
     "metadata": {},
     "output_type": "display_data"
    },
    {
     "name": "stdout",
     "output_type": "stream",
     "text": [
      "[1] 1330824      10\n"
     ]
    }
   ],
   "source": [
    "# head(intensity, 2)\n",
    "# print(dim(intensity))"
   ]
  },
  {
   "cell_type": "code",
   "execution_count": 4,
   "id": "4b7e3a69",
   "metadata": {
    "scrolled": true
   },
   "outputs": [],
   "source": [
    "# intensity[intensity$Sample=='CTG-0166',]"
   ]
  },
  {
   "cell_type": "code",
   "execution_count": 5,
   "id": "58ae14a5",
   "metadata": {},
   "outputs": [],
   "source": [
    "# # check a case where there are repeats\n",
    "# # The intensity was not calculated differently between GAL3A and GAL3B\n",
    "# x <- intensity[intensity$Protein=='sp|A0A0B4J2D5|GAL3B_HUMAN',]\n",
    "# x[x$Sample=='CTG-0158',]"
   ]
  },
  {
   "cell_type": "code",
   "execution_count": 6,
   "id": "83423d93",
   "metadata": {},
   "outputs": [
    {
     "data": {
      "text/html": [
       "<table>\n",
       "<thead><tr><th></th><th scope=col>sp|A0AVT1|UBA6_HUMAN</th><th scope=col>sp|O00170|AIP_HUMAN</th><th scope=col>sp|O00299|CLIC1_HUMAN</th><th scope=col>sp|O00429|DNM1L_HUMAN</th><th scope=col>sp|O00483|NDUA4_HUMAN</th><th scope=col>sp|O00571|DDX3X_HUMAN</th><th scope=col>sp|O14828|SCAM3_HUMAN</th><th scope=col>sp|O14929|HAT1_HUMAN</th><th scope=col>sp|O15143|ARC1B_HUMAN</th><th scope=col>sp|O15145|ARPC3_HUMAN</th><th scope=col>...</th><th scope=col>sp|Q9Y230|RUVB2_HUMAN</th><th scope=col>sp|Q9Y285|SYFA_HUMAN</th><th scope=col>sp|Q9Y2B0|CNPY2_HUMAN</th><th scope=col>sp|Q9Y2X3|NOP58_HUMAN</th><th scope=col>sp|Q9Y383|LC7L2_HUMAN</th><th scope=col>sp|Q9Y4L1|HYOU1_HUMAN</th><th scope=col>sp|Q9Y5K5|UCHL5_HUMAN</th><th scope=col>sp|Q9Y5M8|SRPRB_HUMAN</th><th scope=col>sp|Q9Y5X3|SNX5_HUMAN</th><th scope=col>sp|Q9Y678|COPG1_HUMAN</th></tr></thead>\n",
       "<tbody>\n",
       "\t<tr><th scope=row>CTG-0158</th><td>16.977</td><td>17.204</td><td>19.893</td><td>16.449</td><td>17.447</td><td>17.986</td><td>17.925</td><td>18.063</td><td>15.901</td><td>19.330</td><td>...   </td><td>18.845</td><td>16.672</td><td>18.265</td><td>18.357</td><td>18.928</td><td>20.587</td><td>17.358</td><td>16.812</td><td>17.509</td><td>18.347</td></tr>\n",
       "\t<tr><th scope=row>CTG-0159</th><td>16.611</td><td>16.658</td><td>20.509</td><td>16.127</td><td>16.884</td><td>18.454</td><td>14.645</td><td>16.471</td><td>16.668</td><td>19.493</td><td>...   </td><td>19.536</td><td>17.021</td><td>18.243</td><td>18.290</td><td>18.476</td><td>18.608</td><td>17.688</td><td>17.074</td><td>16.614</td><td>18.666</td></tr>\n",
       "</tbody>\n",
       "</table>\n"
      ],
      "text/latex": [
       "\\begin{tabular}{r|lllllllllllllllllllllllllllllllllllllllllllllllllllllllllllllllllllllllllllllllllllllllllllllllllllllllllllllllllllllllllllllllllllllllllllllllllllllllllllllllllllllllllllllllllllllllllllllllllllllllllllllllllllllllllllllllllllllllllllllllllllllllllllllllllllllllllllllllllllllllllllllllllllllll}\n",
       "  & sp\\textbar{}A0AVT1\\textbar{}UBA6\\_HUMAN & sp\\textbar{}O00170\\textbar{}AIP\\_HUMAN & sp\\textbar{}O00299\\textbar{}CLIC1\\_HUMAN & sp\\textbar{}O00429\\textbar{}DNM1L\\_HUMAN & sp\\textbar{}O00483\\textbar{}NDUA4\\_HUMAN & sp\\textbar{}O00571\\textbar{}DDX3X\\_HUMAN & sp\\textbar{}O14828\\textbar{}SCAM3\\_HUMAN & sp\\textbar{}O14929\\textbar{}HAT1\\_HUMAN & sp\\textbar{}O15143\\textbar{}ARC1B\\_HUMAN & sp\\textbar{}O15145\\textbar{}ARPC3\\_HUMAN & ... & sp\\textbar{}Q9Y230\\textbar{}RUVB2\\_HUMAN & sp\\textbar{}Q9Y285\\textbar{}SYFA\\_HUMAN & sp\\textbar{}Q9Y2B0\\textbar{}CNPY2\\_HUMAN & sp\\textbar{}Q9Y2X3\\textbar{}NOP58\\_HUMAN & sp\\textbar{}Q9Y383\\textbar{}LC7L2\\_HUMAN & sp\\textbar{}Q9Y4L1\\textbar{}HYOU1\\_HUMAN & sp\\textbar{}Q9Y5K5\\textbar{}UCHL5\\_HUMAN & sp\\textbar{}Q9Y5M8\\textbar{}SRPRB\\_HUMAN & sp\\textbar{}Q9Y5X3\\textbar{}SNX5\\_HUMAN & sp\\textbar{}Q9Y678\\textbar{}COPG1\\_HUMAN\\\\\n",
       "\\hline\n",
       "\tCTG-0158 & 16.977 & 17.204 & 19.893 & 16.449 & 17.447 & 17.986 & 17.925 & 18.063 & 15.901 & 19.330 & ...    & 18.845 & 16.672 & 18.265 & 18.357 & 18.928 & 20.587 & 17.358 & 16.812 & 17.509 & 18.347\\\\\n",
       "\tCTG-0159 & 16.611 & 16.658 & 20.509 & 16.127 & 16.884 & 18.454 & 14.645 & 16.471 & 16.668 & 19.493 & ...    & 19.536 & 17.021 & 18.243 & 18.290 & 18.476 & 18.608 & 17.688 & 17.074 & 16.614 & 18.666\\\\\n",
       "\\end{tabular}\n"
      ],
      "text/markdown": [
       "\n",
       "| <!--/--> | sp|A0AVT1|UBA6_HUMAN | sp|O00170|AIP_HUMAN | sp|O00299|CLIC1_HUMAN | sp|O00429|DNM1L_HUMAN | sp|O00483|NDUA4_HUMAN | sp|O00571|DDX3X_HUMAN | sp|O14828|SCAM3_HUMAN | sp|O14929|HAT1_HUMAN | sp|O15143|ARC1B_HUMAN | sp|O15145|ARPC3_HUMAN | ... | sp|Q9Y230|RUVB2_HUMAN | sp|Q9Y285|SYFA_HUMAN | sp|Q9Y2B0|CNPY2_HUMAN | sp|Q9Y2X3|NOP58_HUMAN | sp|Q9Y383|LC7L2_HUMAN | sp|Q9Y4L1|HYOU1_HUMAN | sp|Q9Y5K5|UCHL5_HUMAN | sp|Q9Y5M8|SRPRB_HUMAN | sp|Q9Y5X3|SNX5_HUMAN | sp|Q9Y678|COPG1_HUMAN |\n",
       "|---|---|---|---|---|---|---|---|---|---|---|---|---|---|---|---|---|---|---|---|---|---|\n",
       "| CTG-0158 | 16.977 | 17.204 | 19.893 | 16.449 | 17.447 | 17.986 | 17.925 | 18.063 | 15.901 | 19.330 | ...    | 18.845 | 16.672 | 18.265 | 18.357 | 18.928 | 20.587 | 17.358 | 16.812 | 17.509 | 18.347 |\n",
       "| CTG-0159 | 16.611 | 16.658 | 20.509 | 16.127 | 16.884 | 18.454 | 14.645 | 16.471 | 16.668 | 19.493 | ...    | 19.536 | 17.021 | 18.243 | 18.290 | 18.476 | 18.608 | 17.688 | 17.074 | 16.614 | 18.666 |\n",
       "\n"
      ],
      "text/plain": [
       "         sp|A0AVT1|UBA6_HUMAN sp|O00170|AIP_HUMAN sp|O00299|CLIC1_HUMAN\n",
       "CTG-0158 16.977               17.204              19.893               \n",
       "CTG-0159 16.611               16.658              20.509               \n",
       "         sp|O00429|DNM1L_HUMAN sp|O00483|NDUA4_HUMAN sp|O00571|DDX3X_HUMAN\n",
       "CTG-0158 16.449                17.447                17.986               \n",
       "CTG-0159 16.127                16.884                18.454               \n",
       "         sp|O14828|SCAM3_HUMAN sp|O14929|HAT1_HUMAN sp|O15143|ARC1B_HUMAN\n",
       "CTG-0158 17.925                18.063               15.901               \n",
       "CTG-0159 14.645                16.471               16.668               \n",
       "         sp|O15145|ARPC3_HUMAN ... sp|Q9Y230|RUVB2_HUMAN sp|Q9Y285|SYFA_HUMAN\n",
       "CTG-0158 19.330                ... 18.845                16.672              \n",
       "CTG-0159 19.493                ... 19.536                17.021              \n",
       "         sp|Q9Y2B0|CNPY2_HUMAN sp|Q9Y2X3|NOP58_HUMAN sp|Q9Y383|LC7L2_HUMAN\n",
       "CTG-0158 18.265                18.357                18.928               \n",
       "CTG-0159 18.243                18.290                18.476               \n",
       "         sp|Q9Y4L1|HYOU1_HUMAN sp|Q9Y5K5|UCHL5_HUMAN sp|Q9Y5M8|SRPRB_HUMAN\n",
       "CTG-0158 20.587                17.358                16.812               \n",
       "CTG-0159 18.608                17.688                17.074               \n",
       "         sp|Q9Y5X3|SNX5_HUMAN sp|Q9Y678|COPG1_HUMAN\n",
       "CTG-0158 17.509               18.347               \n",
       "CTG-0159 16.614               18.666               "
      ]
     },
     "metadata": {},
     "output_type": "display_data"
    },
    {
     "name": "stdout",
     "output_type": "stream",
     "text": [
      "[1] 317 295\n"
     ]
    }
   ],
   "source": [
    "# int_mtx <- intensity %>% \n",
    "#     select(c('ProteinGroup', 'Sample', 'Intensity'))  %>% \n",
    "#     pivot_wider(names_from = Sample, values_from = Intensity, values_fn = mean) %>% \n",
    "# #     pivot_wider(names_from = Sample, values_from = Intensity)\n",
    "#     column_to_rownames('ProteinGroup') %>% \n",
    "#     na.omit %>% \n",
    "#     t\n",
    "# head(int_mtx, 2)\n",
    "# print(dim(int_mtx))"
   ]
  },
  {
   "cell_type": "code",
   "execution_count": 7,
   "id": "39a36695",
   "metadata": {},
   "outputs": [],
   "source": [
    "# rm(intensity)  # release memory since using int_mtx from here on"
   ]
  },
  {
   "cell_type": "markdown",
   "id": "18e9e20b",
   "metadata": {},
   "source": [
    "The intensity is already in log-scale because it has negative values."
   ]
  },
  {
   "cell_type": "markdown",
   "id": "6b14f7cf",
   "metadata": {},
   "source": [
    "## Standardize the data before imputation\n",
    "\n",
    "*Standardizing the data makes it more interpretable for the errors after imputation.*\n",
    "\n",
    "Missing values in proteomic data can be generally characterized into missing at random (MAR) and missing not at random (MNAR). \n",
    "+ MAR missing values mostly result from technical limitations and stochastic fluctuations in an abundance-independent manner.\n",
    "+ MNAR missing values are more abundance-dependent that can be explained by the measurability of the corresponding peptides. \n",
    "\n",
    "Missing values in proteomic data are a mixture of MAR and MNAR. Although the real proportion is difficult to determine, it is believed that MNAR plays a dominant role in producing missing values."
   ]
  },
  {
   "cell_type": "code",
   "execution_count": 8,
   "id": "51cca760",
   "metadata": {},
   "outputs": [
    {
     "data": {
      "text/html": [
       "<table>\n",
       "<thead><tr><th></th><th scope=col>sp|A0AVT1|UBA6_HUMAN</th><th scope=col>sp|O00170|AIP_HUMAN</th><th scope=col>sp|O00299|CLIC1_HUMAN</th><th scope=col>sp|O00429|DNM1L_HUMAN</th><th scope=col>sp|O00483|NDUA4_HUMAN</th><th scope=col>sp|O00571|DDX3X_HUMAN</th><th scope=col>sp|O14828|SCAM3_HUMAN</th><th scope=col>sp|O14929|HAT1_HUMAN</th><th scope=col>sp|O15143|ARC1B_HUMAN</th><th scope=col>sp|O15145|ARPC3_HUMAN</th><th scope=col>...</th><th scope=col>sp|Q9Y230|RUVB2_HUMAN</th><th scope=col>sp|Q9Y285|SYFA_HUMAN</th><th scope=col>sp|Q9Y2B0|CNPY2_HUMAN</th><th scope=col>sp|Q9Y2X3|NOP58_HUMAN</th><th scope=col>sp|Q9Y383|LC7L2_HUMAN</th><th scope=col>sp|Q9Y4L1|HYOU1_HUMAN</th><th scope=col>sp|Q9Y5K5|UCHL5_HUMAN</th><th scope=col>sp|Q9Y5M8|SRPRB_HUMAN</th><th scope=col>sp|Q9Y5X3|SNX5_HUMAN</th><th scope=col>sp|Q9Y678|COPG1_HUMAN</th></tr></thead>\n",
       "<tbody>\n",
       "\t<tr><th scope=row>CTG-0158</th><td> 0.2093806 </td><td> 0.65302273</td><td>-1.0997903 </td><td>-0.6676739 </td><td>-0.4647837 </td><td>-1.1040398 </td><td> 1.064904  </td><td> 1.2123033 </td><td>-0.1051954 </td><td>0.2626795  </td><td>...        </td><td>-0.2250597 </td><td>-0.5820609 </td><td>0.1906079  </td><td>0.5237176  </td><td>0.9304869  </td><td> 1.9736444 </td><td>-0.1122720 </td><td>-0.27387703</td><td> 0.4041529 </td><td>0.4389799  </td></tr>\n",
       "\t<tr><th scope=row>CTG-0159</th><td>-0.1839989 </td><td>-0.01878222</td><td>-0.3120364 </td><td>-0.9488586 </td><td>-1.0432424 </td><td>-0.5989767 </td><td>-2.682560  </td><td>-0.3098403 </td><td> 0.3678152 </td><td>0.5056474  </td><td>...        </td><td> 0.7999883 </td><td>-0.2509652 </td><td>0.1577792  </td><td>0.4496930  </td><td>0.3787295  </td><td>-0.7937075 </td><td> 0.3066905 </td><td> 0.09551761</td><td>-0.8271938 </td><td>0.8381110  </td></tr>\n",
       "</tbody>\n",
       "</table>\n"
      ],
      "text/latex": [
       "\\begin{tabular}{r|lllllllllllllllllllllllllllllllllllllllllllllllllllllllllllllllllllllllllllllllllllllllllllllllllllllllllllllllllllllllllllllllllllllllllllllllllllllllllllllllllllllllllllllllllllllllllllllllllllllllllllllllllllllllllllllllllllllllllllllllllllllllllllllllllllllllllllllllllllllllllllllllllllllll}\n",
       "  & sp\\textbar{}A0AVT1\\textbar{}UBA6\\_HUMAN & sp\\textbar{}O00170\\textbar{}AIP\\_HUMAN & sp\\textbar{}O00299\\textbar{}CLIC1\\_HUMAN & sp\\textbar{}O00429\\textbar{}DNM1L\\_HUMAN & sp\\textbar{}O00483\\textbar{}NDUA4\\_HUMAN & sp\\textbar{}O00571\\textbar{}DDX3X\\_HUMAN & sp\\textbar{}O14828\\textbar{}SCAM3\\_HUMAN & sp\\textbar{}O14929\\textbar{}HAT1\\_HUMAN & sp\\textbar{}O15143\\textbar{}ARC1B\\_HUMAN & sp\\textbar{}O15145\\textbar{}ARPC3\\_HUMAN & ... & sp\\textbar{}Q9Y230\\textbar{}RUVB2\\_HUMAN & sp\\textbar{}Q9Y285\\textbar{}SYFA\\_HUMAN & sp\\textbar{}Q9Y2B0\\textbar{}CNPY2\\_HUMAN & sp\\textbar{}Q9Y2X3\\textbar{}NOP58\\_HUMAN & sp\\textbar{}Q9Y383\\textbar{}LC7L2\\_HUMAN & sp\\textbar{}Q9Y4L1\\textbar{}HYOU1\\_HUMAN & sp\\textbar{}Q9Y5K5\\textbar{}UCHL5\\_HUMAN & sp\\textbar{}Q9Y5M8\\textbar{}SRPRB\\_HUMAN & sp\\textbar{}Q9Y5X3\\textbar{}SNX5\\_HUMAN & sp\\textbar{}Q9Y678\\textbar{}COPG1\\_HUMAN\\\\\n",
       "\\hline\n",
       "\tCTG-0158 &  0.2093806  &  0.65302273 & -1.0997903  & -0.6676739  & -0.4647837  & -1.1040398  &  1.064904   &  1.2123033  & -0.1051954  & 0.2626795   & ...         & -0.2250597  & -0.5820609  & 0.1906079   & 0.5237176   & 0.9304869   &  1.9736444  & -0.1122720  & -0.27387703 &  0.4041529  & 0.4389799  \\\\\n",
       "\tCTG-0159 & -0.1839989  & -0.01878222 & -0.3120364  & -0.9488586  & -1.0432424  & -0.5989767  & -2.682560   & -0.3098403  &  0.3678152  & 0.5056474   & ...         &  0.7999883  & -0.2509652  & 0.1577792   & 0.4496930   & 0.3787295   & -0.7937075  &  0.3066905  &  0.09551761 & -0.8271938  & 0.8381110  \\\\\n",
       "\\end{tabular}\n"
      ],
      "text/markdown": [
       "\n",
       "| <!--/--> | sp|A0AVT1|UBA6_HUMAN | sp|O00170|AIP_HUMAN | sp|O00299|CLIC1_HUMAN | sp|O00429|DNM1L_HUMAN | sp|O00483|NDUA4_HUMAN | sp|O00571|DDX3X_HUMAN | sp|O14828|SCAM3_HUMAN | sp|O14929|HAT1_HUMAN | sp|O15143|ARC1B_HUMAN | sp|O15145|ARPC3_HUMAN | ... | sp|Q9Y230|RUVB2_HUMAN | sp|Q9Y285|SYFA_HUMAN | sp|Q9Y2B0|CNPY2_HUMAN | sp|Q9Y2X3|NOP58_HUMAN | sp|Q9Y383|LC7L2_HUMAN | sp|Q9Y4L1|HYOU1_HUMAN | sp|Q9Y5K5|UCHL5_HUMAN | sp|Q9Y5M8|SRPRB_HUMAN | sp|Q9Y5X3|SNX5_HUMAN | sp|Q9Y678|COPG1_HUMAN |\n",
       "|---|---|---|---|---|---|---|---|---|---|---|---|---|---|---|---|---|---|---|---|---|---|\n",
       "| CTG-0158 |  0.2093806  |  0.65302273 | -1.0997903  | -0.6676739  | -0.4647837  | -1.1040398  |  1.064904   |  1.2123033  | -0.1051954  | 0.2626795   | ...         | -0.2250597  | -0.5820609  | 0.1906079   | 0.5237176   | 0.9304869   |  1.9736444  | -0.1122720  | -0.27387703 |  0.4041529  | 0.4389799   |\n",
       "| CTG-0159 | -0.1839989  | -0.01878222 | -0.3120364  | -0.9488586  | -1.0432424  | -0.5989767  | -2.682560   | -0.3098403  |  0.3678152  | 0.5056474   | ...         |  0.7999883  | -0.2509652  | 0.1577792   | 0.4496930   | 0.3787295   | -0.7937075  |  0.3066905  |  0.09551761 | -0.8271938  | 0.8381110   |\n",
       "\n"
      ],
      "text/plain": [
       "         sp|A0AVT1|UBA6_HUMAN sp|O00170|AIP_HUMAN sp|O00299|CLIC1_HUMAN\n",
       "CTG-0158  0.2093806            0.65302273         -1.0997903           \n",
       "CTG-0159 -0.1839989           -0.01878222         -0.3120364           \n",
       "         sp|O00429|DNM1L_HUMAN sp|O00483|NDUA4_HUMAN sp|O00571|DDX3X_HUMAN\n",
       "CTG-0158 -0.6676739            -0.4647837            -1.1040398           \n",
       "CTG-0159 -0.9488586            -1.0432424            -0.5989767           \n",
       "         sp|O14828|SCAM3_HUMAN sp|O14929|HAT1_HUMAN sp|O15143|ARC1B_HUMAN\n",
       "CTG-0158  1.064904              1.2123033           -0.1051954           \n",
       "CTG-0159 -2.682560             -0.3098403            0.3678152           \n",
       "         sp|O15145|ARPC3_HUMAN ... sp|Q9Y230|RUVB2_HUMAN sp|Q9Y285|SYFA_HUMAN\n",
       "CTG-0158 0.2626795             ... -0.2250597            -0.5820609          \n",
       "CTG-0159 0.5056474             ...  0.7999883            -0.2509652          \n",
       "         sp|Q9Y2B0|CNPY2_HUMAN sp|Q9Y2X3|NOP58_HUMAN sp|Q9Y383|LC7L2_HUMAN\n",
       "CTG-0158 0.1906079             0.5237176             0.9304869            \n",
       "CTG-0159 0.1577792             0.4496930             0.3787295            \n",
       "         sp|Q9Y4L1|HYOU1_HUMAN sp|Q9Y5K5|UCHL5_HUMAN sp|Q9Y5M8|SRPRB_HUMAN\n",
       "CTG-0158  1.9736444            -0.1122720            -0.27387703          \n",
       "CTG-0159 -0.7937075             0.3066905             0.09551761          \n",
       "         sp|Q9Y5X3|SNX5_HUMAN sp|Q9Y678|COPG1_HUMAN\n",
       "CTG-0158  0.4041529           0.4389799            \n",
       "CTG-0159 -0.8271938           0.8381110            "
      ]
     },
     "metadata": {},
     "output_type": "display_data"
    }
   ],
   "source": [
    "# int_z <- int_mtx %>%\n",
    "#     sweep(2, apply(int_mtx, 2, mean), '-')  %>% # column wise sweeping\n",
    "#     sweep(2, apply(int_mtx, 2, sd), '/')\n",
    "# head(int_z, 2)"
   ]
  },
  {
   "cell_type": "markdown",
   "id": "a1f7880f",
   "metadata": {},
   "source": [
    "Save the the data here, so we do not need to generate it every time."
   ]
  },
  {
   "cell_type": "code",
   "execution_count": 15,
   "id": "1151fd3b",
   "metadata": {},
   "outputs": [],
   "source": [
    "# write.csv(x=as.data.frame(int_z), file=\"./data/protein_intensity_zscore.csv\", row.names=TRUE)"
   ]
  },
  {
   "cell_type": "markdown",
   "id": "f611c541",
   "metadata": {},
   "source": [
    "Directly read in the data here."
   ]
  },
  {
   "cell_type": "code",
   "execution_count": 2,
   "id": "65c5f986",
   "metadata": {},
   "outputs": [
    {
     "name": "stdout",
     "output_type": "stream",
     "text": [
      "[1] 317 295\n"
     ]
    },
    {
     "data": {
      "text/html": [
       "<table>\n",
       "<thead><tr><th></th><th scope=col>sp|A0AVT1|UBA6_HUMAN</th><th scope=col>sp|O00170|AIP_HUMAN</th><th scope=col>sp|O00299|CLIC1_HUMAN</th><th scope=col>sp|O00429|DNM1L_HUMAN</th><th scope=col>sp|O00483|NDUA4_HUMAN</th><th scope=col>sp|O00571|DDX3X_HUMAN</th><th scope=col>sp|O14828|SCAM3_HUMAN</th><th scope=col>sp|O14929|HAT1_HUMAN</th><th scope=col>sp|O15143|ARC1B_HUMAN</th><th scope=col>sp|O15145|ARPC3_HUMAN</th><th scope=col>...</th><th scope=col>sp|Q9Y230|RUVB2_HUMAN</th><th scope=col>sp|Q9Y285|SYFA_HUMAN</th><th scope=col>sp|Q9Y2B0|CNPY2_HUMAN</th><th scope=col>sp|Q9Y2X3|NOP58_HUMAN</th><th scope=col>sp|Q9Y383|LC7L2_HUMAN</th><th scope=col>sp|Q9Y4L1|HYOU1_HUMAN</th><th scope=col>sp|Q9Y5K5|UCHL5_HUMAN</th><th scope=col>sp|Q9Y5M8|SRPRB_HUMAN</th><th scope=col>sp|Q9Y5X3|SNX5_HUMAN</th><th scope=col>sp|Q9Y678|COPG1_HUMAN</th></tr></thead>\n",
       "<tbody>\n",
       "\t<tr><th scope=row>CTG-0158</th><td> 0.2093806 </td><td> 0.65302273</td><td>-1.0997903 </td><td>-0.6676739 </td><td>-0.4647837 </td><td>-1.1040398 </td><td> 1.064904  </td><td> 1.2123033 </td><td>-0.1051954 </td><td>0.2626795  </td><td>...        </td><td>-0.2250597 </td><td>-0.5820609 </td><td>0.1906079  </td><td>0.5237176  </td><td>0.9304869  </td><td> 1.9736444 </td><td>-0.1122720 </td><td>-0.27387703</td><td> 0.4041529 </td><td>0.4389799  </td></tr>\n",
       "\t<tr><th scope=row>CTG-0159</th><td>-0.1839989 </td><td>-0.01878222</td><td>-0.3120364 </td><td>-0.9488586 </td><td>-1.0432424 </td><td>-0.5989767 </td><td>-2.682560  </td><td>-0.3098403 </td><td> 0.3678152 </td><td>0.5056474  </td><td>...        </td><td> 0.7999883 </td><td>-0.2509652 </td><td>0.1577792  </td><td>0.4496930  </td><td>0.3787295  </td><td>-0.7937075 </td><td> 0.3066905 </td><td> 0.09551761</td><td>-0.8271938 </td><td>0.8381110  </td></tr>\n",
       "</tbody>\n",
       "</table>\n"
      ],
      "text/latex": [
       "\\begin{tabular}{r|lllllllllllllllllllllllllllllllllllllllllllllllllllllllllllllllllllllllllllllllllllllllllllllllllllllllllllllllllllllllllllllllllllllllllllllllllllllllllllllllllllllllllllllllllllllllllllllllllllllllllllllllllllllllllllllllllllllllllllllllllllllllllllllllllllllllllllllllllllllllllllllllllllllll}\n",
       "  & sp\\textbar{}A0AVT1\\textbar{}UBA6\\_HUMAN & sp\\textbar{}O00170\\textbar{}AIP\\_HUMAN & sp\\textbar{}O00299\\textbar{}CLIC1\\_HUMAN & sp\\textbar{}O00429\\textbar{}DNM1L\\_HUMAN & sp\\textbar{}O00483\\textbar{}NDUA4\\_HUMAN & sp\\textbar{}O00571\\textbar{}DDX3X\\_HUMAN & sp\\textbar{}O14828\\textbar{}SCAM3\\_HUMAN & sp\\textbar{}O14929\\textbar{}HAT1\\_HUMAN & sp\\textbar{}O15143\\textbar{}ARC1B\\_HUMAN & sp\\textbar{}O15145\\textbar{}ARPC3\\_HUMAN & ... & sp\\textbar{}Q9Y230\\textbar{}RUVB2\\_HUMAN & sp\\textbar{}Q9Y285\\textbar{}SYFA\\_HUMAN & sp\\textbar{}Q9Y2B0\\textbar{}CNPY2\\_HUMAN & sp\\textbar{}Q9Y2X3\\textbar{}NOP58\\_HUMAN & sp\\textbar{}Q9Y383\\textbar{}LC7L2\\_HUMAN & sp\\textbar{}Q9Y4L1\\textbar{}HYOU1\\_HUMAN & sp\\textbar{}Q9Y5K5\\textbar{}UCHL5\\_HUMAN & sp\\textbar{}Q9Y5M8\\textbar{}SRPRB\\_HUMAN & sp\\textbar{}Q9Y5X3\\textbar{}SNX5\\_HUMAN & sp\\textbar{}Q9Y678\\textbar{}COPG1\\_HUMAN\\\\\n",
       "\\hline\n",
       "\tCTG-0158 &  0.2093806  &  0.65302273 & -1.0997903  & -0.6676739  & -0.4647837  & -1.1040398  &  1.064904   &  1.2123033  & -0.1051954  & 0.2626795   & ...         & -0.2250597  & -0.5820609  & 0.1906079   & 0.5237176   & 0.9304869   &  1.9736444  & -0.1122720  & -0.27387703 &  0.4041529  & 0.4389799  \\\\\n",
       "\tCTG-0159 & -0.1839989  & -0.01878222 & -0.3120364  & -0.9488586  & -1.0432424  & -0.5989767  & -2.682560   & -0.3098403  &  0.3678152  & 0.5056474   & ...         &  0.7999883  & -0.2509652  & 0.1577792   & 0.4496930   & 0.3787295   & -0.7937075  &  0.3066905  &  0.09551761 & -0.8271938  & 0.8381110  \\\\\n",
       "\\end{tabular}\n"
      ],
      "text/markdown": [
       "\n",
       "| <!--/--> | sp|A0AVT1|UBA6_HUMAN | sp|O00170|AIP_HUMAN | sp|O00299|CLIC1_HUMAN | sp|O00429|DNM1L_HUMAN | sp|O00483|NDUA4_HUMAN | sp|O00571|DDX3X_HUMAN | sp|O14828|SCAM3_HUMAN | sp|O14929|HAT1_HUMAN | sp|O15143|ARC1B_HUMAN | sp|O15145|ARPC3_HUMAN | ... | sp|Q9Y230|RUVB2_HUMAN | sp|Q9Y285|SYFA_HUMAN | sp|Q9Y2B0|CNPY2_HUMAN | sp|Q9Y2X3|NOP58_HUMAN | sp|Q9Y383|LC7L2_HUMAN | sp|Q9Y4L1|HYOU1_HUMAN | sp|Q9Y5K5|UCHL5_HUMAN | sp|Q9Y5M8|SRPRB_HUMAN | sp|Q9Y5X3|SNX5_HUMAN | sp|Q9Y678|COPG1_HUMAN |\n",
       "|---|---|---|---|---|---|---|---|---|---|---|---|---|---|---|---|---|---|---|---|---|---|\n",
       "| CTG-0158 |  0.2093806  |  0.65302273 | -1.0997903  | -0.6676739  | -0.4647837  | -1.1040398  |  1.064904   |  1.2123033  | -0.1051954  | 0.2626795   | ...         | -0.2250597  | -0.5820609  | 0.1906079   | 0.5237176   | 0.9304869   |  1.9736444  | -0.1122720  | -0.27387703 |  0.4041529  | 0.4389799   |\n",
       "| CTG-0159 | -0.1839989  | -0.01878222 | -0.3120364  | -0.9488586  | -1.0432424  | -0.5989767  | -2.682560   | -0.3098403  |  0.3678152  | 0.5056474   | ...         |  0.7999883  | -0.2509652  | 0.1577792   | 0.4496930   | 0.3787295   | -0.7937075  |  0.3066905  |  0.09551761 | -0.8271938  | 0.8381110   |\n",
       "\n"
      ],
      "text/plain": [
       "         sp|A0AVT1|UBA6_HUMAN sp|O00170|AIP_HUMAN sp|O00299|CLIC1_HUMAN\n",
       "CTG-0158  0.2093806            0.65302273         -1.0997903           \n",
       "CTG-0159 -0.1839989           -0.01878222         -0.3120364           \n",
       "         sp|O00429|DNM1L_HUMAN sp|O00483|NDUA4_HUMAN sp|O00571|DDX3X_HUMAN\n",
       "CTG-0158 -0.6676739            -0.4647837            -1.1040398           \n",
       "CTG-0159 -0.9488586            -1.0432424            -0.5989767           \n",
       "         sp|O14828|SCAM3_HUMAN sp|O14929|HAT1_HUMAN sp|O15143|ARC1B_HUMAN\n",
       "CTG-0158  1.064904              1.2123033           -0.1051954           \n",
       "CTG-0159 -2.682560             -0.3098403            0.3678152           \n",
       "         sp|O15145|ARPC3_HUMAN ... sp|Q9Y230|RUVB2_HUMAN sp|Q9Y285|SYFA_HUMAN\n",
       "CTG-0158 0.2626795             ... -0.2250597            -0.5820609          \n",
       "CTG-0159 0.5056474             ...  0.7999883            -0.2509652          \n",
       "         sp|Q9Y2B0|CNPY2_HUMAN sp|Q9Y2X3|NOP58_HUMAN sp|Q9Y383|LC7L2_HUMAN\n",
       "CTG-0158 0.1906079             0.5237176             0.9304869            \n",
       "CTG-0159 0.1577792             0.4496930             0.3787295            \n",
       "         sp|Q9Y4L1|HYOU1_HUMAN sp|Q9Y5K5|UCHL5_HUMAN sp|Q9Y5M8|SRPRB_HUMAN\n",
       "CTG-0158  1.9736444            -0.1122720            -0.27387703          \n",
       "CTG-0159 -0.7937075             0.3066905             0.09551761          \n",
       "         sp|Q9Y5X3|SNX5_HUMAN sp|Q9Y678|COPG1_HUMAN\n",
       "CTG-0158  0.4041529           0.4389799            \n",
       "CTG-0159 -0.8271938           0.8381110            "
      ]
     },
     "metadata": {},
     "output_type": "display_data"
    }
   ],
   "source": [
    "int_z <- RNAseqData <- fread(\"./data/protein_intensity_zscore.csv\") %>% \n",
    "    column_to_rownames('V1')\n",
    "print(dim(int_z))\n",
    "head(int_z, 2)"
   ]
  },
  {
   "cell_type": "markdown",
   "id": "060d5f1f",
   "metadata": {},
   "source": [
    "## Create a table with missing values"
   ]
  },
  {
   "cell_type": "code",
   "execution_count": 3,
   "id": "7de554f5",
   "metadata": {},
   "outputs": [],
   "source": [
    "int_mis <- prodNA(int_z, noNA = 0.1)"
   ]
  },
  {
   "cell_type": "code",
   "execution_count": 10,
   "id": "05fdb750",
   "metadata": {
    "scrolled": true
   },
   "outputs": [],
   "source": [
    "# summary(int_mis)"
   ]
  },
  {
   "cell_type": "code",
   "execution_count": 11,
   "id": "4d882447",
   "metadata": {},
   "outputs": [
    {
     "data": {
      "text/html": [
       "-12.0776518296886"
      ],
      "text/latex": [
       "-12.0776518296886"
      ],
      "text/markdown": [
       "-12.0776518296886"
      ],
      "text/plain": [
       "[1] -12.07765"
      ]
     },
     "metadata": {},
     "output_type": "display_data"
    }
   ],
   "source": [
    "min(unlist(int_mis), na.rm = TRUE)"
   ]
  },
  {
   "cell_type": "code",
   "execution_count": 12,
   "id": "6ba2beb5",
   "metadata": {},
   "outputs": [
    {
     "data": {
      "text/html": [
       "5.83883088153446"
      ],
      "text/latex": [
       "5.83883088153446"
      ],
      "text/markdown": [
       "5.83883088153446"
      ],
      "text/plain": [
       "[1] 5.838831"
      ]
     },
     "metadata": {},
     "output_type": "display_data"
    }
   ],
   "source": [
    "max(unlist(int_mis), na.rm = TRUE)"
   ]
  },
  {
   "cell_type": "markdown",
   "id": "40728b33",
   "metadata": {},
   "source": [
    "## Imputation - random forest\n",
    "\n",
    "Notice the function assumes that the columns are features and rows are samples."
   ]
  },
  {
   "cell_type": "code",
   "execution_count": 13,
   "id": "2db59744",
   "metadata": {},
   "outputs": [
    {
     "name": "stdout",
     "output_type": "stream",
     "text": [
      "  missForest iteration 1 in progress...done!\n",
      "  missForest iteration 2 in progress...done!\n",
      "  missForest iteration 3 in progress...done!\n",
      "  missForest iteration 4 in progress...done!\n"
     ]
    }
   ],
   "source": [
    "tictoc::tic(\"RF\")\n",
    "imp_rf <- missForest(int_mis)\n",
    "tmp <- toc()\n",
    "print(as.numeric(tmp$toc - tmp$tic))"
   ]
  },
  {
   "cell_type": "code",
   "execution_count": 21,
   "id": "94849852",
   "metadata": {
    "scrolled": false
   },
   "outputs": [
    {
     "data": {
      "text/html": [
       "<table>\n",
       "<thead><tr><th></th><th scope=col>sp|A0AVT1|UBA6_HUMAN</th><th scope=col>sp|O00170|AIP_HUMAN</th><th scope=col>sp|O00299|CLIC1_HUMAN</th><th scope=col>sp|O00429|DNM1L_HUMAN</th><th scope=col>sp|O00483|NDUA4_HUMAN</th><th scope=col>sp|O00571|DDX3X_HUMAN</th><th scope=col>sp|O14828|SCAM3_HUMAN</th><th scope=col>sp|O14929|HAT1_HUMAN</th><th scope=col>sp|O15143|ARC1B_HUMAN</th><th scope=col>sp|O15145|ARPC3_HUMAN</th><th scope=col>...</th><th scope=col>sp|Q9Y230|RUVB2_HUMAN</th><th scope=col>sp|Q9Y285|SYFA_HUMAN</th><th scope=col>sp|Q9Y2B0|CNPY2_HUMAN</th><th scope=col>sp|Q9Y2X3|NOP58_HUMAN</th><th scope=col>sp|Q9Y383|LC7L2_HUMAN</th><th scope=col>sp|Q9Y4L1|HYOU1_HUMAN</th><th scope=col>sp|Q9Y5K5|UCHL5_HUMAN</th><th scope=col>sp|Q9Y5M8|SRPRB_HUMAN</th><th scope=col>sp|Q9Y5X3|SNX5_HUMAN</th><th scope=col>sp|Q9Y678|COPG1_HUMAN</th></tr></thead>\n",
       "<tbody>\n",
       "\t<tr><th scope=row>CTG-0158</th><td> 0.2093806 </td><td> 0.65302273</td><td>-1.09979027</td><td>-0.6676739 </td><td>-0.4647837 </td><td>-1.1040398 </td><td> 1.0649036 </td><td> 1.2123033 </td><td>-0.1051954 </td><td> 0.26267952</td><td>...        </td><td>-0.2250597 </td><td>-0.5820609 </td><td> 0.1906079 </td><td> 0.52371760</td><td> 0.9304869 </td><td> 1.9736444 </td><td>-0.11227201</td><td>-0.27387703</td><td> 0.40415286</td><td> 0.43897991</td></tr>\n",
       "\t<tr><th scope=row>CTG-0159</th><td>-0.1839989 </td><td>-0.01878222</td><td>-0.31203641</td><td>-0.9488586 </td><td>-1.0432424 </td><td>-0.5989767 </td><td>-2.6825596 </td><td>-0.3098403 </td><td> 0.3678152 </td><td> 0.50564737</td><td>...        </td><td> 0.7999883 </td><td>-0.2509652 </td><td> 0.1577792 </td><td> 0.44969296</td><td> 0.3787295 </td><td>-0.7937075 </td><td> 0.30669046</td><td> 0.09551761</td><td>-0.82719375</td><td> 0.83811104</td></tr>\n",
       "\t<tr><th scope=row>CTG-0160</th><td>-0.6708866 </td><td>-0.72257789</td><td>-0.09335798</td><td> 0.3129796 </td><td>-0.7000715 </td><td>-0.7759646 </td><td>-0.2604187 </td><td> 0.2638319 </td><td>-0.3309084 </td><td> 0.08231688</td><td>...        </td><td>-0.8317813 </td><td>-0.5887018 </td><td>-0.5071361 </td><td>-0.44613773</td><td>-0.6832812 </td><td>-0.6659535 </td><td> 0.12387047</td><td>-0.04829252</td><td> 0.01204807</td><td> 0.15600970</td></tr>\n",
       "\t<tr><th scope=row>CTG-0162</th><td>-0.8815488 </td><td> 0.67024850</td><td>-0.41562092</td><td>-0.2109670 </td><td> 1.4411506 </td><td>-0.5331459 </td><td> 0.9392265 </td><td> 0.4043816 </td><td>-0.1551483 </td><td>-0.08463036</td><td>...        </td><td> 0.4558332 </td><td> 1.0506492 </td><td> 2.5154760 </td><td> 1.22529439</td><td> 0.4287783 </td><td> 1.2996355 </td><td>-0.10592409</td><td> 3.07746287</td><td>-0.38968736</td><td> 2.55099668</td></tr>\n",
       "\t<tr><th scope=row>CTG-0163</th><td>-1.0438447 </td><td>-0.96250823</td><td>-1.21616300</td><td> 0.9600538 </td><td> 0.3099195 </td><td>-0.6000559 </td><td>-0.6111721 </td><td> 1.2457675 </td><td>-0.7946684 </td><td> 0.13150669</td><td>...        </td><td>-0.2033127 </td><td>-0.2601675 </td><td>-1.2747455 </td><td>-0.08947156</td><td>-0.3182913 </td><td>-0.8804058 </td><td> 0.02103423</td><td> 0.27989065</td><td> 0.18264805</td><td> 0.48403543</td></tr>\n",
       "\t<tr><th scope=row>CTG-0166</th><td> 0.5189251 </td><td> 0.26052131</td><td>-1.50645541</td><td>-0.4126865 </td><td> 0.7959071 </td><td>-0.5018492 </td><td> 0.6558817 </td><td> 1.9915413 </td><td>-0.4388313 </td><td>-1.17873101</td><td>...        </td><td> 2.4688435 </td><td> 1.5743307 </td><td>-0.7181500 </td><td> 0.47399956</td><td> 1.5005547 </td><td> 1.3443830 </td><td>-1.09239028</td><td> 0.18152170</td><td> 0.21016417</td><td>-0.02521335</td></tr>\n",
       "</tbody>\n",
       "</table>\n"
      ],
      "text/latex": [
       "\\begin{tabular}{r|lllllllllllllllllllllllllllllllllllllllllllllllllllllllllllllllllllllllllllllllllllllllllllllllllllllllllllllllllllllllllllllllllllllllllllllllllllllllllllllllllllllllllllllllllllllllllllllllllllllllllllllllllllllllllllllllllllllllllllllllllllllllllllllllllllllllllllllllllllllllllllllllllllllll}\n",
       "  & sp\\textbar{}A0AVT1\\textbar{}UBA6\\_HUMAN & sp\\textbar{}O00170\\textbar{}AIP\\_HUMAN & sp\\textbar{}O00299\\textbar{}CLIC1\\_HUMAN & sp\\textbar{}O00429\\textbar{}DNM1L\\_HUMAN & sp\\textbar{}O00483\\textbar{}NDUA4\\_HUMAN & sp\\textbar{}O00571\\textbar{}DDX3X\\_HUMAN & sp\\textbar{}O14828\\textbar{}SCAM3\\_HUMAN & sp\\textbar{}O14929\\textbar{}HAT1\\_HUMAN & sp\\textbar{}O15143\\textbar{}ARC1B\\_HUMAN & sp\\textbar{}O15145\\textbar{}ARPC3\\_HUMAN & ... & sp\\textbar{}Q9Y230\\textbar{}RUVB2\\_HUMAN & sp\\textbar{}Q9Y285\\textbar{}SYFA\\_HUMAN & sp\\textbar{}Q9Y2B0\\textbar{}CNPY2\\_HUMAN & sp\\textbar{}Q9Y2X3\\textbar{}NOP58\\_HUMAN & sp\\textbar{}Q9Y383\\textbar{}LC7L2\\_HUMAN & sp\\textbar{}Q9Y4L1\\textbar{}HYOU1\\_HUMAN & sp\\textbar{}Q9Y5K5\\textbar{}UCHL5\\_HUMAN & sp\\textbar{}Q9Y5M8\\textbar{}SRPRB\\_HUMAN & sp\\textbar{}Q9Y5X3\\textbar{}SNX5\\_HUMAN & sp\\textbar{}Q9Y678\\textbar{}COPG1\\_HUMAN\\\\\n",
       "\\hline\n",
       "\tCTG-0158 &  0.2093806  &  0.65302273 & -1.09979027 & -0.6676739  & -0.4647837  & -1.1040398  &  1.0649036  &  1.2123033  & -0.1051954  &  0.26267952 & ...         & -0.2250597  & -0.5820609  &  0.1906079  &  0.52371760 &  0.9304869  &  1.9736444  & -0.11227201 & -0.27387703 &  0.40415286 &  0.43897991\\\\\n",
       "\tCTG-0159 & -0.1839989  & -0.01878222 & -0.31203641 & -0.9488586  & -1.0432424  & -0.5989767  & -2.6825596  & -0.3098403  &  0.3678152  &  0.50564737 & ...         &  0.7999883  & -0.2509652  &  0.1577792  &  0.44969296 &  0.3787295  & -0.7937075  &  0.30669046 &  0.09551761 & -0.82719375 &  0.83811104\\\\\n",
       "\tCTG-0160 & -0.6708866  & -0.72257789 & -0.09335798 &  0.3129796  & -0.7000715  & -0.7759646  & -0.2604187  &  0.2638319  & -0.3309084  &  0.08231688 & ...         & -0.8317813  & -0.5887018  & -0.5071361  & -0.44613773 & -0.6832812  & -0.6659535  &  0.12387047 & -0.04829252 &  0.01204807 &  0.15600970\\\\\n",
       "\tCTG-0162 & -0.8815488  &  0.67024850 & -0.41562092 & -0.2109670  &  1.4411506  & -0.5331459  &  0.9392265  &  0.4043816  & -0.1551483  & -0.08463036 & ...         &  0.4558332  &  1.0506492  &  2.5154760  &  1.22529439 &  0.4287783  &  1.2996355  & -0.10592409 &  3.07746287 & -0.38968736 &  2.55099668\\\\\n",
       "\tCTG-0163 & -1.0438447  & -0.96250823 & -1.21616300 &  0.9600538  &  0.3099195  & -0.6000559  & -0.6111721  &  1.2457675  & -0.7946684  &  0.13150669 & ...         & -0.2033127  & -0.2601675  & -1.2747455  & -0.08947156 & -0.3182913  & -0.8804058  &  0.02103423 &  0.27989065 &  0.18264805 &  0.48403543\\\\\n",
       "\tCTG-0166 &  0.5189251  &  0.26052131 & -1.50645541 & -0.4126865  &  0.7959071  & -0.5018492  &  0.6558817  &  1.9915413  & -0.4388313  & -1.17873101 & ...         &  2.4688435  &  1.5743307  & -0.7181500  &  0.47399956 &  1.5005547  &  1.3443830  & -1.09239028 &  0.18152170 &  0.21016417 & -0.02521335\\\\\n",
       "\\end{tabular}\n"
      ],
      "text/markdown": [
       "\n",
       "| <!--/--> | sp|A0AVT1|UBA6_HUMAN | sp|O00170|AIP_HUMAN | sp|O00299|CLIC1_HUMAN | sp|O00429|DNM1L_HUMAN | sp|O00483|NDUA4_HUMAN | sp|O00571|DDX3X_HUMAN | sp|O14828|SCAM3_HUMAN | sp|O14929|HAT1_HUMAN | sp|O15143|ARC1B_HUMAN | sp|O15145|ARPC3_HUMAN | ... | sp|Q9Y230|RUVB2_HUMAN | sp|Q9Y285|SYFA_HUMAN | sp|Q9Y2B0|CNPY2_HUMAN | sp|Q9Y2X3|NOP58_HUMAN | sp|Q9Y383|LC7L2_HUMAN | sp|Q9Y4L1|HYOU1_HUMAN | sp|Q9Y5K5|UCHL5_HUMAN | sp|Q9Y5M8|SRPRB_HUMAN | sp|Q9Y5X3|SNX5_HUMAN | sp|Q9Y678|COPG1_HUMAN |\n",
       "|---|---|---|---|---|---|---|---|---|---|---|---|---|---|---|---|---|---|---|---|---|---|\n",
       "| CTG-0158 |  0.2093806  |  0.65302273 | -1.09979027 | -0.6676739  | -0.4647837  | -1.1040398  |  1.0649036  |  1.2123033  | -0.1051954  |  0.26267952 | ...         | -0.2250597  | -0.5820609  |  0.1906079  |  0.52371760 |  0.9304869  |  1.9736444  | -0.11227201 | -0.27387703 |  0.40415286 |  0.43897991 |\n",
       "| CTG-0159 | -0.1839989  | -0.01878222 | -0.31203641 | -0.9488586  | -1.0432424  | -0.5989767  | -2.6825596  | -0.3098403  |  0.3678152  |  0.50564737 | ...         |  0.7999883  | -0.2509652  |  0.1577792  |  0.44969296 |  0.3787295  | -0.7937075  |  0.30669046 |  0.09551761 | -0.82719375 |  0.83811104 |\n",
       "| CTG-0160 | -0.6708866  | -0.72257789 | -0.09335798 |  0.3129796  | -0.7000715  | -0.7759646  | -0.2604187  |  0.2638319  | -0.3309084  |  0.08231688 | ...         | -0.8317813  | -0.5887018  | -0.5071361  | -0.44613773 | -0.6832812  | -0.6659535  |  0.12387047 | -0.04829252 |  0.01204807 |  0.15600970 |\n",
       "| CTG-0162 | -0.8815488  |  0.67024850 | -0.41562092 | -0.2109670  |  1.4411506  | -0.5331459  |  0.9392265  |  0.4043816  | -0.1551483  | -0.08463036 | ...         |  0.4558332  |  1.0506492  |  2.5154760  |  1.22529439 |  0.4287783  |  1.2996355  | -0.10592409 |  3.07746287 | -0.38968736 |  2.55099668 |\n",
       "| CTG-0163 | -1.0438447  | -0.96250823 | -1.21616300 |  0.9600538  |  0.3099195  | -0.6000559  | -0.6111721  |  1.2457675  | -0.7946684  |  0.13150669 | ...         | -0.2033127  | -0.2601675  | -1.2747455  | -0.08947156 | -0.3182913  | -0.8804058  |  0.02103423 |  0.27989065 |  0.18264805 |  0.48403543 |\n",
       "| CTG-0166 |  0.5189251  |  0.26052131 | -1.50645541 | -0.4126865  |  0.7959071  | -0.5018492  |  0.6558817  |  1.9915413  | -0.4388313  | -1.17873101 | ...         |  2.4688435  |  1.5743307  | -0.7181500  |  0.47399956 |  1.5005547  |  1.3443830  | -1.09239028 |  0.18152170 |  0.21016417 | -0.02521335 |\n",
       "\n"
      ],
      "text/plain": [
       "         sp|A0AVT1|UBA6_HUMAN sp|O00170|AIP_HUMAN sp|O00299|CLIC1_HUMAN\n",
       "CTG-0158  0.2093806            0.65302273         -1.09979027          \n",
       "CTG-0159 -0.1839989           -0.01878222         -0.31203641          \n",
       "CTG-0160 -0.6708866           -0.72257789         -0.09335798          \n",
       "CTG-0162 -0.8815488            0.67024850         -0.41562092          \n",
       "CTG-0163 -1.0438447           -0.96250823         -1.21616300          \n",
       "CTG-0166  0.5189251            0.26052131         -1.50645541          \n",
       "         sp|O00429|DNM1L_HUMAN sp|O00483|NDUA4_HUMAN sp|O00571|DDX3X_HUMAN\n",
       "CTG-0158 -0.6676739            -0.4647837            -1.1040398           \n",
       "CTG-0159 -0.9488586            -1.0432424            -0.5989767           \n",
       "CTG-0160  0.3129796            -0.7000715            -0.7759646           \n",
       "CTG-0162 -0.2109670             1.4411506            -0.5331459           \n",
       "CTG-0163  0.9600538             0.3099195            -0.6000559           \n",
       "CTG-0166 -0.4126865             0.7959071            -0.5018492           \n",
       "         sp|O14828|SCAM3_HUMAN sp|O14929|HAT1_HUMAN sp|O15143|ARC1B_HUMAN\n",
       "CTG-0158  1.0649036             1.2123033           -0.1051954           \n",
       "CTG-0159 -2.6825596            -0.3098403            0.3678152           \n",
       "CTG-0160 -0.2604187             0.2638319           -0.3309084           \n",
       "CTG-0162  0.9392265             0.4043816           -0.1551483           \n",
       "CTG-0163 -0.6111721             1.2457675           -0.7946684           \n",
       "CTG-0166  0.6558817             1.9915413           -0.4388313           \n",
       "         sp|O15145|ARPC3_HUMAN ... sp|Q9Y230|RUVB2_HUMAN sp|Q9Y285|SYFA_HUMAN\n",
       "CTG-0158  0.26267952           ... -0.2250597            -0.5820609          \n",
       "CTG-0159  0.50564737           ...  0.7999883            -0.2509652          \n",
       "CTG-0160  0.08231688           ... -0.8317813            -0.5887018          \n",
       "CTG-0162 -0.08463036           ...  0.4558332             1.0506492          \n",
       "CTG-0163  0.13150669           ... -0.2033127            -0.2601675          \n",
       "CTG-0166 -1.17873101           ...  2.4688435             1.5743307          \n",
       "         sp|Q9Y2B0|CNPY2_HUMAN sp|Q9Y2X3|NOP58_HUMAN sp|Q9Y383|LC7L2_HUMAN\n",
       "CTG-0158  0.1906079             0.52371760            0.9304869           \n",
       "CTG-0159  0.1577792             0.44969296            0.3787295           \n",
       "CTG-0160 -0.5071361            -0.44613773           -0.6832812           \n",
       "CTG-0162  2.5154760             1.22529439            0.4287783           \n",
       "CTG-0163 -1.2747455            -0.08947156           -0.3182913           \n",
       "CTG-0166 -0.7181500             0.47399956            1.5005547           \n",
       "         sp|Q9Y4L1|HYOU1_HUMAN sp|Q9Y5K5|UCHL5_HUMAN sp|Q9Y5M8|SRPRB_HUMAN\n",
       "CTG-0158  1.9736444            -0.11227201           -0.27387703          \n",
       "CTG-0159 -0.7937075             0.30669046            0.09551761          \n",
       "CTG-0160 -0.6659535             0.12387047           -0.04829252          \n",
       "CTG-0162  1.2996355            -0.10592409            3.07746287          \n",
       "CTG-0163 -0.8804058             0.02103423            0.27989065          \n",
       "CTG-0166  1.3443830            -1.09239028            0.18152170          \n",
       "         sp|Q9Y5X3|SNX5_HUMAN sp|Q9Y678|COPG1_HUMAN\n",
       "CTG-0158  0.40415286           0.43897991          \n",
       "CTG-0159 -0.82719375           0.83811104          \n",
       "CTG-0160  0.01204807           0.15600970          \n",
       "CTG-0162 -0.38968736           2.55099668          \n",
       "CTG-0163  0.18264805           0.48403543          \n",
       "CTG-0166  0.21016417          -0.02521335          "
      ]
     },
     "metadata": {},
     "output_type": "display_data"
    }
   ],
   "source": [
    "head(imp_rf$ximp)"
   ]
  },
  {
   "cell_type": "code",
   "execution_count": 35,
   "id": "e4f5453f",
   "metadata": {},
   "outputs": [
    {
     "data": {
      "text/html": [
       "0.589330913807041"
      ],
      "text/latex": [
       "0.589330913807041"
      ],
      "text/markdown": [
       "0.589330913807041"
      ],
      "text/plain": [
       "[1] 0.5893309"
      ]
     },
     "metadata": {},
     "output_type": "display_data"
    }
   ],
   "source": [
    "# Normalized Root Mean Squared Error\n",
    "missForest::nrmse(ximp = imp_rf$ximp, xmis = int_mis, xtrue = int_z)"
   ]
  },
  {
   "cell_type": "markdown",
   "id": "752993c0",
   "metadata": {},
   "source": [
    "## Imputation - kNN"
   ]
  },
  {
   "cell_type": "code",
   "execution_count": 16,
   "id": "bf82ba2c",
   "metadata": {},
   "outputs": [],
   "source": [
    "imp_knn <- kNN(int_mis, k = 6)"
   ]
  },
  {
   "cell_type": "code",
   "execution_count": 26,
   "id": "0d8ddc83",
   "metadata": {},
   "outputs": [
    {
     "data": {
      "text/html": [
       "<table>\n",
       "<thead><tr><th scope=col>sp|A0AVT1|UBA6_HUMAN</th><th scope=col>sp|O00170|AIP_HUMAN</th><th scope=col>sp|O00299|CLIC1_HUMAN</th><th scope=col>sp|O00429|DNM1L_HUMAN</th><th scope=col>sp|O00483|NDUA4_HUMAN</th><th scope=col>sp|O00571|DDX3X_HUMAN</th><th scope=col>sp|O14828|SCAM3_HUMAN</th><th scope=col>sp|O14929|HAT1_HUMAN</th><th scope=col>sp|O15143|ARC1B_HUMAN</th><th scope=col>sp|O15145|ARPC3_HUMAN</th><th scope=col>...</th><th scope=col>sp|Q9Y230|RUVB2_HUMAN_imp</th><th scope=col>sp|Q9Y285|SYFA_HUMAN_imp</th><th scope=col>sp|Q9Y2B0|CNPY2_HUMAN_imp</th><th scope=col>sp|Q9Y2X3|NOP58_HUMAN_imp</th><th scope=col>sp|Q9Y383|LC7L2_HUMAN_imp</th><th scope=col>sp|Q9Y4L1|HYOU1_HUMAN_imp</th><th scope=col>sp|Q9Y5K5|UCHL5_HUMAN_imp</th><th scope=col>sp|Q9Y5M8|SRPRB_HUMAN_imp</th><th scope=col>sp|Q9Y5X3|SNX5_HUMAN_imp</th><th scope=col>sp|Q9Y678|COPG1_HUMAN_imp</th></tr></thead>\n",
       "<tbody>\n",
       "\t<tr><td> 0.2093806 </td><td> 0.65302273</td><td>-1.09979027</td><td>-0.6676739 </td><td>-0.4647837 </td><td>-1.1040398 </td><td> 1.0649036 </td><td> 1.2123033 </td><td>-0.1051954 </td><td> 0.26267952</td><td>...        </td><td>FALSE      </td><td>FALSE      </td><td>FALSE      </td><td>FALSE      </td><td>FALSE      </td><td>FALSE      </td><td>FALSE      </td><td>FALSE      </td><td>FALSE      </td><td>FALSE      </td></tr>\n",
       "\t<tr><td>-0.1839989 </td><td>-0.01878222</td><td>-0.31203641</td><td>-0.9488586 </td><td>-1.0432424 </td><td>-0.5989767 </td><td>-2.6825596 </td><td>-0.3098403 </td><td> 0.3678152 </td><td> 0.50564737</td><td>...        </td><td>FALSE      </td><td>FALSE      </td><td>FALSE      </td><td>FALSE      </td><td>FALSE      </td><td>FALSE      </td><td>FALSE      </td><td>FALSE      </td><td>FALSE      </td><td>FALSE      </td></tr>\n",
       "\t<tr><td>-0.6708866 </td><td>-0.72257789</td><td>-0.09335798</td><td> 0.3129796 </td><td>-0.7000715 </td><td>-0.7759646 </td><td>-0.2604187 </td><td> 0.2638319 </td><td>-0.3309084 </td><td> 0.08231688</td><td>...        </td><td>FALSE      </td><td>FALSE      </td><td> TRUE      </td><td> TRUE      </td><td>FALSE      </td><td> TRUE      </td><td>FALSE      </td><td>FALSE      </td><td>FALSE      </td><td> TRUE      </td></tr>\n",
       "\t<tr><td>-0.8815488 </td><td> 0.67024850</td><td>-0.41562092</td><td>-0.2109670 </td><td> 1.4411506 </td><td>-0.5331459 </td><td> 0.9392265 </td><td> 0.4043816 </td><td>-0.1551483 </td><td>-0.08463036</td><td>...        </td><td>FALSE      </td><td>FALSE      </td><td>FALSE      </td><td>FALSE      </td><td>FALSE      </td><td>FALSE      </td><td>FALSE      </td><td>FALSE      </td><td>FALSE      </td><td>FALSE      </td></tr>\n",
       "\t<tr><td>-1.0438447 </td><td>-0.96250823</td><td>-1.21616300</td><td> 0.9600538 </td><td> 0.3099195 </td><td>-0.6000559 </td><td>-0.6111721 </td><td> 1.2457675 </td><td>-0.7946684 </td><td> 0.13150669</td><td>...        </td><td> TRUE      </td><td> TRUE      </td><td>FALSE      </td><td>FALSE      </td><td>FALSE      </td><td>FALSE      </td><td>FALSE      </td><td> TRUE      </td><td>FALSE      </td><td> TRUE      </td></tr>\n",
       "\t<tr><td> 0.5189251 </td><td> 0.26052131</td><td>-1.50645541</td><td>-0.4126865 </td><td> 0.7959071 </td><td>-0.5018492 </td><td> 0.6558817 </td><td> 1.9915413 </td><td>-0.4388313 </td><td>-1.17873101</td><td>...        </td><td>FALSE      </td><td>FALSE      </td><td>FALSE      </td><td>FALSE      </td><td>FALSE      </td><td>FALSE      </td><td>FALSE      </td><td>FALSE      </td><td>FALSE      </td><td>FALSE      </td></tr>\n",
       "</tbody>\n",
       "</table>\n"
      ],
      "text/latex": [
       "\\begin{tabular}{r|llllllllllllllllllllllllllllllllllllllllllllllllllllllllllllllllllllllllllllllllllllllllllllllllllllllllllllllllllllllllllllllllllllllllllllllllllllllllllllllllllllllllllllllllllllllllllllllllllllllllllllllllllllllllllllllllllllllllllllllllllllllllllllllllllllllllllllllllllllllllllllllllllllllllllllllllllllllllllllllllllllllllllllllllllllllllllllllllllllllllllllllllllllllllllllllllllllllllllllllllllllllllllllllllllllllllllllllllllllllllllllllllllllllllllllllllllllllllllllllllllllllllllllllllllllllllllllllllllllllllllllllllllllllllllllllllllllllllllllllllllllllllllllllllllllllllllllll}\n",
       " sp\\textbar{}A0AVT1\\textbar{}UBA6\\_HUMAN & sp\\textbar{}O00170\\textbar{}AIP\\_HUMAN & sp\\textbar{}O00299\\textbar{}CLIC1\\_HUMAN & sp\\textbar{}O00429\\textbar{}DNM1L\\_HUMAN & sp\\textbar{}O00483\\textbar{}NDUA4\\_HUMAN & sp\\textbar{}O00571\\textbar{}DDX3X\\_HUMAN & sp\\textbar{}O14828\\textbar{}SCAM3\\_HUMAN & sp\\textbar{}O14929\\textbar{}HAT1\\_HUMAN & sp\\textbar{}O15143\\textbar{}ARC1B\\_HUMAN & sp\\textbar{}O15145\\textbar{}ARPC3\\_HUMAN & ... & sp\\textbar{}Q9Y230\\textbar{}RUVB2\\_HUMAN\\_imp & sp\\textbar{}Q9Y285\\textbar{}SYFA\\_HUMAN\\_imp & sp\\textbar{}Q9Y2B0\\textbar{}CNPY2\\_HUMAN\\_imp & sp\\textbar{}Q9Y2X3\\textbar{}NOP58\\_HUMAN\\_imp & sp\\textbar{}Q9Y383\\textbar{}LC7L2\\_HUMAN\\_imp & sp\\textbar{}Q9Y4L1\\textbar{}HYOU1\\_HUMAN\\_imp & sp\\textbar{}Q9Y5K5\\textbar{}UCHL5\\_HUMAN\\_imp & sp\\textbar{}Q9Y5M8\\textbar{}SRPRB\\_HUMAN\\_imp & sp\\textbar{}Q9Y5X3\\textbar{}SNX5\\_HUMAN\\_imp & sp\\textbar{}Q9Y678\\textbar{}COPG1\\_HUMAN\\_imp\\\\\n",
       "\\hline\n",
       "\t  0.2093806  &  0.65302273 & -1.09979027 & -0.6676739  & -0.4647837  & -1.1040398  &  1.0649036  &  1.2123033  & -0.1051954  &  0.26267952 & ...         & FALSE       & FALSE       & FALSE       & FALSE       & FALSE       & FALSE       & FALSE       & FALSE       & FALSE       & FALSE      \\\\\n",
       "\t -0.1839989  & -0.01878222 & -0.31203641 & -0.9488586  & -1.0432424  & -0.5989767  & -2.6825596  & -0.3098403  &  0.3678152  &  0.50564737 & ...         & FALSE       & FALSE       & FALSE       & FALSE       & FALSE       & FALSE       & FALSE       & FALSE       & FALSE       & FALSE      \\\\\n",
       "\t -0.6708866  & -0.72257789 & -0.09335798 &  0.3129796  & -0.7000715  & -0.7759646  & -0.2604187  &  0.2638319  & -0.3309084  &  0.08231688 & ...         & FALSE       & FALSE       &  TRUE       &  TRUE       & FALSE       &  TRUE       & FALSE       & FALSE       & FALSE       &  TRUE      \\\\\n",
       "\t -0.8815488  &  0.67024850 & -0.41562092 & -0.2109670  &  1.4411506  & -0.5331459  &  0.9392265  &  0.4043816  & -0.1551483  & -0.08463036 & ...         & FALSE       & FALSE       & FALSE       & FALSE       & FALSE       & FALSE       & FALSE       & FALSE       & FALSE       & FALSE      \\\\\n",
       "\t -1.0438447  & -0.96250823 & -1.21616300 &  0.9600538  &  0.3099195  & -0.6000559  & -0.6111721  &  1.2457675  & -0.7946684  &  0.13150669 & ...         &  TRUE       &  TRUE       & FALSE       & FALSE       & FALSE       & FALSE       & FALSE       &  TRUE       & FALSE       &  TRUE      \\\\\n",
       "\t  0.5189251  &  0.26052131 & -1.50645541 & -0.4126865  &  0.7959071  & -0.5018492  &  0.6558817  &  1.9915413  & -0.4388313  & -1.17873101 & ...         & FALSE       & FALSE       & FALSE       & FALSE       & FALSE       & FALSE       & FALSE       & FALSE       & FALSE       & FALSE      \\\\\n",
       "\\end{tabular}\n"
      ],
      "text/markdown": [
       "\n",
       "| sp|A0AVT1|UBA6_HUMAN | sp|O00170|AIP_HUMAN | sp|O00299|CLIC1_HUMAN | sp|O00429|DNM1L_HUMAN | sp|O00483|NDUA4_HUMAN | sp|O00571|DDX3X_HUMAN | sp|O14828|SCAM3_HUMAN | sp|O14929|HAT1_HUMAN | sp|O15143|ARC1B_HUMAN | sp|O15145|ARPC3_HUMAN | ... | sp|Q9Y230|RUVB2_HUMAN_imp | sp|Q9Y285|SYFA_HUMAN_imp | sp|Q9Y2B0|CNPY2_HUMAN_imp | sp|Q9Y2X3|NOP58_HUMAN_imp | sp|Q9Y383|LC7L2_HUMAN_imp | sp|Q9Y4L1|HYOU1_HUMAN_imp | sp|Q9Y5K5|UCHL5_HUMAN_imp | sp|Q9Y5M8|SRPRB_HUMAN_imp | sp|Q9Y5X3|SNX5_HUMAN_imp | sp|Q9Y678|COPG1_HUMAN_imp |\n",
       "|---|---|---|---|---|---|---|---|---|---|---|---|---|---|---|---|---|---|---|---|---|\n",
       "|  0.2093806  |  0.65302273 | -1.09979027 | -0.6676739  | -0.4647837  | -1.1040398  |  1.0649036  |  1.2123033  | -0.1051954  |  0.26267952 | ...         | FALSE       | FALSE       | FALSE       | FALSE       | FALSE       | FALSE       | FALSE       | FALSE       | FALSE       | FALSE       |\n",
       "| -0.1839989  | -0.01878222 | -0.31203641 | -0.9488586  | -1.0432424  | -0.5989767  | -2.6825596  | -0.3098403  |  0.3678152  |  0.50564737 | ...         | FALSE       | FALSE       | FALSE       | FALSE       | FALSE       | FALSE       | FALSE       | FALSE       | FALSE       | FALSE       |\n",
       "| -0.6708866  | -0.72257789 | -0.09335798 |  0.3129796  | -0.7000715  | -0.7759646  | -0.2604187  |  0.2638319  | -0.3309084  |  0.08231688 | ...         | FALSE       | FALSE       |  TRUE       |  TRUE       | FALSE       |  TRUE       | FALSE       | FALSE       | FALSE       |  TRUE       |\n",
       "| -0.8815488  |  0.67024850 | -0.41562092 | -0.2109670  |  1.4411506  | -0.5331459  |  0.9392265  |  0.4043816  | -0.1551483  | -0.08463036 | ...         | FALSE       | FALSE       | FALSE       | FALSE       | FALSE       | FALSE       | FALSE       | FALSE       | FALSE       | FALSE       |\n",
       "| -1.0438447  | -0.96250823 | -1.21616300 |  0.9600538  |  0.3099195  | -0.6000559  | -0.6111721  |  1.2457675  | -0.7946684  |  0.13150669 | ...         |  TRUE       |  TRUE       | FALSE       | FALSE       | FALSE       | FALSE       | FALSE       |  TRUE       | FALSE       |  TRUE       |\n",
       "|  0.5189251  |  0.26052131 | -1.50645541 | -0.4126865  |  0.7959071  | -0.5018492  |  0.6558817  |  1.9915413  | -0.4388313  | -1.17873101 | ...         | FALSE       | FALSE       | FALSE       | FALSE       | FALSE       | FALSE       | FALSE       | FALSE       | FALSE       | FALSE       |\n",
       "\n"
      ],
      "text/plain": [
       "  sp|A0AVT1|UBA6_HUMAN sp|O00170|AIP_HUMAN sp|O00299|CLIC1_HUMAN\n",
       "1  0.2093806            0.65302273         -1.09979027          \n",
       "2 -0.1839989           -0.01878222         -0.31203641          \n",
       "3 -0.6708866           -0.72257789         -0.09335798          \n",
       "4 -0.8815488            0.67024850         -0.41562092          \n",
       "5 -1.0438447           -0.96250823         -1.21616300          \n",
       "6  0.5189251            0.26052131         -1.50645541          \n",
       "  sp|O00429|DNM1L_HUMAN sp|O00483|NDUA4_HUMAN sp|O00571|DDX3X_HUMAN\n",
       "1 -0.6676739            -0.4647837            -1.1040398           \n",
       "2 -0.9488586            -1.0432424            -0.5989767           \n",
       "3  0.3129796            -0.7000715            -0.7759646           \n",
       "4 -0.2109670             1.4411506            -0.5331459           \n",
       "5  0.9600538             0.3099195            -0.6000559           \n",
       "6 -0.4126865             0.7959071            -0.5018492           \n",
       "  sp|O14828|SCAM3_HUMAN sp|O14929|HAT1_HUMAN sp|O15143|ARC1B_HUMAN\n",
       "1  1.0649036             1.2123033           -0.1051954           \n",
       "2 -2.6825596            -0.3098403            0.3678152           \n",
       "3 -0.2604187             0.2638319           -0.3309084           \n",
       "4  0.9392265             0.4043816           -0.1551483           \n",
       "5 -0.6111721             1.2457675           -0.7946684           \n",
       "6  0.6558817             1.9915413           -0.4388313           \n",
       "  sp|O15145|ARPC3_HUMAN ... sp|Q9Y230|RUVB2_HUMAN_imp sp|Q9Y285|SYFA_HUMAN_imp\n",
       "1  0.26267952           ... FALSE                     FALSE                   \n",
       "2  0.50564737           ... FALSE                     FALSE                   \n",
       "3  0.08231688           ... FALSE                     FALSE                   \n",
       "4 -0.08463036           ... FALSE                     FALSE                   \n",
       "5  0.13150669           ...  TRUE                      TRUE                   \n",
       "6 -1.17873101           ... FALSE                     FALSE                   \n",
       "  sp|Q9Y2B0|CNPY2_HUMAN_imp sp|Q9Y2X3|NOP58_HUMAN_imp sp|Q9Y383|LC7L2_HUMAN_imp\n",
       "1 FALSE                     FALSE                     FALSE                    \n",
       "2 FALSE                     FALSE                     FALSE                    \n",
       "3  TRUE                      TRUE                     FALSE                    \n",
       "4 FALSE                     FALSE                     FALSE                    \n",
       "5 FALSE                     FALSE                     FALSE                    \n",
       "6 FALSE                     FALSE                     FALSE                    \n",
       "  sp|Q9Y4L1|HYOU1_HUMAN_imp sp|Q9Y5K5|UCHL5_HUMAN_imp sp|Q9Y5M8|SRPRB_HUMAN_imp\n",
       "1 FALSE                     FALSE                     FALSE                    \n",
       "2 FALSE                     FALSE                     FALSE                    \n",
       "3  TRUE                     FALSE                     FALSE                    \n",
       "4 FALSE                     FALSE                     FALSE                    \n",
       "5 FALSE                     FALSE                      TRUE                    \n",
       "6 FALSE                     FALSE                     FALSE                    \n",
       "  sp|Q9Y5X3|SNX5_HUMAN_imp sp|Q9Y678|COPG1_HUMAN_imp\n",
       "1 FALSE                    FALSE                    \n",
       "2 FALSE                    FALSE                    \n",
       "3 FALSE                     TRUE                    \n",
       "4 FALSE                    FALSE                    \n",
       "5 FALSE                     TRUE                    \n",
       "6 FALSE                    FALSE                    "
      ]
     },
     "metadata": {},
     "output_type": "display_data"
    },
    {
     "name": "stdout",
     "output_type": "stream",
     "text": [
      "[1] 317 590\n"
     ]
    }
   ],
   "source": [
    "head(imp_knn)\n",
    "print(dim(imp_knn))"
   ]
  },
  {
   "cell_type": "code",
   "execution_count": 33,
   "id": "958fae42",
   "metadata": {},
   "outputs": [
    {
     "data": {
      "text/html": [
       "0.678280031846896"
      ],
      "text/latex": [
       "0.678280031846896"
      ],
      "text/markdown": [
       "0.678280031846896"
      ],
      "text/plain": [
       "[1] 0.67828"
      ]
     },
     "metadata": {},
     "output_type": "display_data"
    }
   ],
   "source": [
    "# Normalized Root Mean Squared Error\n",
    "missForest::nrmse(ximp = imp_knn[, 1: dim(int_z)[2]], xmis = int_mis, xtrue = int_z)"
   ]
  },
  {
   "cell_type": "markdown",
   "id": "aeff60d3",
   "metadata": {},
   "source": [
    "## Imputation - LLS"
   ]
  },
  {
   "cell_type": "code",
   "execution_count": null,
   "id": "91061f3d",
   "metadata": {},
   "outputs": [],
   "source": [
    "# imp_lls <- llsImpute(int_mis, allVariables = T, k = 150)"
   ]
  },
  {
   "cell_type": "code",
   "execution_count": null,
   "id": "10af217b",
   "metadata": {},
   "outputs": [],
   "source": [
    "# head(imp_lls)\n",
    "# print(dim(imp_lls))"
   ]
  },
  {
   "cell_type": "markdown",
   "id": "e66d3c69",
   "metadata": {},
   "source": [
    "## Imputation - SVD"
   ]
  },
  {
   "cell_type": "code",
   "execution_count": 4,
   "id": "81facbc1",
   "metadata": {},
   "outputs": [],
   "source": [
    "imp_svd <- pca(int_mis, method=\"svdImpute\", center = TRUE)"
   ]
  },
  {
   "cell_type": "code",
   "execution_count": 6,
   "id": "13dadcca",
   "metadata": {},
   "outputs": [
    {
     "data": {
      "text/plain": [
       "svdImpute calculated PCA\n",
       "Importance of component(s):\n",
       "                 PC1    PC2\n",
       "R2            0.2874 0.1699\n",
       "Cumulative R2 0.2874 0.4573\n",
       "295 \tVariables\n",
       "317 \tSamples\n",
       "9351 \tNAs ( 9.999 %)\n",
       "2 \tCalculated component(s)\n",
       "Data was mean centered before running PCA \n",
       "Data was NOT scaled before running PCA \n",
       "Scores structure:\n",
       "[1] 317   2\n",
       "Loadings structure:\n",
       "[1] 295   2"
      ]
     },
     "metadata": {},
     "output_type": "display_data"
    }
   ],
   "source": [
    "imp_svd"
   ]
  },
  {
   "cell_type": "markdown",
   "id": "1f00355d",
   "metadata": {},
   "source": [
    "## Imputation - BPCA"
   ]
  },
  {
   "cell_type": "code",
   "execution_count": 12,
   "id": "deb9d9b2",
   "metadata": {},
   "outputs": [],
   "source": [
    "imp_bpca <- pca(int_mis, method=\"bpca\", center = TRUE)"
   ]
  },
  {
   "cell_type": "code",
   "execution_count": 9,
   "id": "e2380ef9",
   "metadata": {},
   "outputs": [
    {
     "data": {
      "text/plain": [
       "bpca calculated PCA\n",
       "Importance of component(s):\n",
       "                 PC1    PC2\n",
       "R2            0.2712 0.1597\n",
       "Cumulative R2 0.2712 0.4309\n",
       "295 \tVariables\n",
       "317 \tSamples\n",
       "9351 \tNAs ( 9.999 %)\n",
       "2 \tCalculated component(s)\n",
       "Data was mean centered before running PCA \n",
       "Data was NOT scaled before running PCA \n",
       "Scores structure:\n",
       "[1] 317   2\n",
       "Loadings structure:\n",
       "[1] 295   2"
      ]
     },
     "metadata": {},
     "output_type": "display_data"
    }
   ],
   "source": [
    "imp_bpca"
   ]
  },
  {
   "cell_type": "code",
   "execution_count": 10,
   "id": "d4865d73",
   "metadata": {},
   "outputs": [
    {
     "data": {
      "text/html": [
       "<table>\n",
       "<thead><tr><th></th><th scope=col>sp|A0AVT1|UBA6_HUMAN</th><th scope=col>sp|O00170|AIP_HUMAN</th><th scope=col>sp|O00299|CLIC1_HUMAN</th><th scope=col>sp|O00429|DNM1L_HUMAN</th><th scope=col>sp|O00483|NDUA4_HUMAN</th><th scope=col>sp|O00571|DDX3X_HUMAN</th><th scope=col>sp|O14828|SCAM3_HUMAN</th><th scope=col>sp|O14929|HAT1_HUMAN</th><th scope=col>sp|O15143|ARC1B_HUMAN</th><th scope=col>sp|O15145|ARPC3_HUMAN</th><th scope=col>...</th><th scope=col>sp|Q9Y230|RUVB2_HUMAN</th><th scope=col>sp|Q9Y285|SYFA_HUMAN</th><th scope=col>sp|Q9Y2B0|CNPY2_HUMAN</th><th scope=col>sp|Q9Y2X3|NOP58_HUMAN</th><th scope=col>sp|Q9Y383|LC7L2_HUMAN</th><th scope=col>sp|Q9Y4L1|HYOU1_HUMAN</th><th scope=col>sp|Q9Y5K5|UCHL5_HUMAN</th><th scope=col>sp|Q9Y5M8|SRPRB_HUMAN</th><th scope=col>sp|Q9Y5X3|SNX5_HUMAN</th><th scope=col>sp|Q9Y678|COPG1_HUMAN</th></tr></thead>\n",
       "<tbody>\n",
       "\t<tr><th scope=row>CTG-0158</th><td> 0.20938059 </td><td> 0.65302273 </td><td>-1.09979027 </td><td>-0.66767388 </td><td>-0.46478367 </td><td>-1.10403975 </td><td> 1.06490365 </td><td> 1.21230326 </td><td>-0.105195386</td><td> 0.26267952 </td><td>...         </td><td>-0.22505973 </td><td>-0.582060943</td><td> 0.19060787 </td><td> 0.52371760 </td><td> 0.93048687 </td><td> 1.973644405</td><td>-0.112272010</td><td>-0.27387703 </td><td> 0.40415286 </td><td> 0.174003344</td></tr>\n",
       "\t<tr><th scope=row>CTG-0159</th><td>-0.18399887 </td><td>-0.01878222 </td><td>-0.31203641 </td><td>-0.94885859 </td><td>-1.04324243 </td><td>-0.59897675 </td><td>-2.68255956 </td><td>-0.11645569 </td><td> 0.367815192</td><td>-0.11145685 </td><td>...         </td><td> 0.79998826 </td><td>-0.250965168</td><td> 0.15777918 </td><td> 0.44969296 </td><td>-0.59527906 </td><td>-0.793707538</td><td>-0.163698766</td><td> 0.09551761 </td><td>-0.82719375 </td><td> 0.838111041</td></tr>\n",
       "\t<tr><th scope=row>CTG-0160</th><td>-0.31536713 </td><td>-0.72257789 </td><td>-0.09335798 </td><td> 0.31297962 </td><td>-0.70007151 </td><td>-0.77596464 </td><td>-0.26041871 </td><td> 0.26383190 </td><td>-0.330908387</td><td> 0.08231688 </td><td>...         </td><td>-0.83178133 </td><td>-0.588701832</td><td>-0.19736755 </td><td>-0.40598512 </td><td>-0.68328123 </td><td>-1.228597105</td><td> 0.123870474</td><td>-0.04829252 </td><td> 0.01204807 </td><td> 0.103659711</td></tr>\n",
       "\t<tr><th scope=row>CTG-0162</th><td>-0.88154878 </td><td> 0.01443322 </td><td>-0.41562092 </td><td>-0.21096704 </td><td> 1.44115059 </td><td>-0.53314589 </td><td> 0.09178181 </td><td> 0.40438159 </td><td>-0.155148264</td><td>-0.08463036 </td><td>...         </td><td> 0.45583322 </td><td> 1.050649166</td><td> 2.51547601 </td><td> 1.22529439 </td><td> 0.42877833 </td><td>-0.001087398</td><td>-0.105924094</td><td>-0.06383016 </td><td>-0.38968736 </td><td> 2.550996683</td></tr>\n",
       "\t<tr><th scope=row>CTG-0163</th><td>-1.04384468 </td><td>-0.96250823 </td><td>-1.21616300 </td><td> 0.96005375 </td><td> 0.30991953 </td><td>-0.60005594 </td><td>-0.61117212 </td><td> 1.24576747 </td><td>-0.794668433</td><td> 0.13150669 </td><td>...         </td><td>-0.49652685 </td><td>-0.141864841</td><td>-0.05160775 </td><td>-0.08947156 </td><td>-0.31829132 </td><td>-0.880405779</td><td> 0.021034231</td><td> 0.10679683 </td><td> 0.18264805 </td><td> 0.239490505</td></tr>\n",
       "\t<tr><th scope=row>CTG-0166</th><td> 0.51892509 </td><td> 0.26052131 </td><td>-1.50645541 </td><td>-0.41268651 </td><td> 0.79590707 </td><td>-0.50184925 </td><td> 0.65588175 </td><td> 1.99154133 </td><td>-0.438831270</td><td>-1.17873101 </td><td>...         </td><td> 2.46884353 </td><td> 0.220753161</td><td> 0.09720792 </td><td> 0.47399956 </td><td> 1.50055472 </td><td> 1.344382973</td><td>-1.092390279</td><td> 0.18152170 </td><td> 0.21016417 </td><td>-0.025213351</td></tr>\n",
       "\t<tr><th scope=row>CTG-0167</th><td>-0.61822100 </td><td>-0.13567136 </td><td> 0.02940885 </td><td>-0.71220935 </td><td>-2.37482776 </td><td>-0.42948151 </td><td>-0.01025198 </td><td>-0.15898380 </td><td>-0.459986312</td><td>-0.22772799 </td><td>...         </td><td> 0.09684391 </td><td> 0.367586250</td><td> 0.75018782 </td><td> 0.31711152 </td><td> 0.49713764 </td><td>-1.044013752</td><td>-0.262821526</td><td>-0.85052744 </td><td>-0.10076804 </td><td> 0.272571005</td></tr>\n",
       "\t<tr><th scope=row>CTG-0178</th><td>-1.31039688 </td><td>-1.40299573 </td><td> 0.93225662 </td><td>-0.44499655 </td><td> 0.10134559 </td><td>-1.49362895 </td><td> 0.44337316 </td><td>-0.30772079 </td><td>-0.848321523</td><td>-0.55118827 </td><td>...         </td><td>-0.43867320 </td><td>-1.137998261</td><td>-0.26310190 </td><td>-0.85733907 </td><td>-0.68572263 </td><td>-0.887397573</td><td>-1.436447339</td><td>-0.56421305 </td><td>-0.56441475 </td><td> 0.729257096</td></tr>\n",
       "\t<tr><th scope=row>CTG-0184</th><td>-0.82243438 </td><td>-0.92190463 </td><td> 0.57674433 </td><td>-0.16206535 </td><td> 0.93872371 </td><td>-1.02094178 </td><td> 0.05377409 </td><td> 0.17300047 </td><td>-0.242103272</td><td> 0.49819437 </td><td>...         </td><td> 0.66796327 </td><td>-1.002334376</td><td>-0.72262659 </td><td> 1.09934202 </td><td> 0.04303649 </td><td> 0.431254717</td><td>-3.302734716</td><td>-0.10457777 </td><td>-0.11173088 </td><td> 0.851874184</td></tr>\n",
       "\t<tr><th scope=row>CTG-0464</th><td>-1.13090407 </td><td> 0.06242497 </td><td>-0.15357661 </td><td>-0.58296917 </td><td> 0.37875920 </td><td>-0.08872712 </td><td> 0.05034654 </td><td> 1.20465430 </td><td>-0.052775700</td><td>-0.12487657 </td><td>...         </td><td> 0.47363434 </td><td>-0.077353344</td><td> 0.54575461 </td><td> 0.43532997 </td><td> 0.48737203 </td><td> 0.580879102</td><td> 0.688835020</td><td> 0.78637017 </td><td> 0.10361908 </td><td> 1.233488589</td></tr>\n",
       "\t<tr><th scope=row>CTG-0502</th><td>-0.96430894 </td><td> 0.82405000 </td><td>-0.14451083 </td><td> 0.50509340 </td><td> 1.14935257 </td><td> 0.10465803 </td><td> 1.09803671 </td><td> 1.32512546 </td><td> 0.276543268</td><td>-0.67341749 </td><td>...         </td><td> 0.75548546 </td><td> 0.360108310</td><td> 0.61439642 </td><td> 1.23744769 </td><td> 0.95490091 </td><td> 1.130434086</td><td> 1.209364152</td><td> 0.50861924 </td><td> 0.65179798 </td><td> 0.711740369</td></tr>\n",
       "\t<tr><th scope=row>CTG-0743</th><td> 0.41574359 </td><td>-0.12705848 </td><td> 0.31842245 </td><td>-0.47381362 </td><td>-0.20894667 </td><td>-1.37707595 </td><td> 0.19773152 </td><td>-0.46377566 </td><td>-0.599188818</td><td>-0.04885595 </td><td>...         </td><td>-0.83326476 </td><td>-0.336348033</td><td>-0.07799050 </td><td>-0.29386795 </td><td>-0.23406288 </td><td>-0.378342709</td><td> 0.963065002</td><td> 0.49593011 </td><td> 0.17576902 </td><td> 0.316607250</td></tr>\n",
       "\t<tr><th scope=row>CTG-0828</th><td>-0.36241687 </td><td>-0.66814993 </td><td>-0.54861833 </td><td>-1.45621361 </td><td>-0.25004499 </td><td>-1.70838864 </td><td>-0.34953521 </td><td>-0.30984029 </td><td>-0.590907741</td><td>-0.51392326 </td><td>...         </td><td>-0.74534719 </td><td>-0.842004330</td><td> 0.25924968 </td><td>-1.10371958 </td><td>-0.39885765 </td><td>-0.445516212</td><td> 0.245750466</td><td>-1.34681337 </td><td>-0.13929062 </td><td> 0.132437190</td></tr>\n",
       "\t<tr><th scope=row>CTG-0838</th><td>-0.19904617 </td><td>-0.32392440 </td><td> 0.56267729 </td><td> 0.10078122 </td><td> 0.14963610 </td><td>-0.49645328 </td><td> 0.41709522 </td><td> 1.01438636 </td><td>-0.184749969</td><td> 0.18516830 </td><td>...         </td><td> 0.44544923 </td><td> 0.149385596</td><td>-1.13746186 </td><td> 0.84412275 </td><td> 0.32379795 </td><td>-0.869218909</td><td>-0.046658262</td><td> 0.42261515 </td><td>-0.92212438 </td><td>-0.006445429</td></tr>\n",
       "\t<tr><th scope=row>CTG-0848</th><td>-0.85037937 </td><td> 0.17193164 </td><td> 0.31586480 </td><td>-0.30615069 </td><td> 0.47842261 </td><td>-1.00151628 </td><td> 1.81553881 </td><td>-0.03065316 </td><td>-0.077370200</td><td>-0.10549877 </td><td>...         </td><td> 0.43803210 </td><td> 0.169308265</td><td> 1.01878619 </td><td> 0.61762945 </td><td>-0.09162077 </td><td> 0.867542643</td><td> 1.587699961</td><td> 1.01759430 </td><td> 0.08112173 </td><td> 1.341091339</td></tr>\n",
       "\t<tr><th scope=row>CTG-0852</th><td> 0.15886465 </td><td> 0.09072445 </td><td> 0.66754063 </td><td>-1.18638108 </td><td> 0.06846694 </td><td>-0.49537408 </td><td>-0.11189120 </td><td>-0.03227855 </td><td>-0.619525011</td><td>-0.03394995 </td><td>...         </td><td> 0.13096273 </td><td> 0.046010702</td><td> 1.41123826 </td><td>-0.25280476 </td><td>-0.00212949 </td><td> 0.957037603</td><td> 0.302881712</td><td> 0.15050383 </td><td> 0.36425447 </td><td> 1.307309081</td></tr>\n",
       "\t<tr><th scope=row>CTG-0860</th><td>-0.33554669 </td><td>-1.94806824 </td><td>-0.61255939 </td><td>-0.18389646 </td><td> 1.07332069 </td><td>-0.03779564 </td><td> 2.59816451 </td><td>-0.81562794 </td><td> 0.288877312</td><td> 0.07699329 </td><td>...         </td><td>-0.08561760 </td><td> 0.612350462</td><td> 2.90942029 </td><td>-0.37894104 </td><td>-0.04729547 </td><td> 0.331971247</td><td> 0.017937491</td><td> 1.66051016 </td><td>-0.07737934 </td><td> 1.308560275</td></tr>\n",
       "\t<tr><th scope=row>CTG-0924</th><td>-0.16035311 </td><td>-0.67828305 </td><td>-0.65987577 </td><td> 0.57145998 </td><td>-0.05283007 </td><td>-0.70581700 </td><td> 1.25227681 </td><td>-0.11861623 </td><td> 0.125451232</td><td>-0.40212823 </td><td>...         </td><td> 0.42913154 </td><td> 0.506096230</td><td> 1.37542514 </td><td> 0.26849833 </td><td>-0.01555721 </td><td> 1.923303491</td><td> 0.663443355</td><td> 1.29534523 </td><td> 0.04506742 </td><td> 1.268522043</td></tr>\n",
       "\t<tr><th scope=row>CTG-1012</th><td>-0.34736957 </td><td>-0.96004740 </td><td>-1.05758917 </td><td>-0.28519282 </td><td> 1.32093802 </td><td>-0.05722114 </td><td> 0.95407928 </td><td> 0.95128241 </td><td>-0.194617204</td><td>-0.44088384 </td><td>...         </td><td> 1.52241717 </td><td> 0.404173745</td><td> 0.26820296 </td><td> 1.16563274 </td><td> 0.24570883 </td><td>-0.697220785</td><td> 0.337160460</td><td> 0.56501537 </td><td>-0.01684386 </td><td>-0.420590898</td></tr>\n",
       "\t<tr><th scope=row>CTG-1014</th><td>-0.70743001 </td><td>-0.91575257 </td><td> 1.09466691 </td><td>-1.11739477 </td><td>-0.02605918 </td><td>-0.08535680 </td><td>-0.69457603 </td><td> 1.16736561 </td><td> 0.025545478</td><td>-0.06227136 </td><td>...         </td><td> 0.08645992 </td><td>-0.054583768</td><td> 0.01703471 </td><td>-0.09610063 </td><td> 0.21637617 </td><td> 0.990598212</td><td> 0.954177919</td><td>-0.01163504 </td><td>-0.33052769 </td><td> 1.084596411</td></tr>\n",
       "\t<tr><th scope=row>CTG-1194</th><td> 1.25839249 </td><td>-0.86407527 </td><td> 0.85680617 </td><td> 0.69895367 </td><td>-0.27470398 </td><td>-0.82344919 </td><td>-1.15958137 </td><td> 0.83081125 </td><td>-0.164398796</td><td>-0.06227136 </td><td>...         </td><td> 1.15156044 </td><td>-0.258554756</td><td>-0.82111266 </td><td> 0.40218461 </td><td>-0.02654353 </td><td>-0.167776916</td><td> 0.870385425</td><td>-0.18505313 </td><td>-1.33899368 </td><td> 0.755532186</td></tr>\n",
       "\t<tr><th scope=row>CTG-1212</th><td>-0.68915828 </td><td>-0.57369803 </td><td> 0.43223753 </td><td>-0.33539447 </td><td> 0.72706740 </td><td>-0.90115119 </td><td>-0.39295094 </td><td>-0.28689340 </td><td> 0.000260688</td><td>-0.02351575 </td><td>...         </td><td>-0.43758391 </td><td> 0.184487441</td><td>-1.00913152 </td><td> 0.12155390 </td><td> 0.23590741 </td><td>-0.825869789</td><td> 0.481892950</td><td> 0.41415573 </td><td> 0.10835451 </td><td> 0.153707502</td></tr>\n",
       "\t<tr><th scope=row>CTG-1217</th><td>-0.39270221 </td><td>-0.28209039 </td><td>-0.39771743 </td><td>-1.02221113 </td><td> 1.67232860 </td><td>-1.08353506 </td><td> 1.63502076 </td><td>-0.15399268 </td><td>-1.182574110</td><td>-1.43511427 </td><td>...         </td><td>-0.62855185 </td><td>-0.487020361</td><td> 0.66513167 </td><td>-0.61316825 </td><td>-0.51848645 </td><td> 0.064884728</td><td>-0.008166184</td><td> 0.66229869 </td><td> 0.25418997 </td><td> 1.145904955</td></tr>\n",
       "\t<tr><th scope=row>CTG-1253</th><td>-0.09586467 </td><td>-1.04863707 </td><td>-0.64197228 </td><td> 0.19334513 </td><td> 0.70754570 </td><td>-0.70689619 </td><td>-1.06703731 </td><td>-0.06602961 </td><td>-0.475833402</td><td>-0.22176559 </td><td>...         </td><td>-0.38526983 </td><td>-0.559292179</td><td>-1.14939956 </td><td>-0.31010712 </td><td>-2.90617964 </td><td>-2.159904025</td><td> 0.136566307</td><td> 0.45786273 </td><td> 0.08912841 </td><td> 0.662943773</td></tr>\n",
       "\t<tr><th scope=row>CTG-1309</th><td> 0.49098010 </td><td>-0.96742988 </td><td> 1.62537771 </td><td>-0.14722020 </td><td> 0.76405588 </td><td>-0.31514861 </td><td>-0.38266827 </td><td> 0.06304663 </td><td> 0.415301261</td><td> 0.70240661 </td><td>...         </td><td>-0.76947740 </td><td>-0.548856496</td><td> 1.27843128 </td><td> 0.18342524 </td><td>-0.26946324 </td><td>-0.007829927</td><td> 0.283837964</td><td> 0.94991894 </td><td> 0.73021894 </td><td> 1.705189018</td></tr>\n",
       "\t<tr><th scope=row>CTG-1329</th><td>-0.38498783 </td><td>-0.49126043 </td><td>-0.09591562 </td><td>-0.43713735 </td><td>-0.05893783 </td><td>-0.77056867 </td><td>-0.22614313 </td><td> 0.95988750 </td><td> 0.015678243</td><td> 0.19113070 </td><td>...         </td><td> 0.14134672 </td><td>-0.052687183</td><td> 0.67706937 </td><td>-0.28392434 </td><td> 0.18219652 </td><td>-0.196827910</td><td> 1.060822912</td><td> 1.05989139 </td><td> 0.68619314 </td><td> 1.462457232</td></tr>\n",
       "\t<tr><th scope=row>CTG-1352</th><td>-0.06791968 </td><td>-0.56754597 </td><td> 0.04347589 </td><td>-0.02234624 </td><td> 0.31300190 </td><td>-0.75330156 </td><td> 0.03171738 </td><td>-0.04560257 </td><td> 0.046513352</td><td>-0.88955454 </td><td>...         </td><td> 0.23776947 </td><td>-0.001457464</td><td>-0.26750157 </td><td>-0.07772836 </td><td>-1.47063404 </td><td> 0.923476993</td><td>-1.143173609</td><td> 0.37890815 </td><td>-0.11727772 </td><td>-0.438107625</td></tr>\n",
       "\t<tr><th scope=row>CTG-1354</th><td>-0.53223642 </td><td>-1.36854419 </td><td>-0.42073621 </td><td>-0.62226517 </td><td>-1.01550106 </td><td>-1.42348131 </td><td>-1.62001664 </td><td>-0.95044091 </td><td> 0.289494014</td><td> 0.59508339 </td><td>...         </td><td>-0.72794145 </td><td>-1.520323754</td><td>-1.23594793 </td><td>-0.26845650 </td><td>-0.72600580 </td><td>-1.771160296</td><td>-0.532504066</td><td>-0.30912461 </td><td>-0.15992771 </td><td>-0.232911683</td></tr>\n",
       "\t<tr><th scope=row>CTG-1355</th><td>-1.00837604 </td><td> 0.20146153 </td><td>-0.68673102 </td><td>-0.50263069 </td><td>-0.89323358 </td><td>-1.13965317 </td><td>-0.05133768 </td><td> 0.32884808 </td><td>-0.166248903</td><td>-0.49156425 </td><td>...         </td><td> 1.63812446 </td><td> 0.285998180</td><td> 0.71139027 </td><td> 0.58669379 </td><td>-0.17370650 </td><td> 0.322182736</td><td> 0.800558346</td><td> 1.61116354 </td><td> 0.32298029 </td><td> 0.311358043</td></tr>\n",
       "\t<tr><th scope=row>CTG-1356</th><td>-0.32372381 </td><td>-0.60691916 </td><td>-0.39771743 </td><td>-0.80477326 </td><td>-0.01633025 </td><td>-1.79580339 </td><td> 0.59875578 </td><td> 1.34902847 </td><td>-1.232526987</td><td>-0.16661338 </td><td>...         </td><td> 0.61455990 </td><td> 0.362842758</td><td>-0.36747986 </td><td> 0.47178987 </td><td> 0.58624889 </td><td>-0.140329643</td><td>-0.159745338</td><td>-0.07790049 </td><td>-0.67447926 </td><td>-0.563227102</td></tr>\n",
       "\t<tr><th scope=row>...</th><td>...</td><td>...</td><td>...</td><td>...</td><td>...</td><td>...</td><td>...</td><td>...</td><td>...</td><td>...</td><td>   </td><td>...</td><td>...</td><td>...</td><td>...</td><td>...</td><td>...</td><td>...</td><td>...</td><td>...</td><td>...</td></tr>\n",
       "\t<tr><th scope=row>CTG-3670</th><td>-1.0513683   </td><td>-0.005247688 </td><td> 0.27494252  </td><td>-0.13586802  </td><td> 0.9677516   </td><td>-0.8817257   </td><td>-1.41322065  </td><td>-0.49723987  </td><td>1.67460713   </td><td>-0.7822313191</td><td>...          </td><td>-0.4179052   </td><td>-1.0600338   </td><td> 0.01452672  </td><td> 1.18331027  </td><td> 0.20172775  </td><td> 0.052299499 </td><td>-2.2591373   </td><td> 0.29854367  </td><td>-1.5206001   </td><td>-1.48160406  </td></tr>\n",
       "\t<tr><th scope=row>CTG-3673</th><td>-1.8166311   </td><td>-0.018273047 </td><td> 0.53712611  </td><td>-1.53742535  </td><td> 1.7617174   </td><td>-0.4662358   </td><td>-0.32896986  </td><td> 0.03531915  </td><td>1.39894125   </td><td>-1.4664168729</td><td>...          </td><td> 0.2867226   </td><td>-1.2034585   </td><td>-0.66286531  </td><td> 1.84732231  </td><td> 0.99030127  </td><td> 0.748682151 </td><td>-0.9857453   </td><td> 1.00490517  </td><td>-3.3985757   </td><td>-2.23232093  </td></tr>\n",
       "\t<tr><th scope=row>CTG-3674</th><td> 0.2706446   </td><td> 1.029528809 </td><td> 1.32229709  </td><td>-0.25462926  </td><td> 0.6952162   </td><td>-0.1619030   </td><td>-2.78195874  </td><td> 1.22664507  </td><td>1.91080407   </td><td> 0.0077868585</td><td>...          </td><td> 0.3282585   </td><td>-0.7699032   </td><td> 0.52038699  </td><td> 1.03747068  </td><td> 0.94723370  </td><td>-0.553189835 </td><td> 0.1022876   </td><td> 0.76768348  </td><td>-1.3472485   </td><td>-1.37275012  </td></tr>\n",
       "\t<tr><th scope=row>CTG-3679</th><td>-0.9815284   </td><td>-0.647522754 </td><td>-0.28901763  </td><td>-0.87899904  </td><td> 1.3846404   </td><td>-0.6162439   </td><td>-2.00847319  </td><td>-0.22466477  </td><td>1.52598190   </td><td>-0.5094514578</td><td>...          </td><td>-0.4446069   </td><td>-0.5241903   </td><td>-0.22721182  </td><td> 1.71032149  </td><td> 0.60455942  </td><td> 0.312394224 </td><td>-0.7724553   </td><td> 0.72997405  </td><td>-1.6953275   </td><td>-0.97361899  </td></tr>\n",
       "\t<tr><th scope=row>CTG-3680</th><td> 0.1889593   </td><td> 0.180212636 </td><td> 1.15605033  </td><td>-0.06383005  </td><td> 0.9387237   </td><td>-0.7878358   </td><td>-0.36553048  </td><td> 0.89487132  </td><td>0.82372428   </td><td> 0.9558086717</td><td>...          </td><td>-0.5588308   </td><td>-0.5175494   </td><td>-1.39113810  </td><td> 0.54434393  </td><td> 0.47760641  </td><td>-1.318092064 </td><td>-0.1922558   </td><td>-0.21043139  </td><td>-0.5000750   </td><td>-1.05619784  </td></tr>\n",
       "\t<tr><th scope=row>CTG-2242</th><td>-1.3910074   </td><td>-0.854231971 </td><td>-0.08696388  </td><td>-0.90868935  </td><td> 1.5706103   </td><td> 0.2179734   </td><td>-1.19499947  </td><td>-2.52708332  </td><td>1.09799058   </td><td>-1.3695278512</td><td>...          </td><td>-0.1508884   </td><td>-1.6324433   </td><td> 0.27566403  </td><td> 2.27931684  </td><td> 1.10993007  </td><td> 1.033947333 </td><td>-1.0612276   </td><td> 1.30239474  </td><td>-2.5221871   </td><td>-0.60451653  </td></tr>\n",
       "\t<tr><th scope=row>CTG-2452</th><td>-0.6558393   </td><td>-0.956356168 </td><td>-1.81081486  </td><td>-1.85004686  </td><td> 2.3370938   </td><td>-0.3615540   </td><td>-0.67972328  </td><td> 1.02585980  </td><td>0.86179365   </td><td>-2.3056248616</td><td>...          </td><td> 0.6783473   </td><td>-1.1740488   </td><td>-0.07948271  </td><td> 2.36107540  </td><td> 1.76300566  </td><td> 0.003356943 </td><td>-0.7280199   </td><td> 1.21357084  </td><td>-2.9321773   </td><td>-1.81066829  </td></tr>\n",
       "\t<tr><th scope=row>CTG-2453</th><td>-1.5973704   </td><td>-0.830854143 </td><td>-0.34656458  </td><td>-0.59606784  </td><td> 1.3404597   </td><td>-0.6507781   </td><td>-1.64058198  </td><td>-2.65711568  </td><td>0.84699279   </td><td>-1.7675181406</td><td>...          </td><td> 0.2600209   </td><td>-0.8040564   </td><td> 0.01303451  </td><td> 2.61629467  </td><td> 0.56642572  </td><td> 0.736096922 </td><td>-1.2625144   </td><td> 1.10782810  </td><td>-1.4132872   </td><td>-1.18381971  </td></tr>\n",
       "\t<tr><th scope=row>CTG-2701</th><td>-3.1375692   </td><td>-0.405131589 </td><td>-0.14219089  </td><td>-3.09791316  </td><td> 1.1020895   </td><td>-0.4295432   </td><td> 0.27656535  </td><td>-2.44676921  </td><td>0.87474439   </td><td>-1.2860542324</td><td>...          </td><td>-0.5336125   </td><td>-1.7992411   </td><td>-1.40009138  </td><td> 1.46394098  </td><td> 0.53131730  </td><td> 0.705333030 </td><td>-1.9125411   </td><td> 0.92595059  </td><td>-1.5398614   </td><td>-1.11500400  </td></tr>\n",
       "\t<tr><th scope=row>CTG-2703</th><td> 0.0470847   </td><td>-0.359663173 </td><td> 0.99236122  </td><td>-0.84494251  </td><td> 0.7486440   </td><td>-0.7770438   </td><td>-2.11701252  </td><td>-2.13507399  </td><td>0.99194764   </td><td>-0.0786679609</td><td>...          </td><td>-0.7754111   </td><td>-1.3125588   </td><td>-0.57788191  </td><td> 0.37345864  </td><td> 0.07233333  </td><td>-0.035175397 </td><td>-0.8714828   </td><td> 0.06167993  </td><td>-0.6208228   </td><td>-0.81721964  </td></tr>\n",
       "\t<tr><th scope=row>CTG-2704</th><td>-1.8263044   </td><td>-0.670900583 </td><td>-0.08440623  </td><td>-1.60379193  </td><td> 1.5849947   </td><td>-1.4299565   </td><td>-1.47720173  </td><td>-0.19032525  </td><td>1.40079136   </td><td>-1.5349844884</td><td>...          </td><td>-0.1301204   </td><td>-2.2119250   </td><td> 0.52486363  </td><td> 2.06608169  </td><td> 0.50202045  </td><td> 0.095648620 </td><td>-1.0527394   </td><td> 1.01759430  </td><td>-2.1507194   </td><td>-2.00960826  </td></tr>\n",
       "\t<tr><th scope=row>CTG-2237</th><td>-2.9312600   </td><td>-2.286431545 </td><td>-1.27626759  </td><td>-3.01320845  </td><td> 1.8058981   </td><td>-0.8331619   </td><td>-0.74141932  </td><td>-0.89077314  </td><td>0.07796516   </td><td>-2.7259741561</td><td>...          </td><td>-0.9697400   </td><td>-2.6056348   </td><td>-0.33912781  </td><td> 0.86180027  </td><td>-0.01189511  </td><td> 0.571090591 </td><td>-3.4753980   </td><td> 0.30700309  </td><td>-3.2596192   </td><td>-2.04339052  </td></tr>\n",
       "\t<tr><th scope=row>CTG-2700</th><td>-3.2321523   </td><td>-0.998190176 </td><td> 0.65986771  </td><td>-0.58471566  </td><td> 0.8205661   </td><td>-0.8417955   </td><td>-0.92764996  </td><td>-3.20019203  </td><td>0.91544674   </td><td>-1.2174866170</td><td>...          </td><td>-1.3583979   </td><td>-1.5848353   </td><td>-0.51222453  </td><td> 1.14132614  </td><td>-0.60149419  </td><td>-0.251262073 </td><td>-1.4910394   </td><td>-0.04829252  </td><td>-0.7652825   </td><td>-2.11595981  </td></tr>\n",
       "\t<tr><th scope=row>CTG-2602</th><td>-0.2990032   </td><td> 0.267903777 </td><td> 0.89133434  </td><td>-0.50612366  </td><td> 0.6798043   </td><td>-0.5126412   </td><td>-1.04191200  </td><td>-0.35286571  </td><td>0.95159535   </td><td> 0.1553562917</td><td>...          </td><td>-1.6179976   </td><td>-1.5355029   </td><td>-0.80022168  </td><td> 0.46295111  </td><td>-0.40740257  </td><td>-0.579758651 </td><td>-1.3767769   </td><td>-0.30207510  </td><td>-0.5396502   </td><td>-1.05744904  </td></tr>\n",
       "\t<tr><th scope=row>CTG-3440</th><td>-1.4812912   </td><td>-0.672130995 </td><td> 0.72892405  </td><td>-1.17764864  </td><td> 1.0270851   </td><td>-1.5065793   </td><td>-3.08358382  </td><td> 0.47704673  </td><td>1.46431168   </td><td>-0.8701767389</td><td>...          </td><td>-1.2931271   </td><td>-1.2385603   </td><td>-0.60691797  </td><td> 0.59221801  </td><td> 0.20172775  </td><td>-0.069977688 </td><td>-1.4808828   </td><td>-0.14557584  </td><td>-0.7831680   </td><td>-1.54666619  </td></tr>\n",
       "\t<tr><th scope=row>CTG-2716</th><td> 0.4501374   </td><td> 2.437120142 </td><td> 1.96426533  </td><td> 2.25944148  </td><td>-1.8117809   </td><td> 1.4007706   </td><td> 0.08743314  </td><td>-2.29378996  </td><td>2.25924080   </td><td> 0.5145909725</td><td>...          </td><td> 2.0772188   </td><td> 0.7546552   </td><td>-2.17604223  </td><td>-2.12680636  </td><td> 2.12555416  </td><td> 1.618461286 </td><td> 1.7045016   </td><td> 1.43351574  </td><td> 2.1885736   </td><td>-0.59951175  </td></tr>\n",
       "\t<tr><th scope=row>CTG-3020</th><td> 0.8811351   </td><td> 1.251126470 </td><td> 1.87091138  </td><td> 2.46814690  </td><td>-1.6299208   </td><td> 0.7694418   </td><td>-0.67743824  </td><td>-2.11403934  </td><td>1.90648715   </td><td> 1.0452446918</td><td>...          </td><td> 2.5593326   </td><td> 0.8647043   </td><td>-1.74330041  </td><td> 0.44129039  </td><td> 1.90338639  </td><td> 2.172211346 </td><td> 1.7882941   </td><td> 0.89518244  </td><td> 2.7003735   </td><td> 0.42771916  </td></tr>\n",
       "\t<tr><th scope=row>CTG-3064</th><td> 0.9617457   </td><td> 2.752105616 </td><td> 1.43866982  </td><td> 2.68558477  </td><td>-1.0442699   </td><td> 1.6663675   </td><td>-0.72199649  </td><td>-0.39875948  </td><td>2.38813156   </td><td> 1.2688347421</td><td>...          </td><td> 2.6928410   </td><td> 1.5222245   </td><td> 0.54629513  </td><td>-0.06185043  </td><td> 2.00913021  </td><td> 2.678417210 </td><td> 1.8086074   </td><td> 1.44620487  </td><td> 1.5625817   </td><td> 0.03859758  </td></tr>\n",
       "\t<tr><th scope=row>CTG-3766</th><td> 0.6693981   </td><td> 2.455576322 </td><td> 2.10877213  </td><td> 2.22189197  </td><td> 0.5432917   </td><td> 1.5416283   </td><td>-0.15302189  </td><td>-0.79746166  </td><td>2.43870114   </td><td> 1.1585303173</td><td>...          </td><td> 2.6394376   </td><td> 1.5145627   </td><td>-2.13575248  </td><td>-0.83966154  </td><td> 3.26813127  </td><td> 2.221153902 </td><td> 0.9270994   </td><td> 2.19063376  </td><td> 1.5158043   </td><td>-0.40702477  </td></tr>\n",
       "\t<tr><th scope=row>CTG-3793</th><td> 1.4626059   </td><td> 2.138130025 </td><td> 1.23533725  </td><td> 2.43321713  </td><td>-1.2816126   </td><td> 1.6932323   </td><td>-0.21928801  </td><td>-1.37687057  </td><td>1.90278694   </td><td> 0.0003338569</td><td>...          </td><td> 3.2239078   </td><td> 1.8456585   </td><td>-2.15216682  </td><td>-0.56676475  </td><td> 1.55060350  </td><td> 1.176579925 </td><td> 2.3304062   </td><td> 1.29816503  </td><td> 2.1321655   </td><td>-0.43935882  </td></tr>\n",
       "\t<tr><th scope=row>CTG-3794</th><td> 1.0230097   </td><td> 3.177828170 </td><td> 0.73276051  </td><td> 1.75515058  </td><td>-1.0514621   </td><td> 1.7587156   </td><td>-0.61002960  </td><td>-1.29751259  </td><td>2.14638430   </td><td> 0.7456340244</td><td>...          </td><td> 3.1660542   </td><td> 1.6514156   </td><td>-0.14215567  </td><td> 0.04642442  </td><td> 1.98629328  </td><td> 2.651848394 </td><td> 1.0945693   </td><td> 1.99042750  </td><td> 0.7123348   </td><td> 0.08364059  </td></tr>\n",
       "\t<tr><th scope=row>CTG-3795</th><td> 0.9166038   </td><td> 2.757027264 </td><td> 1.96298651  </td><td> 3.00431899  </td><td>-1.1583177   </td><td> 1.8173396   </td><td>-0.75969963  </td><td>-1.94384992  </td><td>2.47138636   </td><td> 1.3314399562</td><td>...          </td><td> 3.2372587   </td><td> 1.7071485   </td><td>-3.06689350  </td><td>-0.83192763  </td><td> 2.28180402  </td><td> 0.867542643 </td><td> 2.2339178   </td><td> 1.45325439  </td><td> 2.6343348   </td><td>-0.19037106  </td></tr>\n",
       "\t<tr><th scope=row>CTG-3796</th><td> 1.2935462   </td><td> 2.792709212 </td><td> 0.63045482  </td><td> 2.58428841  </td><td>-0.6394515   </td><td> 1.5734417   </td><td>-0.31068955  </td><td> 0.55649219  </td><td>2.12356632   </td><td>-0.2187843924</td><td>...          </td><td> 1.8879464   </td><td> 0.8893704   </td><td>-0.78828397  </td><td>-1.56775462  </td><td> 2.62604200  </td><td> 2.594515685 </td><td> 1.7489370   </td><td> 0.93018030  </td><td> 0.6524785   </td><td>-0.59075339  </td></tr>\n",
       "\t<tr><th scope=row>CTG-3797</th><td> 1.2723650   </td><td> 3.214740530 </td><td> 2.13946384  </td><td> 2.91175508  </td><td>-1.0175560   </td><td> 2.0245450   </td><td>-0.41922888  </td><td>-0.06220513  </td><td>2.42205018   </td><td> 1.1622821504</td><td>...          </td><td> 2.6290536   </td><td> 1.6151248   </td><td>-1.82089549  </td><td>-1.17995391  </td><td> 1.34308415  </td><td> 0.667577344 </td><td> 2.6770024   </td><td> 0.65806898  </td><td> 2.0743817   </td><td> 0.21251366  </td></tr>\n",
       "\t<tr><th scope=row>CTG-3799</th><td> 0.8671626   </td><td> 1.587988556 </td><td> 2.08958981  </td><td> 2.65589446  </td><td> 0.5407304   </td><td> 1.0899626   </td><td> 0.54734242  </td><td>-1.01067649  </td><td>2.10198175   </td><td> 0.9352048455</td><td>...          </td><td> 1.8977242   </td><td> 0.3675863   </td><td>-1.20908809  </td><td>-0.01986630  </td><td> 2.88849293  </td><td> 0.568293873 </td><td> 2.2224916   </td><td> 2.41057866  </td><td> 2.0110946   </td><td>-0.31674173  </td></tr>\n",
       "\t<tr><th scope=row>CTG-3800</th><td> 1.1705716   </td><td> 2.829621572 </td><td> 0.94632366  </td><td> 1.55926641  </td><td>-1.2179103   </td><td> 1.9554765   </td><td>-0.04334004  </td><td>-0.04403884  </td><td>1.82446576   </td><td>-0.0428935529</td><td>...          </td><td> 2.6246034   </td><td> 1.1929539   </td><td>-0.55400650  </td><td>-1.67050524  </td><td> 1.89635653  </td><td>-0.177031334 </td><td> 0.8640375   </td><td> 1.14440463  </td><td> 1.7524430   </td><td>-1.20634121  </td></tr>\n",
       "\t<tr><th scope=row>CTG-3801</th><td> 1.4185388   </td><td> 2.990805545 </td><td> 1.05273402  </td><td> 2.30659668  </td><td>-1.9474053   </td><td> 1.5123882   </td><td>-0.62145480  </td><td>-0.69037618  </td><td>2.30549347   </td><td> 0.8742364123</td><td>...          </td><td> 2.8545345   </td><td> 1.5819203   </td><td>-2.32675576  </td><td>-1.16780061  </td><td> 2.91901048  </td><td> 1.250692938 </td><td> 1.7819462   </td><td> 0.88083369  </td><td> 1.9739478   </td><td>-0.49065781  </td></tr>\n",
       "\t<tr><th scope=row>CTG-3802</th><td> 0.4888305   </td><td> 3.081856033 </td><td> 0.94376601  </td><td> 1.75645268  </td><td>-2.4292830   </td><td> 1.5540162   </td><td> 0.56905028  </td><td>-1.93906932  </td><td>2.00454280   </td><td> 0.2194521061</td><td>...          </td><td> 4.1065468   </td><td> 1.8475559   </td><td>-1.89699837  </td><td>-0.67172505  </td><td> 3.21930319  </td><td> 0.572488950 </td><td> 2.7265161   </td><td> 1.21383720  </td><td> 1.4566446   </td><td> 0.31135804  </td></tr>\n",
       "\t<tr><th scope=row>CTG-3803</th><td> 1.0606279   </td><td> 1.220242669 </td><td> 1.12152216  </td><td> 2.17037055  </td><td>-1.4840218   </td><td> 1.9133879   </td><td>-0.74827443  </td><td>-0.29167401  </td><td>1.82138225   </td><td> 0.0420706662</td><td>...          </td><td> 2.3902219   </td><td> 1.4310773   </td><td>-1.48514753  </td><td>-1.82960296  </td><td> 1.71368660  </td><td> 1.014311585 </td><td> 0.8006191   </td><td> 1.01336459  </td><td> 1.6079833   </td><td>-0.18911987  </td></tr>\n",
       "\t<tr><th scope=row>CTG-3805</th><td> 1.4733539   </td><td> 2.955123597 </td><td> 1.52179320  </td><td> 1.67530301  </td><td>-1.8169182   </td><td> 2.3072939   </td><td> 0.06862684  </td><td>-1.32045947  </td><td>1.89661992   </td><td>-0.0712149592</td><td>...          </td><td> 2.9687584   </td><td> 1.7061998   </td><td>-1.50305409  </td><td> 0.64650986  </td><td> 3.31573865  </td><td>-0.402167091 </td><td> 2.5614703   </td><td> 0.88788320  </td><td> 1.0480302   </td><td>-1.12251117  </td></tr>\n",
       "</tbody>\n",
       "</table>\n"
      ],
      "text/latex": [
       "\\begin{tabular}{r|lllllllllllllllllllllllllllllllllllllllllllllllllllllllllllllllllllllllllllllllllllllllllllllllllllllllllllllllllllllllllllllllllllllllllllllllllllllllllllllllllllllllllllllllllllllllllllllllllllllllllllllllllllllllllllllllllllllllllllllllllllllllllllllllllllllllllllllllllllllllllllllllllllllll}\n",
       "  & sp\\textbar{}A0AVT1\\textbar{}UBA6\\_HUMAN & sp\\textbar{}O00170\\textbar{}AIP\\_HUMAN & sp\\textbar{}O00299\\textbar{}CLIC1\\_HUMAN & sp\\textbar{}O00429\\textbar{}DNM1L\\_HUMAN & sp\\textbar{}O00483\\textbar{}NDUA4\\_HUMAN & sp\\textbar{}O00571\\textbar{}DDX3X\\_HUMAN & sp\\textbar{}O14828\\textbar{}SCAM3\\_HUMAN & sp\\textbar{}O14929\\textbar{}HAT1\\_HUMAN & sp\\textbar{}O15143\\textbar{}ARC1B\\_HUMAN & sp\\textbar{}O15145\\textbar{}ARPC3\\_HUMAN & ... & sp\\textbar{}Q9Y230\\textbar{}RUVB2\\_HUMAN & sp\\textbar{}Q9Y285\\textbar{}SYFA\\_HUMAN & sp\\textbar{}Q9Y2B0\\textbar{}CNPY2\\_HUMAN & sp\\textbar{}Q9Y2X3\\textbar{}NOP58\\_HUMAN & sp\\textbar{}Q9Y383\\textbar{}LC7L2\\_HUMAN & sp\\textbar{}Q9Y4L1\\textbar{}HYOU1\\_HUMAN & sp\\textbar{}Q9Y5K5\\textbar{}UCHL5\\_HUMAN & sp\\textbar{}Q9Y5M8\\textbar{}SRPRB\\_HUMAN & sp\\textbar{}Q9Y5X3\\textbar{}SNX5\\_HUMAN & sp\\textbar{}Q9Y678\\textbar{}COPG1\\_HUMAN\\\\\n",
       "\\hline\n",
       "\tCTG-0158 &  0.20938059  &  0.65302273  & -1.09979027  & -0.66767388  & -0.46478367  & -1.10403975  &  1.06490365  &  1.21230326  & -0.105195386 &  0.26267952  & ...          & -0.22505973  & -0.582060943 &  0.19060787  &  0.52371760  &  0.93048687  &  1.973644405 & -0.112272010 & -0.27387703  &  0.40415286  &  0.174003344\\\\\n",
       "\tCTG-0159 & -0.18399887  & -0.01878222  & -0.31203641  & -0.94885859  & -1.04324243  & -0.59897675  & -2.68255956  & -0.11645569  &  0.367815192 & -0.11145685  & ...          &  0.79998826  & -0.250965168 &  0.15777918  &  0.44969296  & -0.59527906  & -0.793707538 & -0.163698766 &  0.09551761  & -0.82719375  &  0.838111041\\\\\n",
       "\tCTG-0160 & -0.31536713  & -0.72257789  & -0.09335798  &  0.31297962  & -0.70007151  & -0.77596464  & -0.26041871  &  0.26383190  & -0.330908387 &  0.08231688  & ...          & -0.83178133  & -0.588701832 & -0.19736755  & -0.40598512  & -0.68328123  & -1.228597105 &  0.123870474 & -0.04829252  &  0.01204807  &  0.103659711\\\\\n",
       "\tCTG-0162 & -0.88154878  &  0.01443322  & -0.41562092  & -0.21096704  &  1.44115059  & -0.53314589  &  0.09178181  &  0.40438159  & -0.155148264 & -0.08463036  & ...          &  0.45583322  &  1.050649166 &  2.51547601  &  1.22529439  &  0.42877833  & -0.001087398 & -0.105924094 & -0.06383016  & -0.38968736  &  2.550996683\\\\\n",
       "\tCTG-0163 & -1.04384468  & -0.96250823  & -1.21616300  &  0.96005375  &  0.30991953  & -0.60005594  & -0.61117212  &  1.24576747  & -0.794668433 &  0.13150669  & ...          & -0.49652685  & -0.141864841 & -0.05160775  & -0.08947156  & -0.31829132  & -0.880405779 &  0.021034231 &  0.10679683  &  0.18264805  &  0.239490505\\\\\n",
       "\tCTG-0166 &  0.51892509  &  0.26052131  & -1.50645541  & -0.41268651  &  0.79590707  & -0.50184925  &  0.65588175  &  1.99154133  & -0.438831270 & -1.17873101  & ...          &  2.46884353  &  0.220753161 &  0.09720792  &  0.47399956  &  1.50055472  &  1.344382973 & -1.092390279 &  0.18152170  &  0.21016417  & -0.025213351\\\\\n",
       "\tCTG-0167 & -0.61822100  & -0.13567136  &  0.02940885  & -0.71220935  & -2.37482776  & -0.42948151  & -0.01025198  & -0.15898380  & -0.459986312 & -0.22772799  & ...          &  0.09684391  &  0.367586250 &  0.75018782  &  0.31711152  &  0.49713764  & -1.044013752 & -0.262821526 & -0.85052744  & -0.10076804  &  0.272571005\\\\\n",
       "\tCTG-0178 & -1.31039688  & -1.40299573  &  0.93225662  & -0.44499655  &  0.10134559  & -1.49362895  &  0.44337316  & -0.30772079  & -0.848321523 & -0.55118827  & ...          & -0.43867320  & -1.137998261 & -0.26310190  & -0.85733907  & -0.68572263  & -0.887397573 & -1.436447339 & -0.56421305  & -0.56441475  &  0.729257096\\\\\n",
       "\tCTG-0184 & -0.82243438  & -0.92190463  &  0.57674433  & -0.16206535  &  0.93872371  & -1.02094178  &  0.05377409  &  0.17300047  & -0.242103272 &  0.49819437  & ...          &  0.66796327  & -1.002334376 & -0.72262659  &  1.09934202  &  0.04303649  &  0.431254717 & -3.302734716 & -0.10457777  & -0.11173088  &  0.851874184\\\\\n",
       "\tCTG-0464 & -1.13090407  &  0.06242497  & -0.15357661  & -0.58296917  &  0.37875920  & -0.08872712  &  0.05034654  &  1.20465430  & -0.052775700 & -0.12487657  & ...          &  0.47363434  & -0.077353344 &  0.54575461  &  0.43532997  &  0.48737203  &  0.580879102 &  0.688835020 &  0.78637017  &  0.10361908  &  1.233488589\\\\\n",
       "\tCTG-0502 & -0.96430894  &  0.82405000  & -0.14451083  &  0.50509340  &  1.14935257  &  0.10465803  &  1.09803671  &  1.32512546  &  0.276543268 & -0.67341749  & ...          &  0.75548546  &  0.360108310 &  0.61439642  &  1.23744769  &  0.95490091  &  1.130434086 &  1.209364152 &  0.50861924  &  0.65179798  &  0.711740369\\\\\n",
       "\tCTG-0743 &  0.41574359  & -0.12705848  &  0.31842245  & -0.47381362  & -0.20894667  & -1.37707595  &  0.19773152  & -0.46377566  & -0.599188818 & -0.04885595  & ...          & -0.83326476  & -0.336348033 & -0.07799050  & -0.29386795  & -0.23406288  & -0.378342709 &  0.963065002 &  0.49593011  &  0.17576902  &  0.316607250\\\\\n",
       "\tCTG-0828 & -0.36241687  & -0.66814993  & -0.54861833  & -1.45621361  & -0.25004499  & -1.70838864  & -0.34953521  & -0.30984029  & -0.590907741 & -0.51392326  & ...          & -0.74534719  & -0.842004330 &  0.25924968  & -1.10371958  & -0.39885765  & -0.445516212 &  0.245750466 & -1.34681337  & -0.13929062  &  0.132437190\\\\\n",
       "\tCTG-0838 & -0.19904617  & -0.32392440  &  0.56267729  &  0.10078122  &  0.14963610  & -0.49645328  &  0.41709522  &  1.01438636  & -0.184749969 &  0.18516830  & ...          &  0.44544923  &  0.149385596 & -1.13746186  &  0.84412275  &  0.32379795  & -0.869218909 & -0.046658262 &  0.42261515  & -0.92212438  & -0.006445429\\\\\n",
       "\tCTG-0848 & -0.85037937  &  0.17193164  &  0.31586480  & -0.30615069  &  0.47842261  & -1.00151628  &  1.81553881  & -0.03065316  & -0.077370200 & -0.10549877  & ...          &  0.43803210  &  0.169308265 &  1.01878619  &  0.61762945  & -0.09162077  &  0.867542643 &  1.587699961 &  1.01759430  &  0.08112173  &  1.341091339\\\\\n",
       "\tCTG-0852 &  0.15886465  &  0.09072445  &  0.66754063  & -1.18638108  &  0.06846694  & -0.49537408  & -0.11189120  & -0.03227855  & -0.619525011 & -0.03394995  & ...          &  0.13096273  &  0.046010702 &  1.41123826  & -0.25280476  & -0.00212949  &  0.957037603 &  0.302881712 &  0.15050383  &  0.36425447  &  1.307309081\\\\\n",
       "\tCTG-0860 & -0.33554669  & -1.94806824  & -0.61255939  & -0.18389646  &  1.07332069  & -0.03779564  &  2.59816451  & -0.81562794  &  0.288877312 &  0.07699329  & ...          & -0.08561760  &  0.612350462 &  2.90942029  & -0.37894104  & -0.04729547  &  0.331971247 &  0.017937491 &  1.66051016  & -0.07737934  &  1.308560275\\\\\n",
       "\tCTG-0924 & -0.16035311  & -0.67828305  & -0.65987577  &  0.57145998  & -0.05283007  & -0.70581700  &  1.25227681  & -0.11861623  &  0.125451232 & -0.40212823  & ...          &  0.42913154  &  0.506096230 &  1.37542514  &  0.26849833  & -0.01555721  &  1.923303491 &  0.663443355 &  1.29534523  &  0.04506742  &  1.268522043\\\\\n",
       "\tCTG-1012 & -0.34736957  & -0.96004740  & -1.05758917  & -0.28519282  &  1.32093802  & -0.05722114  &  0.95407928  &  0.95128241  & -0.194617204 & -0.44088384  & ...          &  1.52241717  &  0.404173745 &  0.26820296  &  1.16563274  &  0.24570883  & -0.697220785 &  0.337160460 &  0.56501537  & -0.01684386  & -0.420590898\\\\\n",
       "\tCTG-1014 & -0.70743001  & -0.91575257  &  1.09466691  & -1.11739477  & -0.02605918  & -0.08535680  & -0.69457603  &  1.16736561  &  0.025545478 & -0.06227136  & ...          &  0.08645992  & -0.054583768 &  0.01703471  & -0.09610063  &  0.21637617  &  0.990598212 &  0.954177919 & -0.01163504  & -0.33052769  &  1.084596411\\\\\n",
       "\tCTG-1194 &  1.25839249  & -0.86407527  &  0.85680617  &  0.69895367  & -0.27470398  & -0.82344919  & -1.15958137  &  0.83081125  & -0.164398796 & -0.06227136  & ...          &  1.15156044  & -0.258554756 & -0.82111266  &  0.40218461  & -0.02654353  & -0.167776916 &  0.870385425 & -0.18505313  & -1.33899368  &  0.755532186\\\\\n",
       "\tCTG-1212 & -0.68915828  & -0.57369803  &  0.43223753  & -0.33539447  &  0.72706740  & -0.90115119  & -0.39295094  & -0.28689340  &  0.000260688 & -0.02351575  & ...          & -0.43758391  &  0.184487441 & -1.00913152  &  0.12155390  &  0.23590741  & -0.825869789 &  0.481892950 &  0.41415573  &  0.10835451  &  0.153707502\\\\\n",
       "\tCTG-1217 & -0.39270221  & -0.28209039  & -0.39771743  & -1.02221113  &  1.67232860  & -1.08353506  &  1.63502076  & -0.15399268  & -1.182574110 & -1.43511427  & ...          & -0.62855185  & -0.487020361 &  0.66513167  & -0.61316825  & -0.51848645  &  0.064884728 & -0.008166184 &  0.66229869  &  0.25418997  &  1.145904955\\\\\n",
       "\tCTG-1253 & -0.09586467  & -1.04863707  & -0.64197228  &  0.19334513  &  0.70754570  & -0.70689619  & -1.06703731  & -0.06602961  & -0.475833402 & -0.22176559  & ...          & -0.38526983  & -0.559292179 & -1.14939956  & -0.31010712  & -2.90617964  & -2.159904025 &  0.136566307 &  0.45786273  &  0.08912841  &  0.662943773\\\\\n",
       "\tCTG-1309 &  0.49098010  & -0.96742988  &  1.62537771  & -0.14722020  &  0.76405588  & -0.31514861  & -0.38266827  &  0.06304663  &  0.415301261 &  0.70240661  & ...          & -0.76947740  & -0.548856496 &  1.27843128  &  0.18342524  & -0.26946324  & -0.007829927 &  0.283837964 &  0.94991894  &  0.73021894  &  1.705189018\\\\\n",
       "\tCTG-1329 & -0.38498783  & -0.49126043  & -0.09591562  & -0.43713735  & -0.05893783  & -0.77056867  & -0.22614313  &  0.95988750  &  0.015678243 &  0.19113070  & ...          &  0.14134672  & -0.052687183 &  0.67706937  & -0.28392434  &  0.18219652  & -0.196827910 &  1.060822912 &  1.05989139  &  0.68619314  &  1.462457232\\\\\n",
       "\tCTG-1352 & -0.06791968  & -0.56754597  &  0.04347589  & -0.02234624  &  0.31300190  & -0.75330156  &  0.03171738  & -0.04560257  &  0.046513352 & -0.88955454  & ...          &  0.23776947  & -0.001457464 & -0.26750157  & -0.07772836  & -1.47063404  &  0.923476993 & -1.143173609 &  0.37890815  & -0.11727772  & -0.438107625\\\\\n",
       "\tCTG-1354 & -0.53223642  & -1.36854419  & -0.42073621  & -0.62226517  & -1.01550106  & -1.42348131  & -1.62001664  & -0.95044091  &  0.289494014 &  0.59508339  & ...          & -0.72794145  & -1.520323754 & -1.23594793  & -0.26845650  & -0.72600580  & -1.771160296 & -0.532504066 & -0.30912461  & -0.15992771  & -0.232911683\\\\\n",
       "\tCTG-1355 & -1.00837604  &  0.20146153  & -0.68673102  & -0.50263069  & -0.89323358  & -1.13965317  & -0.05133768  &  0.32884808  & -0.166248903 & -0.49156425  & ...          &  1.63812446  &  0.285998180 &  0.71139027  &  0.58669379  & -0.17370650  &  0.322182736 &  0.800558346 &  1.61116354  &  0.32298029  &  0.311358043\\\\\n",
       "\tCTG-1356 & -0.32372381  & -0.60691916  & -0.39771743  & -0.80477326  & -0.01633025  & -1.79580339  &  0.59875578  &  1.34902847  & -1.232526987 & -0.16661338  & ...          &  0.61455990  &  0.362842758 & -0.36747986  &  0.47178987  &  0.58624889  & -0.140329643 & -0.159745338 & -0.07790049  & -0.67447926  & -0.563227102\\\\\n",
       "\t... & ... & ... & ... & ... & ... & ... & ... & ... & ... & ... &     & ... & ... & ... & ... & ... & ... & ... & ... & ... & ...\\\\\n",
       "\tCTG-3670 & -1.0513683    & -0.005247688  &  0.27494252   & -0.13586802   &  0.9677516    & -0.8817257    & -1.41322065   & -0.49723987   & 1.67460713    & -0.7822313191 & ...           & -0.4179052    & -1.0600338    &  0.01452672   &  1.18331027   &  0.20172775   &  0.052299499  & -2.2591373    &  0.29854367   & -1.5206001    & -1.48160406  \\\\\n",
       "\tCTG-3673 & -1.8166311    & -0.018273047  &  0.53712611   & -1.53742535   &  1.7617174    & -0.4662358    & -0.32896986   &  0.03531915   & 1.39894125    & -1.4664168729 & ...           &  0.2867226    & -1.2034585    & -0.66286531   &  1.84732231   &  0.99030127   &  0.748682151  & -0.9857453    &  1.00490517   & -3.3985757    & -2.23232093  \\\\\n",
       "\tCTG-3674 &  0.2706446    &  1.029528809  &  1.32229709   & -0.25462926   &  0.6952162    & -0.1619030    & -2.78195874   &  1.22664507   & 1.91080407    &  0.0077868585 & ...           &  0.3282585    & -0.7699032    &  0.52038699   &  1.03747068   &  0.94723370   & -0.553189835  &  0.1022876    &  0.76768348   & -1.3472485    & -1.37275012  \\\\\n",
       "\tCTG-3679 & -0.9815284    & -0.647522754  & -0.28901763   & -0.87899904   &  1.3846404    & -0.6162439    & -2.00847319   & -0.22466477   & 1.52598190    & -0.5094514578 & ...           & -0.4446069    & -0.5241903    & -0.22721182   &  1.71032149   &  0.60455942   &  0.312394224  & -0.7724553    &  0.72997405   & -1.6953275    & -0.97361899  \\\\\n",
       "\tCTG-3680 &  0.1889593    &  0.180212636  &  1.15605033   & -0.06383005   &  0.9387237    & -0.7878358    & -0.36553048   &  0.89487132   & 0.82372428    &  0.9558086717 & ...           & -0.5588308    & -0.5175494    & -1.39113810   &  0.54434393   &  0.47760641   & -1.318092064  & -0.1922558    & -0.21043139   & -0.5000750    & -1.05619784  \\\\\n",
       "\tCTG-2242 & -1.3910074    & -0.854231971  & -0.08696388   & -0.90868935   &  1.5706103    &  0.2179734    & -1.19499947   & -2.52708332   & 1.09799058    & -1.3695278512 & ...           & -0.1508884    & -1.6324433    &  0.27566403   &  2.27931684   &  1.10993007   &  1.033947333  & -1.0612276    &  1.30239474   & -2.5221871    & -0.60451653  \\\\\n",
       "\tCTG-2452 & -0.6558393    & -0.956356168  & -1.81081486   & -1.85004686   &  2.3370938    & -0.3615540    & -0.67972328   &  1.02585980   & 0.86179365    & -2.3056248616 & ...           &  0.6783473    & -1.1740488    & -0.07948271   &  2.36107540   &  1.76300566   &  0.003356943  & -0.7280199    &  1.21357084   & -2.9321773    & -1.81066829  \\\\\n",
       "\tCTG-2453 & -1.5973704    & -0.830854143  & -0.34656458   & -0.59606784   &  1.3404597    & -0.6507781    & -1.64058198   & -2.65711568   & 0.84699279    & -1.7675181406 & ...           &  0.2600209    & -0.8040564    &  0.01303451   &  2.61629467   &  0.56642572   &  0.736096922  & -1.2625144    &  1.10782810   & -1.4132872    & -1.18381971  \\\\\n",
       "\tCTG-2701 & -3.1375692    & -0.405131589  & -0.14219089   & -3.09791316   &  1.1020895    & -0.4295432    &  0.27656535   & -2.44676921   & 0.87474439    & -1.2860542324 & ...           & -0.5336125    & -1.7992411    & -1.40009138   &  1.46394098   &  0.53131730   &  0.705333030  & -1.9125411    &  0.92595059   & -1.5398614    & -1.11500400  \\\\\n",
       "\tCTG-2703 &  0.0470847    & -0.359663173  &  0.99236122   & -0.84494251   &  0.7486440    & -0.7770438    & -2.11701252   & -2.13507399   & 0.99194764    & -0.0786679609 & ...           & -0.7754111    & -1.3125588    & -0.57788191   &  0.37345864   &  0.07233333   & -0.035175397  & -0.8714828    &  0.06167993   & -0.6208228    & -0.81721964  \\\\\n",
       "\tCTG-2704 & -1.8263044    & -0.670900583  & -0.08440623   & -1.60379193   &  1.5849947    & -1.4299565    & -1.47720173   & -0.19032525   & 1.40079136    & -1.5349844884 & ...           & -0.1301204    & -2.2119250    &  0.52486363   &  2.06608169   &  0.50202045   &  0.095648620  & -1.0527394    &  1.01759430   & -2.1507194    & -2.00960826  \\\\\n",
       "\tCTG-2237 & -2.9312600    & -2.286431545  & -1.27626759   & -3.01320845   &  1.8058981    & -0.8331619    & -0.74141932   & -0.89077314   & 0.07796516    & -2.7259741561 & ...           & -0.9697400    & -2.6056348    & -0.33912781   &  0.86180027   & -0.01189511   &  0.571090591  & -3.4753980    &  0.30700309   & -3.2596192    & -2.04339052  \\\\\n",
       "\tCTG-2700 & -3.2321523    & -0.998190176  &  0.65986771   & -0.58471566   &  0.8205661    & -0.8417955    & -0.92764996   & -3.20019203   & 0.91544674    & -1.2174866170 & ...           & -1.3583979    & -1.5848353    & -0.51222453   &  1.14132614   & -0.60149419   & -0.251262073  & -1.4910394    & -0.04829252   & -0.7652825    & -2.11595981  \\\\\n",
       "\tCTG-2602 & -0.2990032    &  0.267903777  &  0.89133434   & -0.50612366   &  0.6798043    & -0.5126412    & -1.04191200   & -0.35286571   & 0.95159535    &  0.1553562917 & ...           & -1.6179976    & -1.5355029    & -0.80022168   &  0.46295111   & -0.40740257   & -0.579758651  & -1.3767769    & -0.30207510   & -0.5396502    & -1.05744904  \\\\\n",
       "\tCTG-3440 & -1.4812912    & -0.672130995  &  0.72892405   & -1.17764864   &  1.0270851    & -1.5065793    & -3.08358382   &  0.47704673   & 1.46431168    & -0.8701767389 & ...           & -1.2931271    & -1.2385603    & -0.60691797   &  0.59221801   &  0.20172775   & -0.069977688  & -1.4808828    & -0.14557584   & -0.7831680    & -1.54666619  \\\\\n",
       "\tCTG-2716 &  0.4501374    &  2.437120142  &  1.96426533   &  2.25944148   & -1.8117809    &  1.4007706    &  0.08743314   & -2.29378996   & 2.25924080    &  0.5145909725 & ...           &  2.0772188    &  0.7546552    & -2.17604223   & -2.12680636   &  2.12555416   &  1.618461286  &  1.7045016    &  1.43351574   &  2.1885736    & -0.59951175  \\\\\n",
       "\tCTG-3020 &  0.8811351    &  1.251126470  &  1.87091138   &  2.46814690   & -1.6299208    &  0.7694418    & -0.67743824   & -2.11403934   & 1.90648715    &  1.0452446918 & ...           &  2.5593326    &  0.8647043    & -1.74330041   &  0.44129039   &  1.90338639   &  2.172211346  &  1.7882941    &  0.89518244   &  2.7003735    &  0.42771916  \\\\\n",
       "\tCTG-3064 &  0.9617457    &  2.752105616  &  1.43866982   &  2.68558477   & -1.0442699    &  1.6663675    & -0.72199649   & -0.39875948   & 2.38813156    &  1.2688347421 & ...           &  2.6928410    &  1.5222245    &  0.54629513   & -0.06185043   &  2.00913021   &  2.678417210  &  1.8086074    &  1.44620487   &  1.5625817    &  0.03859758  \\\\\n",
       "\tCTG-3766 &  0.6693981    &  2.455576322  &  2.10877213   &  2.22189197   &  0.5432917    &  1.5416283    & -0.15302189   & -0.79746166   & 2.43870114    &  1.1585303173 & ...           &  2.6394376    &  1.5145627    & -2.13575248   & -0.83966154   &  3.26813127   &  2.221153902  &  0.9270994    &  2.19063376   &  1.5158043    & -0.40702477  \\\\\n",
       "\tCTG-3793 &  1.4626059    &  2.138130025  &  1.23533725   &  2.43321713   & -1.2816126    &  1.6932323    & -0.21928801   & -1.37687057   & 1.90278694    &  0.0003338569 & ...           &  3.2239078    &  1.8456585    & -2.15216682   & -0.56676475   &  1.55060350   &  1.176579925  &  2.3304062    &  1.29816503   &  2.1321655    & -0.43935882  \\\\\n",
       "\tCTG-3794 &  1.0230097    &  3.177828170  &  0.73276051   &  1.75515058   & -1.0514621    &  1.7587156    & -0.61002960   & -1.29751259   & 2.14638430    &  0.7456340244 & ...           &  3.1660542    &  1.6514156    & -0.14215567   &  0.04642442   &  1.98629328   &  2.651848394  &  1.0945693    &  1.99042750   &  0.7123348    &  0.08364059  \\\\\n",
       "\tCTG-3795 &  0.9166038    &  2.757027264  &  1.96298651   &  3.00431899   & -1.1583177    &  1.8173396    & -0.75969963   & -1.94384992   & 2.47138636    &  1.3314399562 & ...           &  3.2372587    &  1.7071485    & -3.06689350   & -0.83192763   &  2.28180402   &  0.867542643  &  2.2339178    &  1.45325439   &  2.6343348    & -0.19037106  \\\\\n",
       "\tCTG-3796 &  1.2935462    &  2.792709212  &  0.63045482   &  2.58428841   & -0.6394515    &  1.5734417    & -0.31068955   &  0.55649219   & 2.12356632    & -0.2187843924 & ...           &  1.8879464    &  0.8893704    & -0.78828397   & -1.56775462   &  2.62604200   &  2.594515685  &  1.7489370    &  0.93018030   &  0.6524785    & -0.59075339  \\\\\n",
       "\tCTG-3797 &  1.2723650    &  3.214740530  &  2.13946384   &  2.91175508   & -1.0175560    &  2.0245450    & -0.41922888   & -0.06220513   & 2.42205018    &  1.1622821504 & ...           &  2.6290536    &  1.6151248    & -1.82089549   & -1.17995391   &  1.34308415   &  0.667577344  &  2.6770024    &  0.65806898   &  2.0743817    &  0.21251366  \\\\\n",
       "\tCTG-3799 &  0.8671626    &  1.587988556  &  2.08958981   &  2.65589446   &  0.5407304    &  1.0899626    &  0.54734242   & -1.01067649   & 2.10198175    &  0.9352048455 & ...           &  1.8977242    &  0.3675863    & -1.20908809   & -0.01986630   &  2.88849293   &  0.568293873  &  2.2224916    &  2.41057866   &  2.0110946    & -0.31674173  \\\\\n",
       "\tCTG-3800 &  1.1705716    &  2.829621572  &  0.94632366   &  1.55926641   & -1.2179103    &  1.9554765    & -0.04334004   & -0.04403884   & 1.82446576    & -0.0428935529 & ...           &  2.6246034    &  1.1929539    & -0.55400650   & -1.67050524   &  1.89635653   & -0.177031334  &  0.8640375    &  1.14440463   &  1.7524430    & -1.20634121  \\\\\n",
       "\tCTG-3801 &  1.4185388    &  2.990805545  &  1.05273402   &  2.30659668   & -1.9474053    &  1.5123882    & -0.62145480   & -0.69037618   & 2.30549347    &  0.8742364123 & ...           &  2.8545345    &  1.5819203    & -2.32675576   & -1.16780061   &  2.91901048   &  1.250692938  &  1.7819462    &  0.88083369   &  1.9739478    & -0.49065781  \\\\\n",
       "\tCTG-3802 &  0.4888305    &  3.081856033  &  0.94376601   &  1.75645268   & -2.4292830    &  1.5540162    &  0.56905028   & -1.93906932   & 2.00454280    &  0.2194521061 & ...           &  4.1065468    &  1.8475559    & -1.89699837   & -0.67172505   &  3.21930319   &  0.572488950  &  2.7265161    &  1.21383720   &  1.4566446    &  0.31135804  \\\\\n",
       "\tCTG-3803 &  1.0606279    &  1.220242669  &  1.12152216   &  2.17037055   & -1.4840218    &  1.9133879    & -0.74827443   & -0.29167401   & 1.82138225    &  0.0420706662 & ...           &  2.3902219    &  1.4310773    & -1.48514753   & -1.82960296   &  1.71368660   &  1.014311585  &  0.8006191    &  1.01336459   &  1.6079833    & -0.18911987  \\\\\n",
       "\tCTG-3805 &  1.4733539    &  2.955123597  &  1.52179320   &  1.67530301   & -1.8169182    &  2.3072939    &  0.06862684   & -1.32045947   & 1.89661992    & -0.0712149592 & ...           &  2.9687584    &  1.7061998    & -1.50305409   &  0.64650986   &  3.31573865   & -0.402167091  &  2.5614703    &  0.88788320   &  1.0480302    & -1.12251117  \\\\\n",
       "\\end{tabular}\n"
      ],
      "text/markdown": [
       "\n",
       "| <!--/--> | sp|A0AVT1|UBA6_HUMAN | sp|O00170|AIP_HUMAN | sp|O00299|CLIC1_HUMAN | sp|O00429|DNM1L_HUMAN | sp|O00483|NDUA4_HUMAN | sp|O00571|DDX3X_HUMAN | sp|O14828|SCAM3_HUMAN | sp|O14929|HAT1_HUMAN | sp|O15143|ARC1B_HUMAN | sp|O15145|ARPC3_HUMAN | ... | sp|Q9Y230|RUVB2_HUMAN | sp|Q9Y285|SYFA_HUMAN | sp|Q9Y2B0|CNPY2_HUMAN | sp|Q9Y2X3|NOP58_HUMAN | sp|Q9Y383|LC7L2_HUMAN | sp|Q9Y4L1|HYOU1_HUMAN | sp|Q9Y5K5|UCHL5_HUMAN | sp|Q9Y5M8|SRPRB_HUMAN | sp|Q9Y5X3|SNX5_HUMAN | sp|Q9Y678|COPG1_HUMAN |\n",
       "|---|---|---|---|---|---|---|---|---|---|---|---|---|---|---|---|---|---|---|---|---|---|\n",
       "| CTG-0158 |  0.20938059  |  0.65302273  | -1.09979027  | -0.66767388  | -0.46478367  | -1.10403975  |  1.06490365  |  1.21230326  | -0.105195386 |  0.26267952  | ...          | -0.22505973  | -0.582060943 |  0.19060787  |  0.52371760  |  0.93048687  |  1.973644405 | -0.112272010 | -0.27387703  |  0.40415286  |  0.174003344 |\n",
       "| CTG-0159 | -0.18399887  | -0.01878222  | -0.31203641  | -0.94885859  | -1.04324243  | -0.59897675  | -2.68255956  | -0.11645569  |  0.367815192 | -0.11145685  | ...          |  0.79998826  | -0.250965168 |  0.15777918  |  0.44969296  | -0.59527906  | -0.793707538 | -0.163698766 |  0.09551761  | -0.82719375  |  0.838111041 |\n",
       "| CTG-0160 | -0.31536713  | -0.72257789  | -0.09335798  |  0.31297962  | -0.70007151  | -0.77596464  | -0.26041871  |  0.26383190  | -0.330908387 |  0.08231688  | ...          | -0.83178133  | -0.588701832 | -0.19736755  | -0.40598512  | -0.68328123  | -1.228597105 |  0.123870474 | -0.04829252  |  0.01204807  |  0.103659711 |\n",
       "| CTG-0162 | -0.88154878  |  0.01443322  | -0.41562092  | -0.21096704  |  1.44115059  | -0.53314589  |  0.09178181  |  0.40438159  | -0.155148264 | -0.08463036  | ...          |  0.45583322  |  1.050649166 |  2.51547601  |  1.22529439  |  0.42877833  | -0.001087398 | -0.105924094 | -0.06383016  | -0.38968736  |  2.550996683 |\n",
       "| CTG-0163 | -1.04384468  | -0.96250823  | -1.21616300  |  0.96005375  |  0.30991953  | -0.60005594  | -0.61117212  |  1.24576747  | -0.794668433 |  0.13150669  | ...          | -0.49652685  | -0.141864841 | -0.05160775  | -0.08947156  | -0.31829132  | -0.880405779 |  0.021034231 |  0.10679683  |  0.18264805  |  0.239490505 |\n",
       "| CTG-0166 |  0.51892509  |  0.26052131  | -1.50645541  | -0.41268651  |  0.79590707  | -0.50184925  |  0.65588175  |  1.99154133  | -0.438831270 | -1.17873101  | ...          |  2.46884353  |  0.220753161 |  0.09720792  |  0.47399956  |  1.50055472  |  1.344382973 | -1.092390279 |  0.18152170  |  0.21016417  | -0.025213351 |\n",
       "| CTG-0167 | -0.61822100  | -0.13567136  |  0.02940885  | -0.71220935  | -2.37482776  | -0.42948151  | -0.01025198  | -0.15898380  | -0.459986312 | -0.22772799  | ...          |  0.09684391  |  0.367586250 |  0.75018782  |  0.31711152  |  0.49713764  | -1.044013752 | -0.262821526 | -0.85052744  | -0.10076804  |  0.272571005 |\n",
       "| CTG-0178 | -1.31039688  | -1.40299573  |  0.93225662  | -0.44499655  |  0.10134559  | -1.49362895  |  0.44337316  | -0.30772079  | -0.848321523 | -0.55118827  | ...          | -0.43867320  | -1.137998261 | -0.26310190  | -0.85733907  | -0.68572263  | -0.887397573 | -1.436447339 | -0.56421305  | -0.56441475  |  0.729257096 |\n",
       "| CTG-0184 | -0.82243438  | -0.92190463  |  0.57674433  | -0.16206535  |  0.93872371  | -1.02094178  |  0.05377409  |  0.17300047  | -0.242103272 |  0.49819437  | ...          |  0.66796327  | -1.002334376 | -0.72262659  |  1.09934202  |  0.04303649  |  0.431254717 | -3.302734716 | -0.10457777  | -0.11173088  |  0.851874184 |\n",
       "| CTG-0464 | -1.13090407  |  0.06242497  | -0.15357661  | -0.58296917  |  0.37875920  | -0.08872712  |  0.05034654  |  1.20465430  | -0.052775700 | -0.12487657  | ...          |  0.47363434  | -0.077353344 |  0.54575461  |  0.43532997  |  0.48737203  |  0.580879102 |  0.688835020 |  0.78637017  |  0.10361908  |  1.233488589 |\n",
       "| CTG-0502 | -0.96430894  |  0.82405000  | -0.14451083  |  0.50509340  |  1.14935257  |  0.10465803  |  1.09803671  |  1.32512546  |  0.276543268 | -0.67341749  | ...          |  0.75548546  |  0.360108310 |  0.61439642  |  1.23744769  |  0.95490091  |  1.130434086 |  1.209364152 |  0.50861924  |  0.65179798  |  0.711740369 |\n",
       "| CTG-0743 |  0.41574359  | -0.12705848  |  0.31842245  | -0.47381362  | -0.20894667  | -1.37707595  |  0.19773152  | -0.46377566  | -0.599188818 | -0.04885595  | ...          | -0.83326476  | -0.336348033 | -0.07799050  | -0.29386795  | -0.23406288  | -0.378342709 |  0.963065002 |  0.49593011  |  0.17576902  |  0.316607250 |\n",
       "| CTG-0828 | -0.36241687  | -0.66814993  | -0.54861833  | -1.45621361  | -0.25004499  | -1.70838864  | -0.34953521  | -0.30984029  | -0.590907741 | -0.51392326  | ...          | -0.74534719  | -0.842004330 |  0.25924968  | -1.10371958  | -0.39885765  | -0.445516212 |  0.245750466 | -1.34681337  | -0.13929062  |  0.132437190 |\n",
       "| CTG-0838 | -0.19904617  | -0.32392440  |  0.56267729  |  0.10078122  |  0.14963610  | -0.49645328  |  0.41709522  |  1.01438636  | -0.184749969 |  0.18516830  | ...          |  0.44544923  |  0.149385596 | -1.13746186  |  0.84412275  |  0.32379795  | -0.869218909 | -0.046658262 |  0.42261515  | -0.92212438  | -0.006445429 |\n",
       "| CTG-0848 | -0.85037937  |  0.17193164  |  0.31586480  | -0.30615069  |  0.47842261  | -1.00151628  |  1.81553881  | -0.03065316  | -0.077370200 | -0.10549877  | ...          |  0.43803210  |  0.169308265 |  1.01878619  |  0.61762945  | -0.09162077  |  0.867542643 |  1.587699961 |  1.01759430  |  0.08112173  |  1.341091339 |\n",
       "| CTG-0852 |  0.15886465  |  0.09072445  |  0.66754063  | -1.18638108  |  0.06846694  | -0.49537408  | -0.11189120  | -0.03227855  | -0.619525011 | -0.03394995  | ...          |  0.13096273  |  0.046010702 |  1.41123826  | -0.25280476  | -0.00212949  |  0.957037603 |  0.302881712 |  0.15050383  |  0.36425447  |  1.307309081 |\n",
       "| CTG-0860 | -0.33554669  | -1.94806824  | -0.61255939  | -0.18389646  |  1.07332069  | -0.03779564  |  2.59816451  | -0.81562794  |  0.288877312 |  0.07699329  | ...          | -0.08561760  |  0.612350462 |  2.90942029  | -0.37894104  | -0.04729547  |  0.331971247 |  0.017937491 |  1.66051016  | -0.07737934  |  1.308560275 |\n",
       "| CTG-0924 | -0.16035311  | -0.67828305  | -0.65987577  |  0.57145998  | -0.05283007  | -0.70581700  |  1.25227681  | -0.11861623  |  0.125451232 | -0.40212823  | ...          |  0.42913154  |  0.506096230 |  1.37542514  |  0.26849833  | -0.01555721  |  1.923303491 |  0.663443355 |  1.29534523  |  0.04506742  |  1.268522043 |\n",
       "| CTG-1012 | -0.34736957  | -0.96004740  | -1.05758917  | -0.28519282  |  1.32093802  | -0.05722114  |  0.95407928  |  0.95128241  | -0.194617204 | -0.44088384  | ...          |  1.52241717  |  0.404173745 |  0.26820296  |  1.16563274  |  0.24570883  | -0.697220785 |  0.337160460 |  0.56501537  | -0.01684386  | -0.420590898 |\n",
       "| CTG-1014 | -0.70743001  | -0.91575257  |  1.09466691  | -1.11739477  | -0.02605918  | -0.08535680  | -0.69457603  |  1.16736561  |  0.025545478 | -0.06227136  | ...          |  0.08645992  | -0.054583768 |  0.01703471  | -0.09610063  |  0.21637617  |  0.990598212 |  0.954177919 | -0.01163504  | -0.33052769  |  1.084596411 |\n",
       "| CTG-1194 |  1.25839249  | -0.86407527  |  0.85680617  |  0.69895367  | -0.27470398  | -0.82344919  | -1.15958137  |  0.83081125  | -0.164398796 | -0.06227136  | ...          |  1.15156044  | -0.258554756 | -0.82111266  |  0.40218461  | -0.02654353  | -0.167776916 |  0.870385425 | -0.18505313  | -1.33899368  |  0.755532186 |\n",
       "| CTG-1212 | -0.68915828  | -0.57369803  |  0.43223753  | -0.33539447  |  0.72706740  | -0.90115119  | -0.39295094  | -0.28689340  |  0.000260688 | -0.02351575  | ...          | -0.43758391  |  0.184487441 | -1.00913152  |  0.12155390  |  0.23590741  | -0.825869789 |  0.481892950 |  0.41415573  |  0.10835451  |  0.153707502 |\n",
       "| CTG-1217 | -0.39270221  | -0.28209039  | -0.39771743  | -1.02221113  |  1.67232860  | -1.08353506  |  1.63502076  | -0.15399268  | -1.182574110 | -1.43511427  | ...          | -0.62855185  | -0.487020361 |  0.66513167  | -0.61316825  | -0.51848645  |  0.064884728 | -0.008166184 |  0.66229869  |  0.25418997  |  1.145904955 |\n",
       "| CTG-1253 | -0.09586467  | -1.04863707  | -0.64197228  |  0.19334513  |  0.70754570  | -0.70689619  | -1.06703731  | -0.06602961  | -0.475833402 | -0.22176559  | ...          | -0.38526983  | -0.559292179 | -1.14939956  | -0.31010712  | -2.90617964  | -2.159904025 |  0.136566307 |  0.45786273  |  0.08912841  |  0.662943773 |\n",
       "| CTG-1309 |  0.49098010  | -0.96742988  |  1.62537771  | -0.14722020  |  0.76405588  | -0.31514861  | -0.38266827  |  0.06304663  |  0.415301261 |  0.70240661  | ...          | -0.76947740  | -0.548856496 |  1.27843128  |  0.18342524  | -0.26946324  | -0.007829927 |  0.283837964 |  0.94991894  |  0.73021894  |  1.705189018 |\n",
       "| CTG-1329 | -0.38498783  | -0.49126043  | -0.09591562  | -0.43713735  | -0.05893783  | -0.77056867  | -0.22614313  |  0.95988750  |  0.015678243 |  0.19113070  | ...          |  0.14134672  | -0.052687183 |  0.67706937  | -0.28392434  |  0.18219652  | -0.196827910 |  1.060822912 |  1.05989139  |  0.68619314  |  1.462457232 |\n",
       "| CTG-1352 | -0.06791968  | -0.56754597  |  0.04347589  | -0.02234624  |  0.31300190  | -0.75330156  |  0.03171738  | -0.04560257  |  0.046513352 | -0.88955454  | ...          |  0.23776947  | -0.001457464 | -0.26750157  | -0.07772836  | -1.47063404  |  0.923476993 | -1.143173609 |  0.37890815  | -0.11727772  | -0.438107625 |\n",
       "| CTG-1354 | -0.53223642  | -1.36854419  | -0.42073621  | -0.62226517  | -1.01550106  | -1.42348131  | -1.62001664  | -0.95044091  |  0.289494014 |  0.59508339  | ...          | -0.72794145  | -1.520323754 | -1.23594793  | -0.26845650  | -0.72600580  | -1.771160296 | -0.532504066 | -0.30912461  | -0.15992771  | -0.232911683 |\n",
       "| CTG-1355 | -1.00837604  |  0.20146153  | -0.68673102  | -0.50263069  | -0.89323358  | -1.13965317  | -0.05133768  |  0.32884808  | -0.166248903 | -0.49156425  | ...          |  1.63812446  |  0.285998180 |  0.71139027  |  0.58669379  | -0.17370650  |  0.322182736 |  0.800558346 |  1.61116354  |  0.32298029  |  0.311358043 |\n",
       "| CTG-1356 | -0.32372381  | -0.60691916  | -0.39771743  | -0.80477326  | -0.01633025  | -1.79580339  |  0.59875578  |  1.34902847  | -1.232526987 | -0.16661338  | ...          |  0.61455990  |  0.362842758 | -0.36747986  |  0.47178987  |  0.58624889  | -0.140329643 | -0.159745338 | -0.07790049  | -0.67447926  | -0.563227102 |\n",
       "| ... | ... | ... | ... | ... | ... | ... | ... | ... | ... | ... |     | ... | ... | ... | ... | ... | ... | ... | ... | ... | ... |\n",
       "| CTG-3670 | -1.0513683    | -0.005247688  |  0.27494252   | -0.13586802   |  0.9677516    | -0.8817257    | -1.41322065   | -0.49723987   | 1.67460713    | -0.7822313191 | ...           | -0.4179052    | -1.0600338    |  0.01452672   |  1.18331027   |  0.20172775   |  0.052299499  | -2.2591373    |  0.29854367   | -1.5206001    | -1.48160406   |\n",
       "| CTG-3673 | -1.8166311    | -0.018273047  |  0.53712611   | -1.53742535   |  1.7617174    | -0.4662358    | -0.32896986   |  0.03531915   | 1.39894125    | -1.4664168729 | ...           |  0.2867226    | -1.2034585    | -0.66286531   |  1.84732231   |  0.99030127   |  0.748682151  | -0.9857453    |  1.00490517   | -3.3985757    | -2.23232093   |\n",
       "| CTG-3674 |  0.2706446    |  1.029528809  |  1.32229709   | -0.25462926   |  0.6952162    | -0.1619030    | -2.78195874   |  1.22664507   | 1.91080407    |  0.0077868585 | ...           |  0.3282585    | -0.7699032    |  0.52038699   |  1.03747068   |  0.94723370   | -0.553189835  |  0.1022876    |  0.76768348   | -1.3472485    | -1.37275012   |\n",
       "| CTG-3679 | -0.9815284    | -0.647522754  | -0.28901763   | -0.87899904   |  1.3846404    | -0.6162439    | -2.00847319   | -0.22466477   | 1.52598190    | -0.5094514578 | ...           | -0.4446069    | -0.5241903    | -0.22721182   |  1.71032149   |  0.60455942   |  0.312394224  | -0.7724553    |  0.72997405   | -1.6953275    | -0.97361899   |\n",
       "| CTG-3680 |  0.1889593    |  0.180212636  |  1.15605033   | -0.06383005   |  0.9387237    | -0.7878358    | -0.36553048   |  0.89487132   | 0.82372428    |  0.9558086717 | ...           | -0.5588308    | -0.5175494    | -1.39113810   |  0.54434393   |  0.47760641   | -1.318092064  | -0.1922558    | -0.21043139   | -0.5000750    | -1.05619784   |\n",
       "| CTG-2242 | -1.3910074    | -0.854231971  | -0.08696388   | -0.90868935   |  1.5706103    |  0.2179734    | -1.19499947   | -2.52708332   | 1.09799058    | -1.3695278512 | ...           | -0.1508884    | -1.6324433    |  0.27566403   |  2.27931684   |  1.10993007   |  1.033947333  | -1.0612276    |  1.30239474   | -2.5221871    | -0.60451653   |\n",
       "| CTG-2452 | -0.6558393    | -0.956356168  | -1.81081486   | -1.85004686   |  2.3370938    | -0.3615540    | -0.67972328   |  1.02585980   | 0.86179365    | -2.3056248616 | ...           |  0.6783473    | -1.1740488    | -0.07948271   |  2.36107540   |  1.76300566   |  0.003356943  | -0.7280199    |  1.21357084   | -2.9321773    | -1.81066829   |\n",
       "| CTG-2453 | -1.5973704    | -0.830854143  | -0.34656458   | -0.59606784   |  1.3404597    | -0.6507781    | -1.64058198   | -2.65711568   | 0.84699279    | -1.7675181406 | ...           |  0.2600209    | -0.8040564    |  0.01303451   |  2.61629467   |  0.56642572   |  0.736096922  | -1.2625144    |  1.10782810   | -1.4132872    | -1.18381971   |\n",
       "| CTG-2701 | -3.1375692    | -0.405131589  | -0.14219089   | -3.09791316   |  1.1020895    | -0.4295432    |  0.27656535   | -2.44676921   | 0.87474439    | -1.2860542324 | ...           | -0.5336125    | -1.7992411    | -1.40009138   |  1.46394098   |  0.53131730   |  0.705333030  | -1.9125411    |  0.92595059   | -1.5398614    | -1.11500400   |\n",
       "| CTG-2703 |  0.0470847    | -0.359663173  |  0.99236122   | -0.84494251   |  0.7486440    | -0.7770438    | -2.11701252   | -2.13507399   | 0.99194764    | -0.0786679609 | ...           | -0.7754111    | -1.3125588    | -0.57788191   |  0.37345864   |  0.07233333   | -0.035175397  | -0.8714828    |  0.06167993   | -0.6208228    | -0.81721964   |\n",
       "| CTG-2704 | -1.8263044    | -0.670900583  | -0.08440623   | -1.60379193   |  1.5849947    | -1.4299565    | -1.47720173   | -0.19032525   | 1.40079136    | -1.5349844884 | ...           | -0.1301204    | -2.2119250    |  0.52486363   |  2.06608169   |  0.50202045   |  0.095648620  | -1.0527394    |  1.01759430   | -2.1507194    | -2.00960826   |\n",
       "| CTG-2237 | -2.9312600    | -2.286431545  | -1.27626759   | -3.01320845   |  1.8058981    | -0.8331619    | -0.74141932   | -0.89077314   | 0.07796516    | -2.7259741561 | ...           | -0.9697400    | -2.6056348    | -0.33912781   |  0.86180027   | -0.01189511   |  0.571090591  | -3.4753980    |  0.30700309   | -3.2596192    | -2.04339052   |\n",
       "| CTG-2700 | -3.2321523    | -0.998190176  |  0.65986771   | -0.58471566   |  0.8205661    | -0.8417955    | -0.92764996   | -3.20019203   | 0.91544674    | -1.2174866170 | ...           | -1.3583979    | -1.5848353    | -0.51222453   |  1.14132614   | -0.60149419   | -0.251262073  | -1.4910394    | -0.04829252   | -0.7652825    | -2.11595981   |\n",
       "| CTG-2602 | -0.2990032    |  0.267903777  |  0.89133434   | -0.50612366   |  0.6798043    | -0.5126412    | -1.04191200   | -0.35286571   | 0.95159535    |  0.1553562917 | ...           | -1.6179976    | -1.5355029    | -0.80022168   |  0.46295111   | -0.40740257   | -0.579758651  | -1.3767769    | -0.30207510   | -0.5396502    | -1.05744904   |\n",
       "| CTG-3440 | -1.4812912    | -0.672130995  |  0.72892405   | -1.17764864   |  1.0270851    | -1.5065793    | -3.08358382   |  0.47704673   | 1.46431168    | -0.8701767389 | ...           | -1.2931271    | -1.2385603    | -0.60691797   |  0.59221801   |  0.20172775   | -0.069977688  | -1.4808828    | -0.14557584   | -0.7831680    | -1.54666619   |\n",
       "| CTG-2716 |  0.4501374    |  2.437120142  |  1.96426533   |  2.25944148   | -1.8117809    |  1.4007706    |  0.08743314   | -2.29378996   | 2.25924080    |  0.5145909725 | ...           |  2.0772188    |  0.7546552    | -2.17604223   | -2.12680636   |  2.12555416   |  1.618461286  |  1.7045016    |  1.43351574   |  2.1885736    | -0.59951175   |\n",
       "| CTG-3020 |  0.8811351    |  1.251126470  |  1.87091138   |  2.46814690   | -1.6299208    |  0.7694418    | -0.67743824   | -2.11403934   | 1.90648715    |  1.0452446918 | ...           |  2.5593326    |  0.8647043    | -1.74330041   |  0.44129039   |  1.90338639   |  2.172211346  |  1.7882941    |  0.89518244   |  2.7003735    |  0.42771916   |\n",
       "| CTG-3064 |  0.9617457    |  2.752105616  |  1.43866982   |  2.68558477   | -1.0442699    |  1.6663675    | -0.72199649   | -0.39875948   | 2.38813156    |  1.2688347421 | ...           |  2.6928410    |  1.5222245    |  0.54629513   | -0.06185043   |  2.00913021   |  2.678417210  |  1.8086074    |  1.44620487   |  1.5625817    |  0.03859758   |\n",
       "| CTG-3766 |  0.6693981    |  2.455576322  |  2.10877213   |  2.22189197   |  0.5432917    |  1.5416283    | -0.15302189   | -0.79746166   | 2.43870114    |  1.1585303173 | ...           |  2.6394376    |  1.5145627    | -2.13575248   | -0.83966154   |  3.26813127   |  2.221153902  |  0.9270994    |  2.19063376   |  1.5158043    | -0.40702477   |\n",
       "| CTG-3793 |  1.4626059    |  2.138130025  |  1.23533725   |  2.43321713   | -1.2816126    |  1.6932323    | -0.21928801   | -1.37687057   | 1.90278694    |  0.0003338569 | ...           |  3.2239078    |  1.8456585    | -2.15216682   | -0.56676475   |  1.55060350   |  1.176579925  |  2.3304062    |  1.29816503   |  2.1321655    | -0.43935882   |\n",
       "| CTG-3794 |  1.0230097    |  3.177828170  |  0.73276051   |  1.75515058   | -1.0514621    |  1.7587156    | -0.61002960   | -1.29751259   | 2.14638430    |  0.7456340244 | ...           |  3.1660542    |  1.6514156    | -0.14215567   |  0.04642442   |  1.98629328   |  2.651848394  |  1.0945693    |  1.99042750   |  0.7123348    |  0.08364059   |\n",
       "| CTG-3795 |  0.9166038    |  2.757027264  |  1.96298651   |  3.00431899   | -1.1583177    |  1.8173396    | -0.75969963   | -1.94384992   | 2.47138636    |  1.3314399562 | ...           |  3.2372587    |  1.7071485    | -3.06689350   | -0.83192763   |  2.28180402   |  0.867542643  |  2.2339178    |  1.45325439   |  2.6343348    | -0.19037106   |\n",
       "| CTG-3796 |  1.2935462    |  2.792709212  |  0.63045482   |  2.58428841   | -0.6394515    |  1.5734417    | -0.31068955   |  0.55649219   | 2.12356632    | -0.2187843924 | ...           |  1.8879464    |  0.8893704    | -0.78828397   | -1.56775462   |  2.62604200   |  2.594515685  |  1.7489370    |  0.93018030   |  0.6524785    | -0.59075339   |\n",
       "| CTG-3797 |  1.2723650    |  3.214740530  |  2.13946384   |  2.91175508   | -1.0175560    |  2.0245450    | -0.41922888   | -0.06220513   | 2.42205018    |  1.1622821504 | ...           |  2.6290536    |  1.6151248    | -1.82089549   | -1.17995391   |  1.34308415   |  0.667577344  |  2.6770024    |  0.65806898   |  2.0743817    |  0.21251366   |\n",
       "| CTG-3799 |  0.8671626    |  1.587988556  |  2.08958981   |  2.65589446   |  0.5407304    |  1.0899626    |  0.54734242   | -1.01067649   | 2.10198175    |  0.9352048455 | ...           |  1.8977242    |  0.3675863    | -1.20908809   | -0.01986630   |  2.88849293   |  0.568293873  |  2.2224916    |  2.41057866   |  2.0110946    | -0.31674173   |\n",
       "| CTG-3800 |  1.1705716    |  2.829621572  |  0.94632366   |  1.55926641   | -1.2179103    |  1.9554765    | -0.04334004   | -0.04403884   | 1.82446576    | -0.0428935529 | ...           |  2.6246034    |  1.1929539    | -0.55400650   | -1.67050524   |  1.89635653   | -0.177031334  |  0.8640375    |  1.14440463   |  1.7524430    | -1.20634121   |\n",
       "| CTG-3801 |  1.4185388    |  2.990805545  |  1.05273402   |  2.30659668   | -1.9474053    |  1.5123882    | -0.62145480   | -0.69037618   | 2.30549347    |  0.8742364123 | ...           |  2.8545345    |  1.5819203    | -2.32675576   | -1.16780061   |  2.91901048   |  1.250692938  |  1.7819462    |  0.88083369   |  1.9739478    | -0.49065781   |\n",
       "| CTG-3802 |  0.4888305    |  3.081856033  |  0.94376601   |  1.75645268   | -2.4292830    |  1.5540162    |  0.56905028   | -1.93906932   | 2.00454280    |  0.2194521061 | ...           |  4.1065468    |  1.8475559    | -1.89699837   | -0.67172505   |  3.21930319   |  0.572488950  |  2.7265161    |  1.21383720   |  1.4566446    |  0.31135804   |\n",
       "| CTG-3803 |  1.0606279    |  1.220242669  |  1.12152216   |  2.17037055   | -1.4840218    |  1.9133879    | -0.74827443   | -0.29167401   | 1.82138225    |  0.0420706662 | ...           |  2.3902219    |  1.4310773    | -1.48514753   | -1.82960296   |  1.71368660   |  1.014311585  |  0.8006191    |  1.01336459   |  1.6079833    | -0.18911987   |\n",
       "| CTG-3805 |  1.4733539    |  2.955123597  |  1.52179320   |  1.67530301   | -1.8169182    |  2.3072939    |  0.06862684   | -1.32045947   | 1.89661992    | -0.0712149592 | ...           |  2.9687584    |  1.7061998    | -1.50305409   |  0.64650986   |  3.31573865   | -0.402167091  |  2.5614703    |  0.88788320   |  1.0480302    | -1.12251117   |\n",
       "\n"
      ],
      "text/plain": [
       "         sp|A0AVT1|UBA6_HUMAN sp|O00170|AIP_HUMAN sp|O00299|CLIC1_HUMAN\n",
       "CTG-0158  0.20938059           0.65302273         -1.09979027          \n",
       "CTG-0159 -0.18399887          -0.01878222         -0.31203641          \n",
       "CTG-0160 -0.31536713          -0.72257789         -0.09335798          \n",
       "CTG-0162 -0.88154878           0.01443322         -0.41562092          \n",
       "CTG-0163 -1.04384468          -0.96250823         -1.21616300          \n",
       "CTG-0166  0.51892509           0.26052131         -1.50645541          \n",
       "CTG-0167 -0.61822100          -0.13567136          0.02940885          \n",
       "CTG-0178 -1.31039688          -1.40299573          0.93225662          \n",
       "CTG-0184 -0.82243438          -0.92190463          0.57674433          \n",
       "CTG-0464 -1.13090407           0.06242497         -0.15357661          \n",
       "CTG-0502 -0.96430894           0.82405000         -0.14451083          \n",
       "CTG-0743  0.41574359          -0.12705848          0.31842245          \n",
       "CTG-0828 -0.36241687          -0.66814993         -0.54861833          \n",
       "CTG-0838 -0.19904617          -0.32392440          0.56267729          \n",
       "CTG-0848 -0.85037937           0.17193164          0.31586480          \n",
       "CTG-0852  0.15886465           0.09072445          0.66754063          \n",
       "CTG-0860 -0.33554669          -1.94806824         -0.61255939          \n",
       "CTG-0924 -0.16035311          -0.67828305         -0.65987577          \n",
       "CTG-1012 -0.34736957          -0.96004740         -1.05758917          \n",
       "CTG-1014 -0.70743001          -0.91575257          1.09466691          \n",
       "CTG-1194  1.25839249          -0.86407527          0.85680617          \n",
       "CTG-1212 -0.68915828          -0.57369803          0.43223753          \n",
       "CTG-1217 -0.39270221          -0.28209039         -0.39771743          \n",
       "CTG-1253 -0.09586467          -1.04863707         -0.64197228          \n",
       "CTG-1309  0.49098010          -0.96742988          1.62537771          \n",
       "CTG-1329 -0.38498783          -0.49126043         -0.09591562          \n",
       "CTG-1352 -0.06791968          -0.56754597          0.04347589          \n",
       "CTG-1354 -0.53223642          -1.36854419         -0.42073621          \n",
       "CTG-1355 -1.00837604           0.20146153         -0.68673102          \n",
       "CTG-1356 -0.32372381          -0.60691916         -0.39771743          \n",
       "...      ...                  ...                 ...                  \n",
       "CTG-3670 -1.0513683           -0.005247688         0.27494252          \n",
       "CTG-3673 -1.8166311           -0.018273047         0.53712611          \n",
       "CTG-3674  0.2706446            1.029528809         1.32229709          \n",
       "CTG-3679 -0.9815284           -0.647522754        -0.28901763          \n",
       "CTG-3680  0.1889593            0.180212636         1.15605033          \n",
       "CTG-2242 -1.3910074           -0.854231971        -0.08696388          \n",
       "CTG-2452 -0.6558393           -0.956356168        -1.81081486          \n",
       "CTG-2453 -1.5973704           -0.830854143        -0.34656458          \n",
       "CTG-2701 -3.1375692           -0.405131589        -0.14219089          \n",
       "CTG-2703  0.0470847           -0.359663173         0.99236122          \n",
       "CTG-2704 -1.8263044           -0.670900583        -0.08440623          \n",
       "CTG-2237 -2.9312600           -2.286431545        -1.27626759          \n",
       "CTG-2700 -3.2321523           -0.998190176         0.65986771          \n",
       "CTG-2602 -0.2990032            0.267903777         0.89133434          \n",
       "CTG-3440 -1.4812912           -0.672130995         0.72892405          \n",
       "CTG-2716  0.4501374            2.437120142         1.96426533          \n",
       "CTG-3020  0.8811351            1.251126470         1.87091138          \n",
       "CTG-3064  0.9617457            2.752105616         1.43866982          \n",
       "CTG-3766  0.6693981            2.455576322         2.10877213          \n",
       "CTG-3793  1.4626059            2.138130025         1.23533725          \n",
       "CTG-3794  1.0230097            3.177828170         0.73276051          \n",
       "CTG-3795  0.9166038            2.757027264         1.96298651          \n",
       "CTG-3796  1.2935462            2.792709212         0.63045482          \n",
       "CTG-3797  1.2723650            3.214740530         2.13946384          \n",
       "CTG-3799  0.8671626            1.587988556         2.08958981          \n",
       "CTG-3800  1.1705716            2.829621572         0.94632366          \n",
       "CTG-3801  1.4185388            2.990805545         1.05273402          \n",
       "CTG-3802  0.4888305            3.081856033         0.94376601          \n",
       "CTG-3803  1.0606279            1.220242669         1.12152216          \n",
       "CTG-3805  1.4733539            2.955123597         1.52179320          \n",
       "         sp|O00429|DNM1L_HUMAN sp|O00483|NDUA4_HUMAN sp|O00571|DDX3X_HUMAN\n",
       "CTG-0158 -0.66767388           -0.46478367           -1.10403975          \n",
       "CTG-0159 -0.94885859           -1.04324243           -0.59897675          \n",
       "CTG-0160  0.31297962           -0.70007151           -0.77596464          \n",
       "CTG-0162 -0.21096704            1.44115059           -0.53314589          \n",
       "CTG-0163  0.96005375            0.30991953           -0.60005594          \n",
       "CTG-0166 -0.41268651            0.79590707           -0.50184925          \n",
       "CTG-0167 -0.71220935           -2.37482776           -0.42948151          \n",
       "CTG-0178 -0.44499655            0.10134559           -1.49362895          \n",
       "CTG-0184 -0.16206535            0.93872371           -1.02094178          \n",
       "CTG-0464 -0.58296917            0.37875920           -0.08872712          \n",
       "CTG-0502  0.50509340            1.14935257            0.10465803          \n",
       "CTG-0743 -0.47381362           -0.20894667           -1.37707595          \n",
       "CTG-0828 -1.45621361           -0.25004499           -1.70838864          \n",
       "CTG-0838  0.10078122            0.14963610           -0.49645328          \n",
       "CTG-0848 -0.30615069            0.47842261           -1.00151628          \n",
       "CTG-0852 -1.18638108            0.06846694           -0.49537408          \n",
       "CTG-0860 -0.18389646            1.07332069           -0.03779564          \n",
       "CTG-0924  0.57145998           -0.05283007           -0.70581700          \n",
       "CTG-1012 -0.28519282            1.32093802           -0.05722114          \n",
       "CTG-1014 -1.11739477           -0.02605918           -0.08535680          \n",
       "CTG-1194  0.69895367           -0.27470398           -0.82344919          \n",
       "CTG-1212 -0.33539447            0.72706740           -0.90115119          \n",
       "CTG-1217 -1.02221113            1.67232860           -1.08353506          \n",
       "CTG-1253  0.19334513            0.70754570           -0.70689619          \n",
       "CTG-1309 -0.14722020            0.76405588           -0.31514861          \n",
       "CTG-1329 -0.43713735           -0.05893783           -0.77056867          \n",
       "CTG-1352 -0.02234624            0.31300190           -0.75330156          \n",
       "CTG-1354 -0.62226517           -1.01550106           -1.42348131          \n",
       "CTG-1355 -0.50263069           -0.89323358           -1.13965317          \n",
       "CTG-1356 -0.80477326           -0.01633025           -1.79580339          \n",
       "...      ...                   ...                   ...                  \n",
       "CTG-3670 -0.13586802            0.9677516            -0.8817257           \n",
       "CTG-3673 -1.53742535            1.7617174            -0.4662358           \n",
       "CTG-3674 -0.25462926            0.6952162            -0.1619030           \n",
       "CTG-3679 -0.87899904            1.3846404            -0.6162439           \n",
       "CTG-3680 -0.06383005            0.9387237            -0.7878358           \n",
       "CTG-2242 -0.90868935            1.5706103             0.2179734           \n",
       "CTG-2452 -1.85004686            2.3370938            -0.3615540           \n",
       "CTG-2453 -0.59606784            1.3404597            -0.6507781           \n",
       "CTG-2701 -3.09791316            1.1020895            -0.4295432           \n",
       "CTG-2703 -0.84494251            0.7486440            -0.7770438           \n",
       "CTG-2704 -1.60379193            1.5849947            -1.4299565           \n",
       "CTG-2237 -3.01320845            1.8058981            -0.8331619           \n",
       "CTG-2700 -0.58471566            0.8205661            -0.8417955           \n",
       "CTG-2602 -0.50612366            0.6798043            -0.5126412           \n",
       "CTG-3440 -1.17764864            1.0270851            -1.5065793           \n",
       "CTG-2716  2.25944148           -1.8117809             1.4007706           \n",
       "CTG-3020  2.46814690           -1.6299208             0.7694418           \n",
       "CTG-3064  2.68558477           -1.0442699             1.6663675           \n",
       "CTG-3766  2.22189197            0.5432917             1.5416283           \n",
       "CTG-3793  2.43321713           -1.2816126             1.6932323           \n",
       "CTG-3794  1.75515058           -1.0514621             1.7587156           \n",
       "CTG-3795  3.00431899           -1.1583177             1.8173396           \n",
       "CTG-3796  2.58428841           -0.6394515             1.5734417           \n",
       "CTG-3797  2.91175508           -1.0175560             2.0245450           \n",
       "CTG-3799  2.65589446            0.5407304             1.0899626           \n",
       "CTG-3800  1.55926641           -1.2179103             1.9554765           \n",
       "CTG-3801  2.30659668           -1.9474053             1.5123882           \n",
       "CTG-3802  1.75645268           -2.4292830             1.5540162           \n",
       "CTG-3803  2.17037055           -1.4840218             1.9133879           \n",
       "CTG-3805  1.67530301           -1.8169182             2.3072939           \n",
       "         sp|O14828|SCAM3_HUMAN sp|O14929|HAT1_HUMAN sp|O15143|ARC1B_HUMAN\n",
       "CTG-0158  1.06490365            1.21230326          -0.105195386         \n",
       "CTG-0159 -2.68255956           -0.11645569           0.367815192         \n",
       "CTG-0160 -0.26041871            0.26383190          -0.330908387         \n",
       "CTG-0162  0.09178181            0.40438159          -0.155148264         \n",
       "CTG-0163 -0.61117212            1.24576747          -0.794668433         \n",
       "CTG-0166  0.65588175            1.99154133          -0.438831270         \n",
       "CTG-0167 -0.01025198           -0.15898380          -0.459986312         \n",
       "CTG-0178  0.44337316           -0.30772079          -0.848321523         \n",
       "CTG-0184  0.05377409            0.17300047          -0.242103272         \n",
       "CTG-0464  0.05034654            1.20465430          -0.052775700         \n",
       "CTG-0502  1.09803671            1.32512546           0.276543268         \n",
       "CTG-0743  0.19773152           -0.46377566          -0.599188818         \n",
       "CTG-0828 -0.34953521           -0.30984029          -0.590907741         \n",
       "CTG-0838  0.41709522            1.01438636          -0.184749969         \n",
       "CTG-0848  1.81553881           -0.03065316          -0.077370200         \n",
       "CTG-0852 -0.11189120           -0.03227855          -0.619525011         \n",
       "CTG-0860  2.59816451           -0.81562794           0.288877312         \n",
       "CTG-0924  1.25227681           -0.11861623           0.125451232         \n",
       "CTG-1012  0.95407928            0.95128241          -0.194617204         \n",
       "CTG-1014 -0.69457603            1.16736561           0.025545478         \n",
       "CTG-1194 -1.15958137            0.83081125          -0.164398796         \n",
       "CTG-1212 -0.39295094           -0.28689340           0.000260688         \n",
       "CTG-1217  1.63502076           -0.15399268          -1.182574110         \n",
       "CTG-1253 -1.06703731           -0.06602961          -0.475833402         \n",
       "CTG-1309 -0.38266827            0.06304663           0.415301261         \n",
       "CTG-1329 -0.22614313            0.95988750           0.015678243         \n",
       "CTG-1352  0.03171738           -0.04560257           0.046513352         \n",
       "CTG-1354 -1.62001664           -0.95044091           0.289494014         \n",
       "CTG-1355 -0.05133768            0.32884808          -0.166248903         \n",
       "CTG-1356  0.59875578            1.34902847          -1.232526987         \n",
       "...      ...                   ...                  ...                  \n",
       "CTG-3670 -1.41322065           -0.49723987          1.67460713           \n",
       "CTG-3673 -0.32896986            0.03531915          1.39894125           \n",
       "CTG-3674 -2.78195874            1.22664507          1.91080407           \n",
       "CTG-3679 -2.00847319           -0.22466477          1.52598190           \n",
       "CTG-3680 -0.36553048            0.89487132          0.82372428           \n",
       "CTG-2242 -1.19499947           -2.52708332          1.09799058           \n",
       "CTG-2452 -0.67972328            1.02585980          0.86179365           \n",
       "CTG-2453 -1.64058198           -2.65711568          0.84699279           \n",
       "CTG-2701  0.27656535           -2.44676921          0.87474439           \n",
       "CTG-2703 -2.11701252           -2.13507399          0.99194764           \n",
       "CTG-2704 -1.47720173           -0.19032525          1.40079136           \n",
       "CTG-2237 -0.74141932           -0.89077314          0.07796516           \n",
       "CTG-2700 -0.92764996           -3.20019203          0.91544674           \n",
       "CTG-2602 -1.04191200           -0.35286571          0.95159535           \n",
       "CTG-3440 -3.08358382            0.47704673          1.46431168           \n",
       "CTG-2716  0.08743314           -2.29378996          2.25924080           \n",
       "CTG-3020 -0.67743824           -2.11403934          1.90648715           \n",
       "CTG-3064 -0.72199649           -0.39875948          2.38813156           \n",
       "CTG-3766 -0.15302189           -0.79746166          2.43870114           \n",
       "CTG-3793 -0.21928801           -1.37687057          1.90278694           \n",
       "CTG-3794 -0.61002960           -1.29751259          2.14638430           \n",
       "CTG-3795 -0.75969963           -1.94384992          2.47138636           \n",
       "CTG-3796 -0.31068955            0.55649219          2.12356632           \n",
       "CTG-3797 -0.41922888           -0.06220513          2.42205018           \n",
       "CTG-3799  0.54734242           -1.01067649          2.10198175           \n",
       "CTG-3800 -0.04334004           -0.04403884          1.82446576           \n",
       "CTG-3801 -0.62145480           -0.69037618          2.30549347           \n",
       "CTG-3802  0.56905028           -1.93906932          2.00454280           \n",
       "CTG-3803 -0.74827443           -0.29167401          1.82138225           \n",
       "CTG-3805  0.06862684           -1.32045947          1.89661992           \n",
       "         sp|O15145|ARPC3_HUMAN ... sp|Q9Y230|RUVB2_HUMAN sp|Q9Y285|SYFA_HUMAN\n",
       "CTG-0158  0.26267952           ... -0.22505973           -0.582060943        \n",
       "CTG-0159 -0.11145685           ...  0.79998826           -0.250965168        \n",
       "CTG-0160  0.08231688           ... -0.83178133           -0.588701832        \n",
       "CTG-0162 -0.08463036           ...  0.45583322            1.050649166        \n",
       "CTG-0163  0.13150669           ... -0.49652685           -0.141864841        \n",
       "CTG-0166 -1.17873101           ...  2.46884353            0.220753161        \n",
       "CTG-0167 -0.22772799           ...  0.09684391            0.367586250        \n",
       "CTG-0178 -0.55118827           ... -0.43867320           -1.137998261        \n",
       "CTG-0184  0.49819437           ...  0.66796327           -1.002334376        \n",
       "CTG-0464 -0.12487657           ...  0.47363434           -0.077353344        \n",
       "CTG-0502 -0.67341749           ...  0.75548546            0.360108310        \n",
       "CTG-0743 -0.04885595           ... -0.83326476           -0.336348033        \n",
       "CTG-0828 -0.51392326           ... -0.74534719           -0.842004330        \n",
       "CTG-0838  0.18516830           ...  0.44544923            0.149385596        \n",
       "CTG-0848 -0.10549877           ...  0.43803210            0.169308265        \n",
       "CTG-0852 -0.03394995           ...  0.13096273            0.046010702        \n",
       "CTG-0860  0.07699329           ... -0.08561760            0.612350462        \n",
       "CTG-0924 -0.40212823           ...  0.42913154            0.506096230        \n",
       "CTG-1012 -0.44088384           ...  1.52241717            0.404173745        \n",
       "CTG-1014 -0.06227136           ...  0.08645992           -0.054583768        \n",
       "CTG-1194 -0.06227136           ...  1.15156044           -0.258554756        \n",
       "CTG-1212 -0.02351575           ... -0.43758391            0.184487441        \n",
       "CTG-1217 -1.43511427           ... -0.62855185           -0.487020361        \n",
       "CTG-1253 -0.22176559           ... -0.38526983           -0.559292179        \n",
       "CTG-1309  0.70240661           ... -0.76947740           -0.548856496        \n",
       "CTG-1329  0.19113070           ...  0.14134672           -0.052687183        \n",
       "CTG-1352 -0.88955454           ...  0.23776947           -0.001457464        \n",
       "CTG-1354  0.59508339           ... -0.72794145           -1.520323754        \n",
       "CTG-1355 -0.49156425           ...  1.63812446            0.285998180        \n",
       "CTG-1356 -0.16661338           ...  0.61455990            0.362842758        \n",
       "...      ...                       ...                   ...                 \n",
       "CTG-3670 -0.7822313191         ... -0.4179052            -1.0600338          \n",
       "CTG-3673 -1.4664168729         ...  0.2867226            -1.2034585          \n",
       "CTG-3674  0.0077868585         ...  0.3282585            -0.7699032          \n",
       "CTG-3679 -0.5094514578         ... -0.4446069            -0.5241903          \n",
       "CTG-3680  0.9558086717         ... -0.5588308            -0.5175494          \n",
       "CTG-2242 -1.3695278512         ... -0.1508884            -1.6324433          \n",
       "CTG-2452 -2.3056248616         ...  0.6783473            -1.1740488          \n",
       "CTG-2453 -1.7675181406         ...  0.2600209            -0.8040564          \n",
       "CTG-2701 -1.2860542324         ... -0.5336125            -1.7992411          \n",
       "CTG-2703 -0.0786679609         ... -0.7754111            -1.3125588          \n",
       "CTG-2704 -1.5349844884         ... -0.1301204            -2.2119250          \n",
       "CTG-2237 -2.7259741561         ... -0.9697400            -2.6056348          \n",
       "CTG-2700 -1.2174866170         ... -1.3583979            -1.5848353          \n",
       "CTG-2602  0.1553562917         ... -1.6179976            -1.5355029          \n",
       "CTG-3440 -0.8701767389         ... -1.2931271            -1.2385603          \n",
       "CTG-2716  0.5145909725         ...  2.0772188             0.7546552          \n",
       "CTG-3020  1.0452446918         ...  2.5593326             0.8647043          \n",
       "CTG-3064  1.2688347421         ...  2.6928410             1.5222245          \n",
       "CTG-3766  1.1585303173         ...  2.6394376             1.5145627          \n",
       "CTG-3793  0.0003338569         ...  3.2239078             1.8456585          \n",
       "CTG-3794  0.7456340244         ...  3.1660542             1.6514156          \n",
       "CTG-3795  1.3314399562         ...  3.2372587             1.7071485          \n",
       "CTG-3796 -0.2187843924         ...  1.8879464             0.8893704          \n",
       "CTG-3797  1.1622821504         ...  2.6290536             1.6151248          \n",
       "CTG-3799  0.9352048455         ...  1.8977242             0.3675863          \n",
       "CTG-3800 -0.0428935529         ...  2.6246034             1.1929539          \n",
       "CTG-3801  0.8742364123         ...  2.8545345             1.5819203          \n",
       "CTG-3802  0.2194521061         ...  4.1065468             1.8475559          \n",
       "CTG-3803  0.0420706662         ...  2.3902219             1.4310773          \n",
       "CTG-3805 -0.0712149592         ...  2.9687584             1.7061998          \n",
       "         sp|Q9Y2B0|CNPY2_HUMAN sp|Q9Y2X3|NOP58_HUMAN sp|Q9Y383|LC7L2_HUMAN\n",
       "CTG-0158  0.19060787            0.52371760            0.93048687          \n",
       "CTG-0159  0.15777918            0.44969296           -0.59527906          \n",
       "CTG-0160 -0.19736755           -0.40598512           -0.68328123          \n",
       "CTG-0162  2.51547601            1.22529439            0.42877833          \n",
       "CTG-0163 -0.05160775           -0.08947156           -0.31829132          \n",
       "CTG-0166  0.09720792            0.47399956            1.50055472          \n",
       "CTG-0167  0.75018782            0.31711152            0.49713764          \n",
       "CTG-0178 -0.26310190           -0.85733907           -0.68572263          \n",
       "CTG-0184 -0.72262659            1.09934202            0.04303649          \n",
       "CTG-0464  0.54575461            0.43532997            0.48737203          \n",
       "CTG-0502  0.61439642            1.23744769            0.95490091          \n",
       "CTG-0743 -0.07799050           -0.29386795           -0.23406288          \n",
       "CTG-0828  0.25924968           -1.10371958           -0.39885765          \n",
       "CTG-0838 -1.13746186            0.84412275            0.32379795          \n",
       "CTG-0848  1.01878619            0.61762945           -0.09162077          \n",
       "CTG-0852  1.41123826           -0.25280476           -0.00212949          \n",
       "CTG-0860  2.90942029           -0.37894104           -0.04729547          \n",
       "CTG-0924  1.37542514            0.26849833           -0.01555721          \n",
       "CTG-1012  0.26820296            1.16563274            0.24570883          \n",
       "CTG-1014  0.01703471           -0.09610063            0.21637617          \n",
       "CTG-1194 -0.82111266            0.40218461           -0.02654353          \n",
       "CTG-1212 -1.00913152            0.12155390            0.23590741          \n",
       "CTG-1217  0.66513167           -0.61316825           -0.51848645          \n",
       "CTG-1253 -1.14939956           -0.31010712           -2.90617964          \n",
       "CTG-1309  1.27843128            0.18342524           -0.26946324          \n",
       "CTG-1329  0.67706937           -0.28392434            0.18219652          \n",
       "CTG-1352 -0.26750157           -0.07772836           -1.47063404          \n",
       "CTG-1354 -1.23594793           -0.26845650           -0.72600580          \n",
       "CTG-1355  0.71139027            0.58669379           -0.17370650          \n",
       "CTG-1356 -0.36747986            0.47178987            0.58624889          \n",
       "...      ...                   ...                   ...                  \n",
       "CTG-3670  0.01452672            1.18331027            0.20172775          \n",
       "CTG-3673 -0.66286531            1.84732231            0.99030127          \n",
       "CTG-3674  0.52038699            1.03747068            0.94723370          \n",
       "CTG-3679 -0.22721182            1.71032149            0.60455942          \n",
       "CTG-3680 -1.39113810            0.54434393            0.47760641          \n",
       "CTG-2242  0.27566403            2.27931684            1.10993007          \n",
       "CTG-2452 -0.07948271            2.36107540            1.76300566          \n",
       "CTG-2453  0.01303451            2.61629467            0.56642572          \n",
       "CTG-2701 -1.40009138            1.46394098            0.53131730          \n",
       "CTG-2703 -0.57788191            0.37345864            0.07233333          \n",
       "CTG-2704  0.52486363            2.06608169            0.50202045          \n",
       "CTG-2237 -0.33912781            0.86180027           -0.01189511          \n",
       "CTG-2700 -0.51222453            1.14132614           -0.60149419          \n",
       "CTG-2602 -0.80022168            0.46295111           -0.40740257          \n",
       "CTG-3440 -0.60691797            0.59221801            0.20172775          \n",
       "CTG-2716 -2.17604223           -2.12680636            2.12555416          \n",
       "CTG-3020 -1.74330041            0.44129039            1.90338639          \n",
       "CTG-3064  0.54629513           -0.06185043            2.00913021          \n",
       "CTG-3766 -2.13575248           -0.83966154            3.26813127          \n",
       "CTG-3793 -2.15216682           -0.56676475            1.55060350          \n",
       "CTG-3794 -0.14215567            0.04642442            1.98629328          \n",
       "CTG-3795 -3.06689350           -0.83192763            2.28180402          \n",
       "CTG-3796 -0.78828397           -1.56775462            2.62604200          \n",
       "CTG-3797 -1.82089549           -1.17995391            1.34308415          \n",
       "CTG-3799 -1.20908809           -0.01986630            2.88849293          \n",
       "CTG-3800 -0.55400650           -1.67050524            1.89635653          \n",
       "CTG-3801 -2.32675576           -1.16780061            2.91901048          \n",
       "CTG-3802 -1.89699837           -0.67172505            3.21930319          \n",
       "CTG-3803 -1.48514753           -1.82960296            1.71368660          \n",
       "CTG-3805 -1.50305409            0.64650986            3.31573865          \n",
       "         sp|Q9Y4L1|HYOU1_HUMAN sp|Q9Y5K5|UCHL5_HUMAN sp|Q9Y5M8|SRPRB_HUMAN\n",
       "CTG-0158  1.973644405          -0.112272010          -0.27387703          \n",
       "CTG-0159 -0.793707538          -0.163698766           0.09551761          \n",
       "CTG-0160 -1.228597105           0.123870474          -0.04829252          \n",
       "CTG-0162 -0.001087398          -0.105924094          -0.06383016          \n",
       "CTG-0163 -0.880405779           0.021034231           0.10679683          \n",
       "CTG-0166  1.344382973          -1.092390279           0.18152170          \n",
       "CTG-0167 -1.044013752          -0.262821526          -0.85052744          \n",
       "CTG-0178 -0.887397573          -1.436447339          -0.56421305          \n",
       "CTG-0184  0.431254717          -3.302734716          -0.10457777          \n",
       "CTG-0464  0.580879102           0.688835020           0.78637017          \n",
       "CTG-0502  1.130434086           1.209364152           0.50861924          \n",
       "CTG-0743 -0.378342709           0.963065002           0.49593011          \n",
       "CTG-0828 -0.445516212           0.245750466          -1.34681337          \n",
       "CTG-0838 -0.869218909          -0.046658262           0.42261515          \n",
       "CTG-0848  0.867542643           1.587699961           1.01759430          \n",
       "CTG-0852  0.957037603           0.302881712           0.15050383          \n",
       "CTG-0860  0.331971247           0.017937491           1.66051016          \n",
       "CTG-0924  1.923303491           0.663443355           1.29534523          \n",
       "CTG-1012 -0.697220785           0.337160460           0.56501537          \n",
       "CTG-1014  0.990598212           0.954177919          -0.01163504          \n",
       "CTG-1194 -0.167776916           0.870385425          -0.18505313          \n",
       "CTG-1212 -0.825869789           0.481892950           0.41415573          \n",
       "CTG-1217  0.064884728          -0.008166184           0.66229869          \n",
       "CTG-1253 -2.159904025           0.136566307           0.45786273          \n",
       "CTG-1309 -0.007829927           0.283837964           0.94991894          \n",
       "CTG-1329 -0.196827910           1.060822912           1.05989139          \n",
       "CTG-1352  0.923476993          -1.143173609           0.37890815          \n",
       "CTG-1354 -1.771160296          -0.532504066          -0.30912461          \n",
       "CTG-1355  0.322182736           0.800558346           1.61116354          \n",
       "CTG-1356 -0.140329643          -0.159745338          -0.07790049          \n",
       "...      ...                   ...                   ...                  \n",
       "CTG-3670  0.052299499          -2.2591373             0.29854367          \n",
       "CTG-3673  0.748682151          -0.9857453             1.00490517          \n",
       "CTG-3674 -0.553189835           0.1022876             0.76768348          \n",
       "CTG-3679  0.312394224          -0.7724553             0.72997405          \n",
       "CTG-3680 -1.318092064          -0.1922558            -0.21043139          \n",
       "CTG-2242  1.033947333          -1.0612276             1.30239474          \n",
       "CTG-2452  0.003356943          -0.7280199             1.21357084          \n",
       "CTG-2453  0.736096922          -1.2625144             1.10782810          \n",
       "CTG-2701  0.705333030          -1.9125411             0.92595059          \n",
       "CTG-2703 -0.035175397          -0.8714828             0.06167993          \n",
       "CTG-2704  0.095648620          -1.0527394             1.01759430          \n",
       "CTG-2237  0.571090591          -3.4753980             0.30700309          \n",
       "CTG-2700 -0.251262073          -1.4910394            -0.04829252          \n",
       "CTG-2602 -0.579758651          -1.3767769            -0.30207510          \n",
       "CTG-3440 -0.069977688          -1.4808828            -0.14557584          \n",
       "CTG-2716  1.618461286           1.7045016             1.43351574          \n",
       "CTG-3020  2.172211346           1.7882941             0.89518244          \n",
       "CTG-3064  2.678417210           1.8086074             1.44620487          \n",
       "CTG-3766  2.221153902           0.9270994             2.19063376          \n",
       "CTG-3793  1.176579925           2.3304062             1.29816503          \n",
       "CTG-3794  2.651848394           1.0945693             1.99042750          \n",
       "CTG-3795  0.867542643           2.2339178             1.45325439          \n",
       "CTG-3796  2.594515685           1.7489370             0.93018030          \n",
       "CTG-3797  0.667577344           2.6770024             0.65806898          \n",
       "CTG-3799  0.568293873           2.2224916             2.41057866          \n",
       "CTG-3800 -0.177031334           0.8640375             1.14440463          \n",
       "CTG-3801  1.250692938           1.7819462             0.88083369          \n",
       "CTG-3802  0.572488950           2.7265161             1.21383720          \n",
       "CTG-3803  1.014311585           0.8006191             1.01336459          \n",
       "CTG-3805 -0.402167091           2.5614703             0.88788320          \n",
       "         sp|Q9Y5X3|SNX5_HUMAN sp|Q9Y678|COPG1_HUMAN\n",
       "CTG-0158  0.40415286           0.174003344         \n",
       "CTG-0159 -0.82719375           0.838111041         \n",
       "CTG-0160  0.01204807           0.103659711         \n",
       "CTG-0162 -0.38968736           2.550996683         \n",
       "CTG-0163  0.18264805           0.239490505         \n",
       "CTG-0166  0.21016417          -0.025213351         \n",
       "CTG-0167 -0.10076804           0.272571005         \n",
       "CTG-0178 -0.56441475           0.729257096         \n",
       "CTG-0184 -0.11173088           0.851874184         \n",
       "CTG-0464  0.10361908           1.233488589         \n",
       "CTG-0502  0.65179798           0.711740369         \n",
       "CTG-0743  0.17576902           0.316607250         \n",
       "CTG-0828 -0.13929062           0.132437190         \n",
       "CTG-0838 -0.92212438          -0.006445429         \n",
       "CTG-0848  0.08112173           1.341091339         \n",
       "CTG-0852  0.36425447           1.307309081         \n",
       "CTG-0860 -0.07737934           1.308560275         \n",
       "CTG-0924  0.04506742           1.268522043         \n",
       "CTG-1012 -0.01684386          -0.420590898         \n",
       "CTG-1014 -0.33052769           1.084596411         \n",
       "CTG-1194 -1.33899368           0.755532186         \n",
       "CTG-1212  0.10835451           0.153707502         \n",
       "CTG-1217  0.25418997           1.145904955         \n",
       "CTG-1253  0.08912841           0.662943773         \n",
       "CTG-1309  0.73021894           1.705189018         \n",
       "CTG-1329  0.68619314           1.462457232         \n",
       "CTG-1352 -0.11727772          -0.438107625         \n",
       "CTG-1354 -0.15992771          -0.232911683         \n",
       "CTG-1355  0.32298029           0.311358043         \n",
       "CTG-1356 -0.67447926          -0.563227102         \n",
       "...      ...                  ...                  \n",
       "CTG-3670 -1.5206001           -1.48160406          \n",
       "CTG-3673 -3.3985757           -2.23232093          \n",
       "CTG-3674 -1.3472485           -1.37275012          \n",
       "CTG-3679 -1.6953275           -0.97361899          \n",
       "CTG-3680 -0.5000750           -1.05619784          \n",
       "CTG-2242 -2.5221871           -0.60451653          \n",
       "CTG-2452 -2.9321773           -1.81066829          \n",
       "CTG-2453 -1.4132872           -1.18381971          \n",
       "CTG-2701 -1.5398614           -1.11500400          \n",
       "CTG-2703 -0.6208228           -0.81721964          \n",
       "CTG-2704 -2.1507194           -2.00960826          \n",
       "CTG-2237 -3.2596192           -2.04339052          \n",
       "CTG-2700 -0.7652825           -2.11595981          \n",
       "CTG-2602 -0.5396502           -1.05744904          \n",
       "CTG-3440 -0.7831680           -1.54666619          \n",
       "CTG-2716  2.1885736           -0.59951175          \n",
       "CTG-3020  2.7003735            0.42771916          \n",
       "CTG-3064  1.5625817            0.03859758          \n",
       "CTG-3766  1.5158043           -0.40702477          \n",
       "CTG-3793  2.1321655           -0.43935882          \n",
       "CTG-3794  0.7123348            0.08364059          \n",
       "CTG-3795  2.6343348           -0.19037106          \n",
       "CTG-3796  0.6524785           -0.59075339          \n",
       "CTG-3797  2.0743817            0.21251366          \n",
       "CTG-3799  2.0110946           -0.31674173          \n",
       "CTG-3800  1.7524430           -1.20634121          \n",
       "CTG-3801  1.9739478           -0.49065781          \n",
       "CTG-3802  1.4566446            0.31135804          \n",
       "CTG-3803  1.6079833           -0.18911987          \n",
       "CTG-3805  1.0480302           -1.12251117          "
      ]
     },
     "metadata": {},
     "output_type": "display_data"
    }
   ],
   "source": [
    "as.data.frame(completeObs(imp_bpca))"
   ]
  },
  {
   "cell_type": "code",
   "execution_count": 11,
   "id": "46bc9b6e",
   "metadata": {},
   "outputs": [
    {
     "data": {
      "text/html": [
       "<ol class=list-inline>\n",
       "\t<li>317</li>\n",
       "\t<li>295</li>\n",
       "</ol>\n"
      ],
      "text/latex": [
       "\\begin{enumerate*}\n",
       "\\item 317\n",
       "\\item 295\n",
       "\\end{enumerate*}\n"
      ],
      "text/markdown": [
       "1. 317\n",
       "2. 295\n",
       "\n",
       "\n"
      ],
      "text/plain": [
       "[1] 317 295"
      ]
     },
     "metadata": {},
     "output_type": "display_data"
    }
   ],
   "source": [
    "dim(as.data.frame(completeObs(imp_bpca)))"
   ]
  }
 ],
 "metadata": {
  "kernelspec": {
   "display_name": "R",
   "language": "R",
   "name": "ir"
  },
  "language_info": {
   "codemirror_mode": "r",
   "file_extension": ".r",
   "mimetype": "text/x-r-source",
   "name": "R",
   "pygments_lexer": "r",
   "version": "3.6.1"
  }
 },
 "nbformat": 4,
 "nbformat_minor": 5
}

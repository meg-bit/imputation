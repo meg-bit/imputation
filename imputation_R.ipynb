{
 "cells": [
  {
   "cell_type": "code",
   "execution_count": 7,
   "id": "e103e923",
   "metadata": {},
   "outputs": [],
   "source": [
    "suppressWarnings(require('pkgmaker',quietly = T))\n",
    "require('plyr',quietly = T)\n",
    "l_ply(c('dplyr',\n",
    "        'data.table',\n",
    "#         'jsonlite', \n",
    "#         'rjson',\n",
    "#         'httr',\n",
    "#         'DEqMS', \n",
    "#         'pcaMethods',\n",
    "#         'RMariaDB',\n",
    "#         'parmigene',\n",
    "#         'matrixTests',\n",
    "#         'plotly',\n",
    "        'tidyr',  \n",
    "        'reshape2',\n",
    "        'factoextra',\n",
    "        'kableExtra',\n",
    "        'parallel',\n",
    "        'doParallel',\n",
    "        'scales',\n",
    "        'StatMatch',\n",
    "        'lattice',\n",
    "        'utils',\n",
    "        'missMDA',\n",
    "        'missForest',\n",
    "        'pacman',\n",
    "        'hablar',\n",
    "        'tibble'\n",
    "       ), function(pkg) {\n",
    "          invisible(capture.output(irequire(pkg, quiet = T, autoinstall = T)))\n",
    "        })"
   ]
  },
  {
   "cell_type": "markdown",
   "id": "9cfba8ab",
   "metadata": {},
   "source": [
    "## Protein_intensity table"
   ]
  },
  {
   "cell_type": "markdown",
   "id": "fc1a022f",
   "metadata": {},
   "source": [
    "From /general_analysis/DataBaseUpload/NGS/Proteomics/bin/PhosphoProteomics_PreProccess.html:\n",
    "\n",
    "Outlayiers: very low/high values (0.0001% and 99.9999%) were floored to these ranges. This believed to be an error and unlikely to be real value.\n",
    "\n",
    "Possible reason: the original data have Inf. The R language calculated it to some extreme values."
   ]
  },
  {
   "cell_type": "code",
   "execution_count": 5,
   "id": "79372130",
   "metadata": {},
   "outputs": [],
   "source": [
    "# from /general_analysis/DataBaseUpload/NGS/Proteomics/bin/PhosphoProteomics_PreProccess.html\n",
    "# `Counts` are just 2 to the power of Intensity. This is for DE analysis where counts are needed\n",
    "# note: without filtering, the dimension is 1330824 rows\n",
    "intensity <- read.csv(\"../proteomics/data/Protein_intensity.csv\") \n",
    "# %>% filter(Intensity > -3.0) # remove values that are too small - think if this is necessary"
   ]
  },
  {
   "cell_type": "code",
   "execution_count": 12,
   "id": "25a0900f",
   "metadata": {},
   "outputs": [
    {
     "data": {
      "text/html": [
       "<table>\n",
       "<thead><tr><th scope=col>id</th><th scope=col>Protein</th><th scope=col>ProteinGroup</th><th scope=col>ProteinGroupName</th><th scope=col>ProteinGroupId</th><th scope=col>Organism</th><th scope=col>Sample</th><th scope=col>Intensity</th><th scope=col>counts</th><th scope=col>hgnc_symbol</th></tr></thead>\n",
       "<tbody>\n",
       "\t<tr><td>45243                    </td><td>sp|A0A087WV62|TVB16_HUMAN</td><td>sp|A0A087WV62|TVB16_HUMAN</td><td>TVB16_HUMAN              </td><td>A0A087WV62               </td><td>NULL                     </td><td>CTG-0158                 </td><td>15.503                   </td><td>NULL                     </td><td>NULL                     </td></tr>\n",
       "\t<tr><td>45244                    </td><td>sp|A0A087WV62|TVB16_HUMAN</td><td>sp|A0A087WV62|TVB16_HUMAN</td><td>TVB16_HUMAN              </td><td>A0A087WV62               </td><td>NULL                     </td><td>CTG-0159                 </td><td>14.932                   </td><td>NULL                     </td><td>NULL                     </td></tr>\n",
       "</tbody>\n",
       "</table>\n"
      ],
      "text/latex": [
       "\\begin{tabular}{r|llllllllll}\n",
       " id & Protein & ProteinGroup & ProteinGroupName & ProteinGroupId & Organism & Sample & Intensity & counts & hgnc\\_symbol\\\\\n",
       "\\hline\n",
       "\t 45243                                           & sp\\textbar{}A0A087WV62\\textbar{}TVB16\\_HUMAN & sp\\textbar{}A0A087WV62\\textbar{}TVB16\\_HUMAN & TVB16\\_HUMAN                                   & A0A087WV62                                      & NULL                                            & CTG-0158                                        & 15.503                                          & NULL                                            & NULL                                           \\\\\n",
       "\t 45244                                           & sp\\textbar{}A0A087WV62\\textbar{}TVB16\\_HUMAN & sp\\textbar{}A0A087WV62\\textbar{}TVB16\\_HUMAN & TVB16\\_HUMAN                                   & A0A087WV62                                      & NULL                                            & CTG-0159                                        & 14.932                                          & NULL                                            & NULL                                           \\\\\n",
       "\\end{tabular}\n"
      ],
      "text/markdown": [
       "\n",
       "| id | Protein | ProteinGroup | ProteinGroupName | ProteinGroupId | Organism | Sample | Intensity | counts | hgnc_symbol |\n",
       "|---|---|---|---|---|---|---|---|---|---|\n",
       "| 45243                     | sp|A0A087WV62|TVB16_HUMAN | sp|A0A087WV62|TVB16_HUMAN | TVB16_HUMAN               | A0A087WV62                | NULL                      | CTG-0158                  | 15.503                    | NULL                      | NULL                      |\n",
       "| 45244                     | sp|A0A087WV62|TVB16_HUMAN | sp|A0A087WV62|TVB16_HUMAN | TVB16_HUMAN               | A0A087WV62                | NULL                      | CTG-0159                  | 14.932                    | NULL                      | NULL                      |\n",
       "\n"
      ],
      "text/plain": [
       "  id    Protein                   ProteinGroup              ProteinGroupName\n",
       "1 45243 sp|A0A087WV62|TVB16_HUMAN sp|A0A087WV62|TVB16_HUMAN TVB16_HUMAN     \n",
       "2 45244 sp|A0A087WV62|TVB16_HUMAN sp|A0A087WV62|TVB16_HUMAN TVB16_HUMAN     \n",
       "  ProteinGroupId Organism Sample   Intensity counts hgnc_symbol\n",
       "1 A0A087WV62     NULL     CTG-0158 15.503    NULL   NULL       \n",
       "2 A0A087WV62     NULL     CTG-0159 14.932    NULL   NULL       "
      ]
     },
     "metadata": {},
     "output_type": "display_data"
    },
    {
     "name": "stdout",
     "output_type": "stream",
     "text": [
      "[1] 1330824      10\n"
     ]
    }
   ],
   "source": [
    "head(intensity, 2)\n",
    "print(dim(intensity))"
   ]
  },
  {
   "cell_type": "code",
   "execution_count": 2,
   "id": "4b7e3a69",
   "metadata": {
    "scrolled": true
   },
   "outputs": [],
   "source": [
    "# intensity[intensity$Sample=='CTG-0166',]"
   ]
  },
  {
   "cell_type": "code",
   "execution_count": 3,
   "id": "58ae14a5",
   "metadata": {},
   "outputs": [],
   "source": [
    "# # check a case where there are repeats\n",
    "# # The intensity was not calculated differently between GAL3A and GAL3B\n",
    "# x <- intensity[intensity$Protein=='sp|A0A0B4J2D5|GAL3B_HUMAN',]\n",
    "# x[x$Sample=='CTG-0158',]"
   ]
  },
  {
   "cell_type": "code",
   "execution_count": 8,
   "id": "83423d93",
   "metadata": {},
   "outputs": [
    {
     "data": {
      "text/html": [
       "<table>\n",
       "<thead><tr><th></th><th scope=col>CTG-0158</th><th scope=col>CTG-0159</th><th scope=col>CTG-0160</th><th scope=col>CTG-0162</th><th scope=col>CTG-0163</th><th scope=col>CTG-0166</th><th scope=col>CTG-0167</th><th scope=col>CTG-0178</th><th scope=col>CTG-0184</th><th scope=col>CTG-0464</th><th scope=col>...</th><th scope=col>CTG-3794</th><th scope=col>CTG-3795</th><th scope=col>CTG-3796</th><th scope=col>CTG-3797</th><th scope=col>CTG-3799</th><th scope=col>CTG-3800</th><th scope=col>CTG-3801</th><th scope=col>CTG-3802</th><th scope=col>CTG-3803</th><th scope=col>CTG-3805</th></tr></thead>\n",
       "<tbody>\n",
       "\t<tr><th scope=row>sp|A0AVT1|UBA6_HUMAN</th><td>16.977</td><td>16.611</td><td>16.158</td><td>15.962</td><td>15.811</td><td>17.265</td><td>16.207</td><td>15.563</td><td>16.017</td><td>15.730</td><td>...   </td><td>17.734</td><td>17.635</td><td>18.581</td><td>17.966</td><td>17.589</td><td>17.744</td><td>18.102</td><td>17.237</td><td>17.769</td><td>18.153</td></tr>\n",
       "\t<tr><th scope=row>sp|O00170|AIP_HUMAN</th><td>17.204</td><td>16.658</td><td>16.086</td><td>17.218</td><td>15.891</td><td>16.885</td><td>16.563</td><td>15.533</td><td>15.924</td><td>16.724</td><td>...   </td><td>19.256</td><td>18.914</td><td>18.943</td><td>19.286</td><td>18.819</td><td>18.973</td><td>19.104</td><td>19.178</td><td>17.665</td><td>19.075</td></tr>\n",
       "</tbody>\n",
       "</table>\n"
      ],
      "text/latex": [
       "\\begin{tabular}{r|lllllllllllllllllllllllllllllllllllllllllllllllllllllllllllllllllllllllllllllllllllllllllllllllllllllllllllllllllllllllllllllllllllllllllllllllllllllllllllllllllllllllllllllllllllllllllllllllllllllllllllllllllllllllllllllllllllllllllllllllllllllllllllllllllllllllllllllllllllllllllllllllllllllllllllllllllllllllllllll}\n",
       "  & CTG-0158 & CTG-0159 & CTG-0160 & CTG-0162 & CTG-0163 & CTG-0166 & CTG-0167 & CTG-0178 & CTG-0184 & CTG-0464 & ... & CTG-3794 & CTG-3795 & CTG-3796 & CTG-3797 & CTG-3799 & CTG-3800 & CTG-3801 & CTG-3802 & CTG-3803 & CTG-3805\\\\\n",
       "\\hline\n",
       "\tsp\\textbar{}A0AVT1\\textbar{}UBA6\\_HUMAN & 16.977 & 16.611 & 16.158 & 15.962 & 15.811 & 17.265 & 16.207 & 15.563 & 16.017 & 15.730 & ...    & 17.734 & 17.635 & 18.581 & 17.966 & 17.589 & 17.744 & 18.102 & 17.237 & 17.769 & 18.153\\\\\n",
       "\tsp\\textbar{}O00170\\textbar{}AIP\\_HUMAN & 17.204 & 16.658 & 16.086 & 17.218 & 15.891 & 16.885 & 16.563 & 15.533 & 15.924 & 16.724 & ...    & 19.256 & 18.914 & 18.943 & 19.286 & 18.819 & 18.973 & 19.104 & 19.178 & 17.665 & 19.075\\\\\n",
       "\\end{tabular}\n"
      ],
      "text/markdown": [
       "\n",
       "| <!--/--> | CTG-0158 | CTG-0159 | CTG-0160 | CTG-0162 | CTG-0163 | CTG-0166 | CTG-0167 | CTG-0178 | CTG-0184 | CTG-0464 | ... | CTG-3794 | CTG-3795 | CTG-3796 | CTG-3797 | CTG-3799 | CTG-3800 | CTG-3801 | CTG-3802 | CTG-3803 | CTG-3805 |\n",
       "|---|---|---|---|---|---|---|---|---|---|---|---|---|---|---|---|---|---|---|---|---|---|\n",
       "| sp|A0AVT1|UBA6_HUMAN | 16.977 | 16.611 | 16.158 | 15.962 | 15.811 | 17.265 | 16.207 | 15.563 | 16.017 | 15.730 | ...    | 17.734 | 17.635 | 18.581 | 17.966 | 17.589 | 17.744 | 18.102 | 17.237 | 17.769 | 18.153 |\n",
       "| sp|O00170|AIP_HUMAN | 17.204 | 16.658 | 16.086 | 17.218 | 15.891 | 16.885 | 16.563 | 15.533 | 15.924 | 16.724 | ...    | 19.256 | 18.914 | 18.943 | 19.286 | 18.819 | 18.973 | 19.104 | 19.178 | 17.665 | 19.075 |\n",
       "\n"
      ],
      "text/plain": [
       "                     CTG-0158 CTG-0159 CTG-0160 CTG-0162 CTG-0163 CTG-0166\n",
       "sp|A0AVT1|UBA6_HUMAN 16.977   16.611   16.158   15.962   15.811   17.265  \n",
       "sp|O00170|AIP_HUMAN  17.204   16.658   16.086   17.218   15.891   16.885  \n",
       "                     CTG-0167 CTG-0178 CTG-0184 CTG-0464 ... CTG-3794 CTG-3795\n",
       "sp|A0AVT1|UBA6_HUMAN 16.207   15.563   16.017   15.730   ... 17.734   17.635  \n",
       "sp|O00170|AIP_HUMAN  16.563   15.533   15.924   16.724   ... 19.256   18.914  \n",
       "                     CTG-3796 CTG-3797 CTG-3799 CTG-3800 CTG-3801 CTG-3802\n",
       "sp|A0AVT1|UBA6_HUMAN 18.581   17.966   17.589   17.744   18.102   17.237  \n",
       "sp|O00170|AIP_HUMAN  18.943   19.286   18.819   18.973   19.104   19.178  \n",
       "                     CTG-3803 CTG-3805\n",
       "sp|A0AVT1|UBA6_HUMAN 17.769   18.153  \n",
       "sp|O00170|AIP_HUMAN  17.665   19.075  "
      ]
     },
     "metadata": {},
     "output_type": "display_data"
    },
    {
     "name": "stdout",
     "output_type": "stream",
     "text": [
      "[1] 295 317\n"
     ]
    }
   ],
   "source": [
    "int_mtx <- intensity %>% \n",
    "    select(c('ProteinGroup', 'Sample', 'Intensity'))  %>% \n",
    "    pivot_wider(names_from = Sample, values_from = Intensity, values_fn = mean) %>% \n",
    "#     pivot_wider(names_from = Sample, values_from = Intensity) %>% \n",
    "    column_to_rownames('ProteinGroup') %>% \n",
    "    na.omit\n",
    "head(int_mtx, 2)\n",
    "print(dim(int_mtx))"
   ]
  },
  {
   "cell_type": "code",
   "execution_count": 9,
   "id": "6b11f62b",
   "metadata": {},
   "outputs": [],
   "source": [
    "rm(intensity)  # release memory since using int_mtx from here on"
   ]
  },
  {
   "cell_type": "markdown",
   "id": "18e9e20b",
   "metadata": {},
   "source": [
    "The intensity is already in log-scale because it has negative values."
   ]
  },
  {
   "cell_type": "markdown",
   "id": "6b14f7cf",
   "metadata": {},
   "source": [
    "## Standardize the data before imputation\n",
    "\n",
    "*Standardizing the data makes it more interpretable for the errors after imputation.*\n",
    "\n",
    "Missing values in proteomic data can be generally characterized into missing at random (MAR) and missing not at random (MNAR). \n",
    "+ MAR missing values mostly result from technical limitations and stochastic fluctuations in an abundance-independent manner.\n",
    "+ MNAR missing values are more abundance-dependent that can be explained by the measurability of the corresponding peptides. \n",
    "\n",
    "Missing values in proteomic data are a mixture of MAR and MNAR. Although the real proportion is difficult to determine, it is believed that MNAR plays a dominant role in producing missing values."
   ]
  },
  {
   "cell_type": "code",
   "execution_count": 10,
   "id": "dc71f368",
   "metadata": {},
   "outputs": [
    {
     "data": {
      "text/html": [
       "<table>\n",
       "<thead><tr><th></th><th scope=col>CTG-0158</th><th scope=col>CTG-0159</th><th scope=col>CTG-0160</th><th scope=col>CTG-0162</th><th scope=col>CTG-0163</th><th scope=col>CTG-0166</th><th scope=col>CTG-0167</th><th scope=col>CTG-0178</th><th scope=col>CTG-0184</th><th scope=col>CTG-0464</th><th scope=col>...</th><th scope=col>CTG-3794</th><th scope=col>CTG-3795</th><th scope=col>CTG-3796</th><th scope=col>CTG-3797</th><th scope=col>CTG-3799</th><th scope=col>CTG-3800</th><th scope=col>CTG-3801</th><th scope=col>CTG-3802</th><th scope=col>CTG-3803</th><th scope=col>CTG-3805</th></tr></thead>\n",
       "<tbody>\n",
       "\t<tr><th scope=row>sp|A0AVT1|UBA6_HUMAN</th><td>-0.9964477</td><td>-1.182967 </td><td>-1.199136 </td><td>-1.5914926</td><td>-1.485159 </td><td>-0.9319049</td><td>-1.173063 </td><td>-1.410807 </td><td>-1.534753 </td><td>-1.667383 </td><td>...       </td><td>-0.9363064</td><td>-0.8872636</td><td>-0.5128011</td><td>-0.8438012</td><td>-0.8842406</td><td>-0.8417557</td><td>-0.6071568</td><td>-1.1700559</td><td>-0.7766287</td><td>-0.6649630</td></tr>\n",
       "\t<tr><th scope=row>sp|O00170|AIP_HUMAN</th><td>-0.8824764</td><td>-1.158639 </td><td>-1.233628 </td><td>-0.9642764</td><td>-1.445858 </td><td>-1.1266279</td><td>-1.001664 </td><td>-1.425311 </td><td>-1.583753 </td><td>-1.160003 </td><td>...       </td><td>-0.2431012</td><td>-0.3241733</td><td>-0.3522243</td><td>-0.2294483</td><td>-0.3559474</td><td>-0.2924846</td><td>-0.1695374</td><td>-0.2883464</td><td>-0.8231882</td><td>-0.2579414</td></tr>\n",
       "</tbody>\n",
       "</table>\n"
      ],
      "text/latex": [
       "\\begin{tabular}{r|lllllllllllllllllllllllllllllllllllllllllllllllllllllllllllllllllllllllllllllllllllllllllllllllllllllllllllllllllllllllllllllllllllllllllllllllllllllllllllllllllllllllllllllllllllllllllllllllllllllllllllllllllllllllllllllllllllllllllllllllllllllllllllllllllllllllllllllllllllllllllllllllllllllllllllllllllllllllllllll}\n",
       "  & CTG-0158 & CTG-0159 & CTG-0160 & CTG-0162 & CTG-0163 & CTG-0166 & CTG-0167 & CTG-0178 & CTG-0184 & CTG-0464 & ... & CTG-3794 & CTG-3795 & CTG-3796 & CTG-3797 & CTG-3799 & CTG-3800 & CTG-3801 & CTG-3802 & CTG-3803 & CTG-3805\\\\\n",
       "\\hline\n",
       "\tsp\\textbar{}A0AVT1\\textbar{}UBA6\\_HUMAN & -0.9964477 & -1.182967  & -1.199136  & -1.5914926 & -1.485159  & -0.9319049 & -1.173063  & -1.410807  & -1.534753  & -1.667383  & ...        & -0.9363064 & -0.8872636 & -0.5128011 & -0.8438012 & -0.8842406 & -0.8417557 & -0.6071568 & -1.1700559 & -0.7766287 & -0.6649630\\\\\n",
       "\tsp\\textbar{}O00170\\textbar{}AIP\\_HUMAN & -0.8824764 & -1.158639  & -1.233628  & -0.9642764 & -1.445858  & -1.1266279 & -1.001664  & -1.425311  & -1.583753  & -1.160003  & ...        & -0.2431012 & -0.3241733 & -0.3522243 & -0.2294483 & -0.3559474 & -0.2924846 & -0.1695374 & -0.2883464 & -0.8231882 & -0.2579414\\\\\n",
       "\\end{tabular}\n"
      ],
      "text/markdown": [
       "\n",
       "| <!--/--> | CTG-0158 | CTG-0159 | CTG-0160 | CTG-0162 | CTG-0163 | CTG-0166 | CTG-0167 | CTG-0178 | CTG-0184 | CTG-0464 | ... | CTG-3794 | CTG-3795 | CTG-3796 | CTG-3797 | CTG-3799 | CTG-3800 | CTG-3801 | CTG-3802 | CTG-3803 | CTG-3805 |\n",
       "|---|---|---|---|---|---|---|---|---|---|---|---|---|---|---|---|---|---|---|---|---|---|\n",
       "| sp|A0AVT1|UBA6_HUMAN | -0.9964477 | -1.182967  | -1.199136  | -1.5914926 | -1.485159  | -0.9319049 | -1.173063  | -1.410807  | -1.534753  | -1.667383  | ...        | -0.9363064 | -0.8872636 | -0.5128011 | -0.8438012 | -0.8842406 | -0.8417557 | -0.6071568 | -1.1700559 | -0.7766287 | -0.6649630 |\n",
       "| sp|O00170|AIP_HUMAN | -0.8824764 | -1.158639  | -1.233628  | -0.9642764 | -1.445858  | -1.1266279 | -1.001664  | -1.425311  | -1.583753  | -1.160003  | ...        | -0.2431012 | -0.3241733 | -0.3522243 | -0.2294483 | -0.3559474 | -0.2924846 | -0.1695374 | -0.2883464 | -0.8231882 | -0.2579414 |\n",
       "\n"
      ],
      "text/plain": [
       "                     CTG-0158   CTG-0159  CTG-0160  CTG-0162   CTG-0163 \n",
       "sp|A0AVT1|UBA6_HUMAN -0.9964477 -1.182967 -1.199136 -1.5914926 -1.485159\n",
       "sp|O00170|AIP_HUMAN  -0.8824764 -1.158639 -1.233628 -0.9642764 -1.445858\n",
       "                     CTG-0166   CTG-0167  CTG-0178  CTG-0184  CTG-0464  ...\n",
       "sp|A0AVT1|UBA6_HUMAN -0.9319049 -1.173063 -1.410807 -1.534753 -1.667383 ...\n",
       "sp|O00170|AIP_HUMAN  -1.1266279 -1.001664 -1.425311 -1.583753 -1.160003 ...\n",
       "                     CTG-3794   CTG-3795   CTG-3796   CTG-3797   CTG-3799  \n",
       "sp|A0AVT1|UBA6_HUMAN -0.9363064 -0.8872636 -0.5128011 -0.8438012 -0.8842406\n",
       "sp|O00170|AIP_HUMAN  -0.2431012 -0.3241733 -0.3522243 -0.2294483 -0.3559474\n",
       "                     CTG-3800   CTG-3801   CTG-3802   CTG-3803   CTG-3805  \n",
       "sp|A0AVT1|UBA6_HUMAN -0.8417557 -0.6071568 -1.1700559 -0.7766287 -0.6649630\n",
       "sp|O00170|AIP_HUMAN  -0.2924846 -0.1695374 -0.2883464 -0.8231882 -0.2579414"
      ]
     },
     "metadata": {},
     "output_type": "display_data"
    }
   ],
   "source": [
    "int_z <- int_mtx %>%\n",
    "    sweep(2, apply(int_mtx, 2, mean), '-')  %>% # column wise sweeping\n",
    "    sweep(2, apply(int_mtx, 2, sd), '/')\n",
    "head(int_z, 2)"
   ]
  }
 ],
 "metadata": {
  "kernelspec": {
   "display_name": "R",
   "language": "R",
   "name": "ir"
  },
  "language_info": {
   "codemirror_mode": "r",
   "file_extension": ".r",
   "mimetype": "text/x-r-source",
   "name": "R",
   "pygments_lexer": "r",
   "version": "3.6.1"
  }
 },
 "nbformat": 4,
 "nbformat_minor": 5
}
